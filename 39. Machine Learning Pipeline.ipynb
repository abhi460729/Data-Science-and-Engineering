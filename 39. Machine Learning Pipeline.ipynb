{
 "cells": [
  {
   "cell_type": "markdown",
   "id": "50d2dcd6",
   "metadata": {},
   "source": [
    "### Machine Learning Pipeline\n",
    "- Data Generation/ Collection\n",
    "- Data Cleaning/ Feature Engineering\n",
    "- Algorithms to find interesting patterns\n",
    "- Deployment"
   ]
  },
  {
   "cell_type": "markdown",
   "id": "33f0ac16",
   "metadata": {},
   "source": [
    "#### 1. Data Generation/ Collection\n",
    "\n",
    "- Data Generation (Manual, Sklearn)\n",
    "- Data Collection (Collect from already available sources, Scraping)\n",
    "\n",
    "#### 2. Data Cleaning/ Feature Engineering\n",
    "- Data Cleaning - Y = 5 columns, X = 2 columns needed (data cleaning needs to be done)\n",
    "- Feature Engineering - Depends on the form of data? Table, Image, Speech, Text and Dictionary\n",
    "- i.e. We will preprocess the data.\n",
    "\n",
    "#### 3. We are going to build algorithms and projects\n",
    "\n",
    "#### 4. Deploy our model on web"
   ]
  },
  {
   "cell_type": "code",
   "execution_count": null,
   "id": "ad52fb4c",
   "metadata": {},
   "outputs": [],
   "source": []
  }
 ],
 "metadata": {
  "kernelspec": {
   "display_name": "Python 3",
   "language": "python",
   "name": "python3"
  },
  "language_info": {
   "codemirror_mode": {
    "name": "ipython",
    "version": 3
   },
   "file_extension": ".py",
   "mimetype": "text/x-python",
   "name": "python",
   "nbconvert_exporter": "python",
   "pygments_lexer": "ipython3",
   "version": "3.8.8"
  }
 },
 "nbformat": 4,
 "nbformat_minor": 5
}
