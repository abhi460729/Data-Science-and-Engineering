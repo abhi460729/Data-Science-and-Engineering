{
 "cells": [
  {
   "cell_type": "markdown",
   "id": "0a841501",
   "metadata": {},
   "source": [
    "In this technique there is no supervision i.e. we do not get any labelled data.\n",
    "\n",
    "Algorithm has to find pattern on its own. By pattern, I mean grouping similar data togeather(also known as clustering).\n",
    "\n",
    "Find patterns.\n",
    "\n",
    "Only X is there no Y."
   ]
  },
  {
   "cell_type": "markdown",
   "id": "77c85275",
   "metadata": {},
   "source": [
    "Semi Supervised Learning - Refer Notes"
   ]
  },
  {
   "cell_type": "code",
   "execution_count": null,
   "id": "9c123d6c",
   "metadata": {},
   "outputs": [],
   "source": []
  }
 ],
 "metadata": {
  "kernelspec": {
   "display_name": "Python 3",
   "language": "python",
   "name": "python3"
  },
  "language_info": {
   "codemirror_mode": {
    "name": "ipython",
    "version": 3
   },
   "file_extension": ".py",
   "mimetype": "text/x-python",
   "name": "python",
   "nbconvert_exporter": "python",
   "pygments_lexer": "ipython3",
   "version": "3.8.8"
  }
 },
 "nbformat": 4,
 "nbformat_minor": 5
}
