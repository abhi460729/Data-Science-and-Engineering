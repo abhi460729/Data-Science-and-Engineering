{
 "cells": [
  {
   "cell_type": "code",
   "execution_count": 19,
   "id": "7c728696",
   "metadata": {},
   "outputs": [],
   "source": [
    "# I am going to create an authentication system that has to validate the user credentials\n",
    "users = {\n",
    "    \"jatin\":\"password\",\n",
    "    \"prateek\":\"coding blocks\"\n",
    "}"
   ]
  },
  {
   "cell_type": "code",
   "execution_count": 20,
   "id": "f46c4bc2",
   "metadata": {},
   "outputs": [],
   "source": [
    "def show(username,password):\n",
    "    if username in users and users[username]==password:\n",
    "        print(\"Hello World\")\n",
    "    else:\n",
    "        print(\"Not Authenticated\")"
   ]
  },
  {
   "cell_type": "code",
   "execution_count": 21,
   "id": "bf0abc9c",
   "metadata": {},
   "outputs": [
    {
     "name": "stdout",
     "output_type": "stream",
     "text": [
      "Hello World\n"
     ]
    }
   ],
   "source": [
    "show(\"jatin\", \"password\")"
   ]
  },
  {
   "cell_type": "code",
   "execution_count": 22,
   "id": "9b7809f7",
   "metadata": {},
   "outputs": [
    {
     "name": "stdout",
     "output_type": "stream",
     "text": [
      "Not Authenticated\n"
     ]
    }
   ],
   "source": [
    "show(\"rohan\", \"password\")"
   ]
  },
  {
   "cell_type": "code",
   "execution_count": 23,
   "id": "ecf1fa2b",
   "metadata": {},
   "outputs": [],
   "source": [
    "def add(username, password, a,b):\n",
    "    if username in users and users[username]==password:\n",
    "        print(a+b)\n",
    "    else:\n",
    "        print(\"Not Authenticated\")"
   ]
  },
  {
   "cell_type": "code",
   "execution_count": 25,
   "id": "d74cc0ae",
   "metadata": {},
   "outputs": [
    {
     "name": "stdout",
     "output_type": "stream",
     "text": [
      "3\n"
     ]
    }
   ],
   "source": [
    "add(\"jatin\",\"password\",1,2)"
   ]
  },
  {
   "cell_type": "code",
   "execution_count": 26,
   "id": "645785b9",
   "metadata": {},
   "outputs": [
    {
     "name": "stdout",
     "output_type": "stream",
     "text": [
      "Not Authenticated\n"
     ]
    }
   ],
   "source": [
    "add(\"jatin\",\"passowrd\",1,2)"
   ]
  },
  {
   "cell_type": "code",
   "execution_count": null,
   "id": "a587c384",
   "metadata": {},
   "outputs": [],
   "source": []
  },
  {
   "cell_type": "code",
   "execution_count": 27,
   "id": "7b746fcc",
   "metadata": {},
   "outputs": [],
   "source": [
    "def temp(*args, ** kwargs):\n",
    "    print(args)\n",
    "    print(kwargs)"
   ]
  },
  {
   "cell_type": "code",
   "execution_count": 28,
   "id": "b20b0dc1",
   "metadata": {},
   "outputs": [],
   "source": [
    "a = (1,2,3)"
   ]
  },
  {
   "cell_type": "code",
   "execution_count": 29,
   "id": "017ab12f",
   "metadata": {},
   "outputs": [
    {
     "name": "stdout",
     "output_type": "stream",
     "text": [
      "((1, 2, 3),)\n",
      "{}\n"
     ]
    }
   ],
   "source": [
    "temp(a)\n",
    "#tuple is given as an output"
   ]
  },
  {
   "cell_type": "code",
   "execution_count": 30,
   "id": "5192b75d",
   "metadata": {},
   "outputs": [
    {
     "name": "stdout",
     "output_type": "stream",
     "text": [
      "(1, 2, 3)\n",
      "{}\n"
     ]
    }
   ],
   "source": [
    "temp(*a)\n",
    "#tuple will be inflated into the positional arguments"
   ]
  },
  {
   "cell_type": "code",
   "execution_count": 31,
   "id": "b9079e09",
   "metadata": {},
   "outputs": [],
   "source": [
    "def login_required(func):\n",
    "    def wrapper(username, password, *args, **kwargs):\n",
    "        if username in users and users[username]==password:\n",
    "            #User is authenticated\n",
    "            #func(args), if args is given inside the braces then it is going to pass single tuple object as an argument. \n",
    "            func(*args,**kwargs)# if *args is used then it is going to inflate the tuple into positional arguments.\n",
    "        else:\n",
    "            print(\"Not Authenticated\")\n",
    "    return wrapper"
   ]
  },
  {
   "cell_type": "code",
   "execution_count": 32,
   "id": "256a02ae",
   "metadata": {},
   "outputs": [],
   "source": [
    "def add(a,b):\n",
    "    print(a+b)"
   ]
  },
  {
   "cell_type": "code",
   "execution_count": 33,
   "id": "25163c25",
   "metadata": {},
   "outputs": [
    {
     "name": "stdout",
     "output_type": "stream",
     "text": [
      "3\n"
     ]
    }
   ],
   "source": [
    "add(1,2)"
   ]
  },
  {
   "cell_type": "code",
   "execution_count": 34,
   "id": "c2467ce7",
   "metadata": {},
   "outputs": [],
   "source": [
    "protected_add = login_required(add)"
   ]
  },
  {
   "cell_type": "code",
   "execution_count": 35,
   "id": "8b6a3487",
   "metadata": {},
   "outputs": [
    {
     "name": "stdout",
     "output_type": "stream",
     "text": [
      "<class 'function'>\n"
     ]
    }
   ],
   "source": [
    "print(type(protected_add))"
   ]
  },
  {
   "cell_type": "code",
   "execution_count": 37,
   "id": "e08cdb33",
   "metadata": {},
   "outputs": [
    {
     "name": "stdout",
     "output_type": "stream",
     "text": [
      "3\n"
     ]
    }
   ],
   "source": [
    "protected_add(\"jatin\",\"password\",1,2)"
   ]
  },
  {
   "cell_type": "code",
   "execution_count": 38,
   "id": "904e5a60",
   "metadata": {},
   "outputs": [
    {
     "name": "stdout",
     "output_type": "stream",
     "text": [
      "Not Authenticated\n"
     ]
    }
   ],
   "source": [
    "protected_add(\"jatin\",\"password123\",1,2)"
   ]
  },
  {
   "cell_type": "code",
   "execution_count": null,
   "id": "acebc694",
   "metadata": {},
   "outputs": [],
   "source": [
    "##############################################################"
   ]
  },
  {
   "cell_type": "code",
   "execution_count": 45,
   "id": "94f7e628",
   "metadata": {},
   "outputs": [],
   "source": [
    "def add(a,b):\n",
    "    print(a+b)\n",
    "add = login_required(add)"
   ]
  },
  {
   "cell_type": "code",
   "execution_count": 46,
   "id": "cf547c22",
   "metadata": {},
   "outputs": [],
   "source": [
    "#Introduction to decorators in python"
   ]
  },
  {
   "cell_type": "code",
   "execution_count": 50,
   "id": "1f3a8ede",
   "metadata": {},
   "outputs": [],
   "source": [
    "@login_required\n",
    "def add(a,b):\n",
    "    print(a+b)\n",
    "#Exactly the same behaviour as the one above the cell. It takes the function add and then passes it to the login_required to modify the add function and then return the function to the add variable "
   ]
  },
  {
   "cell_type": "code",
   "execution_count": 51,
   "id": "62c56660",
   "metadata": {},
   "outputs": [
    {
     "name": "stdout",
     "output_type": "stream",
     "text": [
      "3\n"
     ]
    }
   ],
   "source": [
    "add(\"prateek\",\"coding blocks\",1,2)"
   ]
  },
  {
   "cell_type": "markdown",
   "id": "ac063efb",
   "metadata": {},
   "source": [
    "### Concepts of args and kwargs\n",
    "args - non keyword arguments\n",
    "\n",
    "kwargs - keyword arguments"
   ]
  },
  {
   "cell_type": "code",
   "execution_count": 52,
   "id": "9b865512",
   "metadata": {},
   "outputs": [],
   "source": [
    "# It helps us to accept variable number of arguments"
   ]
  },
  {
   "cell_type": "code",
   "execution_count": 53,
   "id": "55f08f27",
   "metadata": {},
   "outputs": [],
   "source": [
    "# args - 1,2,3,4\n",
    "# kwargs - key-value pairs"
   ]
  },
  {
   "cell_type": "code",
   "execution_count": 56,
   "id": "29495023",
   "metadata": {},
   "outputs": [
    {
     "name": "stdout",
     "output_type": "stream",
     "text": [
      "(1, 2, 3, 4)\n"
     ]
    }
   ],
   "source": [
    "def fun(*args):\n",
    "    print(args)\n",
    "    \n",
    "fun(1,2,3,4)"
   ]
  },
  {
   "cell_type": "code",
   "execution_count": 60,
   "id": "f478a1b8",
   "metadata": {},
   "outputs": [
    {
     "name": "stdout",
     "output_type": "stream",
     "text": [
      "1\n",
      "2\n",
      "(3, 4, 10, 14)\n",
      "<class 'tuple'>\n"
     ]
    }
   ],
   "source": [
    "def fun(a,b,*args):\n",
    "    print(a)\n",
    "    print(b)\n",
    "    print(args)\n",
    "    print(type(args))\n",
    "    \n",
    "fun(1,2,3,4,10,14)"
   ]
  },
  {
   "cell_type": "code",
   "execution_count": 61,
   "id": "30a8c79b",
   "metadata": {},
   "outputs": [
    {
     "name": "stdout",
     "output_type": "stream",
     "text": [
      "1\n",
      "2\n",
      "(3, 4, 10, 14)\n",
      "<class 'tuple'>\n"
     ]
    }
   ],
   "source": [
    "def fun(a,b,*x):\n",
    "    print(a)\n",
    "    print(b)\n",
    "    print(x)\n",
    "    print(type(x))\n",
    "    \n",
    "fun(1,2,3,4,10,14)\n",
    "# it can be named anything like x"
   ]
  },
  {
   "cell_type": "code",
   "execution_count": 66,
   "id": "5a7bc45e",
   "metadata": {},
   "outputs": [
    {
     "name": "stdout",
     "output_type": "stream",
     "text": [
      "1\n",
      "2\n",
      "(3, 4, 10, 14)\n",
      "<class 'tuple'>\n",
      "{'shake': 'OreoShake', 'drink': 'lemonade', 'fruit': 'Mango'}\n",
      "<class 'dict'>\n"
     ]
    }
   ],
   "source": [
    "def fun(a,b,*x,**kwargs):\n",
    "    print(a)\n",
    "    print(b)\n",
    "    print(x)\n",
    "    print(type(x))\n",
    "    print(kwargs)\n",
    "    print(type(kwargs))\n",
    "    \n",
    "fun(1,2,3,4,10,14,shake=\"OreoShake\",drink=\"lemonade\",fruit=\"Mango\")\n",
    "# it can be named anything like x\n",
    "# kwargs accepts all the key value pairs"
   ]
  },
  {
   "cell_type": "code",
   "execution_count": 68,
   "id": "a52bc603",
   "metadata": {},
   "outputs": [
    {
     "name": "stdout",
     "output_type": "stream",
     "text": [
      "1\n",
      "2\n",
      "(3, 4, 10, 14)\n",
      "<class 'tuple'>\n",
      "{'shake': 'OreoShake', 'drink': 'lemonade', 'fruit': 'Mango'}\n",
      "<class 'dict'>\n",
      "shake OreoShake\n",
      "drink lemonade\n",
      "fruit Mango\n"
     ]
    }
   ],
   "source": [
    "def fun(a,b,*x,**y):\n",
    "    print(a)\n",
    "    print(b)\n",
    "    print(x)\n",
    "    print(type(x))\n",
    "    print(y)\n",
    "    print(type(y))\n",
    "    #x-tuple\n",
    "    #y-dictionary\n",
    "    \n",
    "    for k in y:\n",
    "        print(k,y[k])\n",
    "        \n",
    "fun(1,2,3,4,10,14,shake=\"OreoShake\",drink=\"lemonade\",fruit=\"Mango\")"
   ]
  },
  {
   "cell_type": "code",
   "execution_count": null,
   "id": "be1613aa",
   "metadata": {},
   "outputs": [],
   "source": []
  }
 ],
 "metadata": {
  "kernelspec": {
   "display_name": "Python 3",
   "language": "python",
   "name": "python3"
  },
  "language_info": {
   "codemirror_mode": {
    "name": "ipython",
    "version": 3
   },
   "file_extension": ".py",
   "mimetype": "text/x-python",
   "name": "python",
   "nbconvert_exporter": "python",
   "pygments_lexer": "ipython3",
   "version": "3.8.8"
  }
 },
 "nbformat": 4,
 "nbformat_minor": 5
}
