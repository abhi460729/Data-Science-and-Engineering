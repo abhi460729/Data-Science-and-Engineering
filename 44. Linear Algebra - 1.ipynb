{
 "cells": [
  {
   "cell_type": "markdown",
   "id": "bd9b143d",
   "metadata": {},
   "source": [
    "### 1. Scalars and Vectors\n",
    "- Scalar is a single number, denoted as x\n",
    "\n",
    "- Vector is an array of scalars, denoted by x\n",
    "    - Thus, a vector has n scalars x1,x2....xn\n",
    "    - Note that indexing here begins with 1, unlike python(where it begins with 0)\n",
    "    \n",
    "    x = [x1\n",
    "    \n",
    "          x2\n",
    "        \n",
    "          x3\n",
    "        \n",
    "          ...\n",
    "        \n",
    "          xn]\n",
    "        \n",
    "Let us now look how we can create an array using numpy."
   ]
  },
  {
   "cell_type": "code",
   "execution_count": 1,
   "id": "5d2420fb",
   "metadata": {},
   "outputs": [
    {
     "name": "stdout",
     "output_type": "stream",
     "text": [
      "[4 5 6]\n"
     ]
    }
   ],
   "source": [
    "import numpy as np\n",
    "x = np.array([4,5,6])\n",
    "print(x)"
   ]
  },
  {
   "cell_type": "code",
   "execution_count": 6,
   "id": "16b0c449",
   "metadata": {},
   "outputs": [
    {
     "name": "stdout",
     "output_type": "stream",
     "text": [
      "[[4]\n",
      " [5]\n",
      " [6]]\n",
      "(3, 1)\n"
     ]
    }
   ],
   "source": [
    "# To create a column vector\n",
    "x = np.array([[4],[5],[6]])\n",
    "print(x)\n",
    "print(x.shape)"
   ]
  },
  {
   "cell_type": "code",
   "execution_count": 7,
   "id": "5f2b53d5",
   "metadata": {},
   "outputs": [],
   "source": [
    "#Let us now identify when to define a vector and when to define a matrix."
   ]
  },
  {
   "cell_type": "code",
   "execution_count": 9,
   "id": "8b2a1301",
   "metadata": {},
   "outputs": [],
   "source": [
    "# +refer notes"
   ]
  },
  {
   "cell_type": "markdown",
   "id": "d9017035",
   "metadata": {},
   "source": [
    "### 2. Matrix and Tensor\n",
    "\n",
    "### Matrix"
   ]
  },
  {
   "cell_type": "code",
   "execution_count": 13,
   "id": "41e4ef75",
   "metadata": {},
   "outputs": [
    {
     "name": "stdout",
     "output_type": "stream",
     "text": [
      "(3, 4)\n",
      "[[  4   5   7   8  10  11]\n",
      " [ 13  14  56  80  90 100]]\n",
      "(2, 6)\n"
     ]
    }
   ],
   "source": [
    "X = np.array([[4,5,7,8],\n",
    "              [10,11,13,14],\n",
    "              [56,80,90, 100]])\n",
    "print(X.shape)\n",
    "X = X.reshape((2,-1))\n",
    "print(X)\n",
    "print(X.shape)"
   ]
  },
  {
   "cell_type": "markdown",
   "id": "ced7a54c",
   "metadata": {},
   "source": [
    "### Tensor"
   ]
  },
  {
   "cell_type": "code",
   "execution_count": 41,
   "id": "d0ec6d05",
   "metadata": {},
   "outputs": [
    {
     "name": "stdout",
     "output_type": "stream",
     "text": [
      "[[[0 0 0]\n",
      "  [0 0 0]\n",
      "  [0 0 0]\n",
      "  ...\n",
      "  [0 0 0]\n",
      "  [0 0 0]\n",
      "  [0 0 0]]\n",
      "\n",
      " [[0 0 0]\n",
      "  [0 0 0]\n",
      "  [0 0 0]\n",
      "  ...\n",
      "  [0 0 0]\n",
      "  [0 0 0]\n",
      "  [0 0 0]]\n",
      "\n",
      " [[0 0 0]\n",
      "  [0 0 0]\n",
      "  [0 0 0]\n",
      "  ...\n",
      "  [0 0 0]\n",
      "  [0 0 0]\n",
      "  [0 0 0]]\n",
      "\n",
      " ...\n",
      "\n",
      " [[0 0 0]\n",
      "  [0 0 0]\n",
      "  [0 0 0]\n",
      "  ...\n",
      "  [0 0 0]\n",
      "  [0 0 0]\n",
      "  [0 0 0]]\n",
      "\n",
      " [[0 0 0]\n",
      "  [0 0 0]\n",
      "  [0 0 0]\n",
      "  ...\n",
      "  [0 0 0]\n",
      "  [0 0 0]\n",
      "  [0 0 0]]\n",
      "\n",
      " [[0 0 0]\n",
      "  [0 0 0]\n",
      "  [0 0 0]\n",
      "  ...\n",
      "  [0 0 0]\n",
      "  [0 0 0]\n",
      "  [0 0 0]]]\n"
     ]
    },
    {
     "data": {
      "image/png": "[encoded data removed]",
      "text/plain": [
       "<Figure size 432x288 with 1 Axes>"
      ]
     },
     "metadata": {
      "needs_background": "light"
     },
     "output_type": "display_data"
    }
   ],
   "source": [
    "#Tensor = Array with more than 2 axes\n",
    "T = np.zeros((50,25,3), dtype = 'uint8')\n",
    "print(T)\n",
    "\n",
    "T[:,:,2]=255 #selecting all the rows, all the columns and 0th channel\n",
    "import matplotlib.pyplot as plt\n",
    "plt.imshow(T) # It shows the 2-D version \n",
    "plt.show()"
   ]
  },
  {
   "cell_type": "markdown",
   "id": "c7d6c767",
   "metadata": {},
   "source": [
    "### 3. Transpose\n",
    "\n",
    "For a 2D matrix transpose can be obtained as follows (AT)i,j=Aij\n",
    "\n",
    "For a vector, transpose makes the column vector into a row. Thus a column vector can also be represented as x=[x1,x2,x3]T"
   ]
  },
  {
   "cell_type": "code",
   "execution_count": 42,
   "id": "a3e7b3d0",
   "metadata": {},
   "outputs": [
    {
     "data": {
      "text/plain": [
       "array([[  4],\n",
       "       [  5],\n",
       "       [  7],\n",
       "       [  8],\n",
       "       [ 10],\n",
       "       [ 11],\n",
       "       [ 13],\n",
       "       [ 14],\n",
       "       [ 56],\n",
       "       [ 80],\n",
       "       [ 90],\n",
       "       [100]])"
      ]
     },
     "execution_count": 42,
     "metadata": {},
     "output_type": "execute_result"
    }
   ],
   "source": [
    "X"
   ]
  },
  {
   "cell_type": "code",
   "execution_count": 43,
   "id": "5d6e6ff9",
   "metadata": {},
   "outputs": [],
   "source": [
    "X = X.reshape(-1,1)"
   ]
  },
  {
   "cell_type": "code",
   "execution_count": 44,
   "id": "f9059a76",
   "metadata": {},
   "outputs": [
    {
     "data": {
      "text/plain": [
       "array([[  4],\n",
       "       [  5],\n",
       "       [  7],\n",
       "       [  8],\n",
       "       [ 10],\n",
       "       [ 11],\n",
       "       [ 13],\n",
       "       [ 14],\n",
       "       [ 56],\n",
       "       [ 80],\n",
       "       [ 90],\n",
       "       [100]])"
      ]
     },
     "execution_count": 44,
     "metadata": {},
     "output_type": "execute_result"
    }
   ],
   "source": [
    "X"
   ]
  },
  {
   "cell_type": "code",
   "execution_count": 45,
   "id": "ab5988f7",
   "metadata": {},
   "outputs": [],
   "source": [
    "X1 = X.T #Transpose operation"
   ]
  },
  {
   "cell_type": "code",
   "execution_count": 46,
   "id": "014bb3d7",
   "metadata": {},
   "outputs": [
    {
     "name": "stdout",
     "output_type": "stream",
     "text": [
      "[[  4   5   7   8  10  11  13  14  56  80  90 100]]\n"
     ]
    }
   ],
   "source": [
    "print(X1)"
   ]
  },
  {
   "cell_type": "code",
   "execution_count": 47,
   "id": "fbfd97c7",
   "metadata": {},
   "outputs": [
    {
     "name": "stdout",
     "output_type": "stream",
     "text": [
      "[[  4]\n",
      " [  5]\n",
      " [  7]\n",
      " [  8]\n",
      " [ 10]\n",
      " [ 11]\n",
      " [ 13]\n",
      " [ 14]\n",
      " [ 56]\n",
      " [ 80]\n",
      " [ 90]\n",
      " [100]]\n"
     ]
    }
   ],
   "source": [
    "print(X)"
   ]
  },
  {
   "cell_type": "code",
   "execution_count": 48,
   "id": "62bb4d7a",
   "metadata": {},
   "outputs": [
    {
     "name": "stdout",
     "output_type": "stream",
     "text": [
      "4\n"
     ]
    }
   ],
   "source": [
    "print(X[0][0])"
   ]
  },
  {
   "cell_type": "code",
   "execution_count": 49,
   "id": "07359d44",
   "metadata": {},
   "outputs": [
    {
     "name": "stdout",
     "output_type": "stream",
     "text": [
      "5\n"
     ]
    }
   ],
   "source": [
    "print(X[1][0])"
   ]
  },
  {
   "cell_type": "code",
   "execution_count": 50,
   "id": "b768f6a1",
   "metadata": {},
   "outputs": [
    {
     "name": "stdout",
     "output_type": "stream",
     "text": [
      "4\n"
     ]
    }
   ],
   "source": [
    "print(X1[0][0])"
   ]
  },
  {
   "cell_type": "code",
   "execution_count": 51,
   "id": "dfaa4d32",
   "metadata": {},
   "outputs": [
    {
     "name": "stdout",
     "output_type": "stream",
     "text": [
      "5\n"
     ]
    }
   ],
   "source": [
    "print(X1[0][1])"
   ]
  },
  {
   "cell_type": "code",
   "execution_count": 52,
   "id": "77820e79",
   "metadata": {},
   "outputs": [
    {
     "data": {
      "text/plain": [
       "(50, 25, 3)"
      ]
     },
     "execution_count": 52,
     "metadata": {},
     "output_type": "execute_result"
    }
   ],
   "source": [
    "#Transpose of Tensor\n",
    "T.shape"
   ]
  },
  {
   "cell_type": "code",
   "execution_count": 53,
   "id": "21724d69",
   "metadata": {},
   "outputs": [],
   "source": [
    "# int64\n",
    "# int32\n",
    "\n",
    "# 'uint8' \n",
    "# 0-1 - floating\n",
    "# (0-255) - integer\n",
    "#unsigned int -> 8 bits\n",
    "#             -> 64 bits 8x more space (in case of int32 or int64)"
   ]
  },
  {
   "cell_type": "code",
   "execution_count": 54,
   "id": "e84ad4c8",
   "metadata": {},
   "outputs": [
    {
     "data": {
      "text/plain": [
       "(50, 25, 3)"
      ]
     },
     "execution_count": 54,
     "metadata": {},
     "output_type": "execute_result"
    }
   ],
   "source": [
    "T.shape"
   ]
  },
  {
   "cell_type": "code",
   "execution_count": 55,
   "id": "32655c1b",
   "metadata": {},
   "outputs": [
    {
     "name": "stdout",
     "output_type": "stream",
     "text": [
      "[  0   0 255]\n"
     ]
    }
   ],
   "source": [
    "print(T[0][0])"
   ]
  },
  {
   "cell_type": "code",
   "execution_count": 61,
   "id": "6d83aaee",
   "metadata": {},
   "outputs": [
    {
     "name": "stdout",
     "output_type": "stream",
     "text": [
      "(50, 25, 3)\n",
      "(3, 25, 50)\n",
      "(50, 3, 25)\n",
      "(3, 50, 25)\n"
     ]
    }
   ],
   "source": [
    "print(T.shape)\n",
    "T1 = np.transpose(T)\n",
    "print(T1.shape)\n",
    "T1 = np.transpose(T,axes=(0,2,1))\n",
    "print(T1.shape)\n",
    "T1 = np.transpose(T,axes=(2,0,1))\n",
    "print(T1.shape)"
   ]
  },
  {
   "cell_type": "code",
   "execution_count": 65,
   "id": "d374fe8c",
   "metadata": {},
   "outputs": [],
   "source": [
    "# T = np.zeros((50,25,3), dtype = 'uint8')\n",
    "# print(T.shape)\n",
    "# (50, 25, 3)\n",
    "#channels last notation \n",
    "# T1 = np.transpose(T,axes=(2,0,1))\n",
    "# print(T1.shape)\n",
    "# (3, 50, 25)\n",
    "# 2,0,1\n",
    "# channels first notation\n",
    "# Imp. for deep learning. Imp. terms in keras."
   ]
  },
  {
   "cell_type": "code",
   "execution_count": 69,
   "id": "2b5facd4",
   "metadata": {},
   "outputs": [
    {
     "name": "stdout",
     "output_type": "stream",
     "text": [
      "(3,)\n",
      "(25,)\n"
     ]
    }
   ],
   "source": [
    "print(T[0][0].shape) #we are going inside the 0th row, 0th col so we will get 3 channels.\n",
    "print(T1[0][0].shape) #we are going inside the 0th channel, 0th row so we will get 25 cols."
   ]
  },
  {
   "cell_type": "code",
   "execution_count": null,
   "id": "898b9210",
   "metadata": {},
   "outputs": [],
   "source": []
  }
 ],
 "metadata": {
  "kernelspec": {
   "display_name": "Python 3",
   "language": "python",
   "name": "python3"
  },
  "language_info": {
   "codemirror_mode": {
    "name": "ipython",
    "version": 3
   },
   "file_extension": ".py",
   "mimetype": "text/x-python",
   "name": "python",
   "nbconvert_exporter": "python",
   "pygments_lexer": "ipython3",
   "version": "3.8.8"
  }
 },
 "nbformat": 4,
 "nbformat_minor": 5
}
