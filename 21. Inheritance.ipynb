{
 "cells": [
  {
   "cell_type": "code",
   "execution_count": 1,
   "id": "544f04ab",
   "metadata": {},
   "outputs": [],
   "source": [
    "class Dog:\n",
    "    kind = 'canine'\n",
    "    \n",
    "    def __init__(self,name):\n",
    "        self.name = name"
   ]
  },
  {
   "cell_type": "code",
   "execution_count": 2,
   "id": "885ad414",
   "metadata": {},
   "outputs": [],
   "source": [
    "a = Dog('tuffy')"
   ]
  },
  {
   "cell_type": "code",
   "execution_count": 3,
   "id": "883b9052",
   "metadata": {},
   "outputs": [
    {
     "data": {
      "text/plain": [
       "'canine'"
      ]
     },
     "execution_count": 3,
     "metadata": {},
     "output_type": "execute_result"
    }
   ],
   "source": [
    "a.kind"
   ]
  },
  {
   "cell_type": "code",
   "execution_count": 4,
   "id": "ff27d616",
   "metadata": {},
   "outputs": [],
   "source": [
    "b = Dog('maxx')"
   ]
  },
  {
   "cell_type": "code",
   "execution_count": 5,
   "id": "8a94cbff",
   "metadata": {},
   "outputs": [],
   "source": [
    "b.kind = 'something'"
   ]
  },
  {
   "cell_type": "code",
   "execution_count": 6,
   "id": "3c08d3ea",
   "metadata": {},
   "outputs": [
    {
     "data": {
      "text/plain": [
       "'something'"
      ]
     },
     "execution_count": 6,
     "metadata": {},
     "output_type": "execute_result"
    }
   ],
   "source": [
    "b.kind"
   ]
  },
  {
   "cell_type": "code",
   "execution_count": 7,
   "id": "97e89320",
   "metadata": {},
   "outputs": [
    {
     "data": {
      "text/plain": [
       "'canine'"
      ]
     },
     "execution_count": 7,
     "metadata": {},
     "output_type": "execute_result"
    }
   ],
   "source": [
    "a.kind"
   ]
  },
  {
   "cell_type": "code",
   "execution_count": 8,
   "id": "57f73da1",
   "metadata": {},
   "outputs": [],
   "source": [
    "class Dog:\n",
    "    \n",
    "    tricks = []              #mistaken use of class variable\n",
    "    \n",
    "    def __init__(self, name):\n",
    "        self.name=name\n",
    "        \n",
    "    def add_trick(self, trick):\n",
    "        self.tricks.append(trick)"
   ]
  },
  {
   "cell_type": "code",
   "execution_count": 9,
   "id": "e3004d3d",
   "metadata": {},
   "outputs": [],
   "source": [
    "a = Dog('bruno')"
   ]
  },
  {
   "cell_type": "code",
   "execution_count": 10,
   "id": "7f925f3f",
   "metadata": {},
   "outputs": [],
   "source": [
    "b = Dog('maxx')"
   ]
  },
  {
   "cell_type": "code",
   "execution_count": 11,
   "id": "45b965f8",
   "metadata": {},
   "outputs": [],
   "source": [
    "a.add_trick('fetch')"
   ]
  },
  {
   "cell_type": "code",
   "execution_count": 12,
   "id": "149e3710",
   "metadata": {},
   "outputs": [],
   "source": [
    "a.add_trick('talk')"
   ]
  },
  {
   "cell_type": "code",
   "execution_count": 13,
   "id": "ff15efc0",
   "metadata": {},
   "outputs": [
    {
     "data": {
      "text/plain": [
       "['fetch', 'talk']"
      ]
     },
     "execution_count": 13,
     "metadata": {},
     "output_type": "execute_result"
    }
   ],
   "source": [
    "a.tricks"
   ]
  },
  {
   "cell_type": "code",
   "execution_count": 14,
   "id": "af497951",
   "metadata": {},
   "outputs": [
    {
     "data": {
      "text/plain": [
       "['fetch', 'talk']"
      ]
     },
     "execution_count": 14,
     "metadata": {},
     "output_type": "execute_result"
    }
   ],
   "source": [
    "b.tricks"
   ]
  },
  {
   "cell_type": "code",
   "execution_count": 16,
   "id": "cea2b47b",
   "metadata": {},
   "outputs": [
    {
     "data": {
      "text/plain": [
       "2641882089728"
      ]
     },
     "execution_count": 16,
     "metadata": {},
     "output_type": "execute_result"
    }
   ],
   "source": [
    "id(a.tricks)"
   ]
  },
  {
   "cell_type": "code",
   "execution_count": 17,
   "id": "91189ad2",
   "metadata": {},
   "outputs": [
    {
     "data": {
      "text/plain": [
       "2641882089728"
      ]
     },
     "execution_count": 17,
     "metadata": {},
     "output_type": "execute_result"
    }
   ],
   "source": [
    "id(b.tricks)"
   ]
  },
  {
   "cell_type": "code",
   "execution_count": 18,
   "id": "83e84fd0",
   "metadata": {},
   "outputs": [
    {
     "data": {
      "text/plain": [
       "2641882089728"
      ]
     },
     "execution_count": 18,
     "metadata": {},
     "output_type": "execute_result"
    }
   ],
   "source": [
    "id(Dog.tricks)"
   ]
  },
  {
   "cell_type": "code",
   "execution_count": 15,
   "id": "db75d984",
   "metadata": {},
   "outputs": [],
   "source": [
    "#Are a and b talking to each other?"
   ]
  },
  {
   "cell_type": "code",
   "execution_count": 19,
   "id": "bce1743d",
   "metadata": {},
   "outputs": [],
   "source": [
    "#Always - First all the attributes are copied and then the init method is called.\n",
    "\n",
    "# Set, List and Dictionary these three data structures are mutable in nature.\n",
    "# As it happened above. If, a is a list and b = a. Here, b is also a list. b[0]= 100. But b was just an alias (as lists are immutable) so they both were pointing to the same location.\n",
    "# If one is changed then the other must also be changed.\n",
    "# So is the case happening above b is having all the changes as a.\n",
    "# In case of immutable objects like string the varible(b) will point to a different memory location other than a."
   ]
  },
  {
   "cell_type": "code",
   "execution_count": 26,
   "id": "133aacc8",
   "metadata": {},
   "outputs": [],
   "source": [
    "#Solution to the above problem, we should instantiate ticks in each of the instance.\n",
    "\n",
    "class Dog:\n",
    "    \n",
    "    def __init__(self, name):\n",
    "        self.name=name\n",
    "        self.tricks = []\n",
    "        \n",
    "    def add_trick(self, trick):\n",
    "        self.tricks.append(trick)"
   ]
  },
  {
   "cell_type": "code",
   "execution_count": 29,
   "id": "49d6a047",
   "metadata": {},
   "outputs": [],
   "source": [
    "a = Dog('bruno')"
   ]
  },
  {
   "cell_type": "code",
   "execution_count": 30,
   "id": "68b55b85",
   "metadata": {},
   "outputs": [],
   "source": [
    "b = Dog('maxx')"
   ]
  },
  {
   "cell_type": "code",
   "execution_count": 31,
   "id": "347dd345",
   "metadata": {},
   "outputs": [],
   "source": [
    "a.add_trick('fetch')"
   ]
  },
  {
   "cell_type": "code",
   "execution_count": 32,
   "id": "37cf879f",
   "metadata": {},
   "outputs": [],
   "source": [
    "a.add_trick('talk')"
   ]
  },
  {
   "cell_type": "code",
   "execution_count": 33,
   "id": "be4fb747",
   "metadata": {},
   "outputs": [
    {
     "data": {
      "text/plain": [
       "['fetch', 'talk']"
      ]
     },
     "execution_count": 33,
     "metadata": {},
     "output_type": "execute_result"
    }
   ],
   "source": [
    "a.tricks"
   ]
  },
  {
   "cell_type": "code",
   "execution_count": 34,
   "id": "e7f80b37",
   "metadata": {},
   "outputs": [
    {
     "data": {
      "text/plain": [
       "[]"
      ]
     },
     "execution_count": 34,
     "metadata": {},
     "output_type": "execute_result"
    }
   ],
   "source": [
    "b.tricks"
   ]
  },
  {
   "cell_type": "code",
   "execution_count": 35,
   "id": "86910a6d",
   "metadata": {},
   "outputs": [
    {
     "data": {
      "text/plain": [
       "2641897720768"
      ]
     },
     "execution_count": 35,
     "metadata": {},
     "output_type": "execute_result"
    }
   ],
   "source": [
    "id(a.tricks)"
   ]
  },
  {
   "cell_type": "code",
   "execution_count": 36,
   "id": "e8b165a0",
   "metadata": {},
   "outputs": [
    {
     "data": {
      "text/plain": [
       "2641897730944"
      ]
     },
     "execution_count": 36,
     "metadata": {},
     "output_type": "execute_result"
    }
   ],
   "source": [
    "id(b.tricks)"
   ]
  },
  {
   "cell_type": "code",
   "execution_count": 37,
   "id": "69dceff8",
   "metadata": {},
   "outputs": [
    {
     "ename": "AttributeError",
     "evalue": "type object 'Dog' has no attribute 'tricks'",
     "output_type": "error",
     "traceback": [
      "\u001b[1;31m---------------------------------------------------------------------------\u001b[0m",
      "\u001b[1;31mAttributeError\u001b[0m                            Traceback (most recent call last)",
      "\u001b[1;32m<ipython-input-37-f25dad0410a8>\u001b[0m in \u001b[0;36m<module>\u001b[1;34m\u001b[0m\n\u001b[1;32m----> 1\u001b[1;33m \u001b[0mid\u001b[0m\u001b[1;33m(\u001b[0m\u001b[0mDog\u001b[0m\u001b[1;33m.\u001b[0m\u001b[0mtricks\u001b[0m\u001b[1;33m)\u001b[0m\u001b[1;33m\u001b[0m\u001b[1;33m\u001b[0m\u001b[0m\n\u001b[0m",
      "\u001b[1;31mAttributeError\u001b[0m: type object 'Dog' has no attribute 'tricks'"
     ]
    }
   ],
   "source": [
    "id(Dog.tricks)"
   ]
  },
  {
   "cell_type": "code",
   "execution_count": 1,
   "id": "6cc01a25",
   "metadata": {},
   "outputs": [],
   "source": [
    "# There is no function overloading in Python but only function overriding."
   ]
  },
  {
   "cell_type": "code",
   "execution_count": null,
   "id": "839886ae",
   "metadata": {},
   "outputs": [],
   "source": []
  }
 ],
 "metadata": {
  "kernelspec": {
   "display_name": "Python 3",
   "language": "python",
   "name": "python3"
  },
  "language_info": {
   "codemirror_mode": {
    "name": "ipython",
    "version": 3
   },
   "file_extension": ".py",
   "mimetype": "text/x-python",
   "name": "python",
   "nbconvert_exporter": "python",
   "pygments_lexer": "ipython3",
   "version": "3.8.8"
  }
 },
 "nbformat": 4,
 "nbformat_minor": 5
}
