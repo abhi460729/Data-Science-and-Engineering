{
 "cells": [
  {
   "cell_type": "markdown",
   "id": "a867f9e1",
   "metadata": {},
   "source": [
    "### Tuples\n",
    "Tuples are used to hold togeather multiple objects. Think of them as similar to lists, but without the extensive functionality that the list class gives you. One major feature of tuples is that they are immutable like strings i.e. you cannot modify tuples.\n",
    "\n",
    "Tuples are defined by specifying items seperated by commas within an optional pair of parenthesis.\n",
    "\n",
    "Tuples are usually used in cases where a statement or a user-defined function can safely assume that the collection of values i.e. tuple of values used will not change."
   ]
  },
  {
   "cell_type": "code",
   "execution_count": 1,
   "id": "9a3e76ac",
   "metadata": {},
   "outputs": [],
   "source": [
    "a = [1,2,3,4]"
   ]
  },
  {
   "cell_type": "code",
   "execution_count": 2,
   "id": "88ee3305",
   "metadata": {},
   "outputs": [],
   "source": [
    "a[0] = 5"
   ]
  },
  {
   "cell_type": "code",
   "execution_count": 3,
   "id": "489e05f8",
   "metadata": {},
   "outputs": [
    {
     "data": {
      "text/plain": [
       "1673739838208"
      ]
     },
     "execution_count": 3,
     "metadata": {},
     "output_type": "execute_result"
    }
   ],
   "source": [
    "id(a)"
   ]
  },
  {
   "cell_type": "code",
   "execution_count": 4,
   "id": "e371f8f7",
   "metadata": {},
   "outputs": [],
   "source": [
    "# tuples are immutable"
   ]
  },
  {
   "cell_type": "code",
   "execution_count": 5,
   "id": "350e338e",
   "metadata": {},
   "outputs": [],
   "source": [
    "a = (1,2,3,4,5)"
   ]
  },
  {
   "cell_type": "code",
   "execution_count": 6,
   "id": "fcf5c244",
   "metadata": {},
   "outputs": [],
   "source": [
    "# We use [] to instantiate list \n",
    "# We use () to instantiate tuples"
   ]
  },
  {
   "cell_type": "code",
   "execution_count": 7,
   "id": "b88a5f9a",
   "metadata": {},
   "outputs": [
    {
     "ename": "TypeError",
     "evalue": "'tuple' object does not support item assignment",
     "output_type": "error",
     "traceback": [
      "\u001b[1;31m---------------------------------------------------------------------------\u001b[0m",
      "\u001b[1;31mTypeError\u001b[0m                                 Traceback (most recent call last)",
      "\u001b[1;32m<ipython-input-7-c8548dbc0a7e>\u001b[0m in \u001b[0;36m<module>\u001b[1;34m\u001b[0m\n\u001b[1;32m----> 1\u001b[1;33m \u001b[0ma\u001b[0m\u001b[1;33m[\u001b[0m\u001b[1;36m0\u001b[0m\u001b[1;33m]\u001b[0m \u001b[1;33m=\u001b[0m \u001b[1;36m1\u001b[0m\u001b[1;33m\u001b[0m\u001b[1;33m\u001b[0m\u001b[0m\n\u001b[0m",
      "\u001b[1;31mTypeError\u001b[0m: 'tuple' object does not support item assignment"
     ]
    }
   ],
   "source": [
    "a[0] = 1"
   ]
  },
  {
   "cell_type": "code",
   "execution_count": 8,
   "id": "bddd875d",
   "metadata": {},
   "outputs": [],
   "source": [
    "# tuples are much more performant than lists\n",
    "# lists can become slow, list will consume more memory\n",
    "# tuples are more efficient i.e. they are fast"
   ]
  },
  {
   "cell_type": "code",
   "execution_count": 10,
   "id": "4cdbf5ad",
   "metadata": {},
   "outputs": [],
   "source": [
    "def func(*args):\n",
    "    print(args)"
   ]
  },
  {
   "cell_type": "code",
   "execution_count": 11,
   "id": "fb581255",
   "metadata": {},
   "outputs": [
    {
     "name": "stdout",
     "output_type": "stream",
     "text": [
      "(1, 2, 3, 4)\n"
     ]
    }
   ],
   "source": [
    "func(1,2,3,4)"
   ]
  },
  {
   "cell_type": "code",
   "execution_count": 12,
   "id": "e22c6d34",
   "metadata": {},
   "outputs": [],
   "source": [
    "# What we see above is a tuple. The values that args holds remains intact. They never change once the function is called."
   ]
  },
  {
   "cell_type": "code",
   "execution_count": 13,
   "id": "159fedaa",
   "metadata": {},
   "outputs": [],
   "source": [
    "# Python could have easily used list to store data in args but it used tuples to keep the data intact. We never need to change the args once the function agts the input from the user."
   ]
  },
  {
   "cell_type": "code",
   "execution_count": 17,
   "id": "e3752a7f",
   "metadata": {},
   "outputs": [],
   "source": [
    "# Common interview questions in Python related to tuples.\n",
    "# Swap to values stored in a variable."
   ]
  },
  {
   "cell_type": "code",
   "execution_count": 18,
   "id": "0e1afb2c",
   "metadata": {},
   "outputs": [],
   "source": [
    "a = 5\n",
    "b = 9"
   ]
  },
  {
   "cell_type": "code",
   "execution_count": 19,
   "id": "cd835345",
   "metadata": {},
   "outputs": [],
   "source": [
    "# Method 1: Using a third variable\n",
    "temp = a\n",
    "a = b\n",
    "b = temp"
   ]
  },
  {
   "cell_type": "code",
   "execution_count": 20,
   "id": "fcea9cb7",
   "metadata": {},
   "outputs": [
    {
     "name": "stdout",
     "output_type": "stream",
     "text": [
      "9 5\n"
     ]
    }
   ],
   "source": [
    "print(a,b)"
   ]
  },
  {
   "cell_type": "code",
   "execution_count": 25,
   "id": "34a974c2",
   "metadata": {},
   "outputs": [],
   "source": [
    "a = 5\n",
    "b = 9"
   ]
  },
  {
   "cell_type": "code",
   "execution_count": 26,
   "id": "ae31f924",
   "metadata": {},
   "outputs": [],
   "source": [
    "# Method 2: Not using a third variable\n",
    "a = a + b #14\n",
    "b = a - b #9\n",
    "a = a - b #5"
   ]
  },
  {
   "cell_type": "code",
   "execution_count": 27,
   "id": "89f41722",
   "metadata": {},
   "outputs": [
    {
     "name": "stdout",
     "output_type": "stream",
     "text": [
      "9 5\n"
     ]
    }
   ],
   "source": [
    "print(a,b)"
   ]
  },
  {
   "cell_type": "code",
   "execution_count": 28,
   "id": "8d1aea69",
   "metadata": {},
   "outputs": [],
   "source": [
    "a = 5\n",
    "b = 9"
   ]
  },
  {
   "cell_type": "code",
   "execution_count": 29,
   "id": "3d68e46f",
   "metadata": {},
   "outputs": [],
   "source": [
    "# Method 3: Using XOR\n",
    "a = a^b #14\n",
    "b = a^b #9\n",
    "a = a^b #5"
   ]
  },
  {
   "cell_type": "code",
   "execution_count": 30,
   "id": "e14abe4b",
   "metadata": {},
   "outputs": [
    {
     "name": "stdout",
     "output_type": "stream",
     "text": [
      "9 5\n"
     ]
    }
   ],
   "source": [
    "print (a,b)"
   ]
  },
  {
   "cell_type": "code",
   "execution_count": 33,
   "id": "706fe7bb",
   "metadata": {},
   "outputs": [],
   "source": [
    "# Different ways of creating a tuple\n",
    "a = (1,2)"
   ]
  },
  {
   "cell_type": "code",
   "execution_count": 34,
   "id": "c44a6ba4",
   "metadata": {},
   "outputs": [],
   "source": [
    "a = 1,2"
   ]
  },
  {
   "cell_type": "code",
   "execution_count": 35,
   "id": "befa9154",
   "metadata": {},
   "outputs": [
    {
     "data": {
      "text/plain": [
       "tuple"
      ]
     },
     "execution_count": 35,
     "metadata": {},
     "output_type": "execute_result"
    }
   ],
   "source": [
    "type(a)"
   ]
  },
  {
   "cell_type": "code",
   "execution_count": 36,
   "id": "b3250ea3",
   "metadata": {},
   "outputs": [
    {
     "data": {
      "text/plain": [
       "(1, 2)"
      ]
     },
     "execution_count": 36,
     "metadata": {},
     "output_type": "execute_result"
    }
   ],
   "source": [
    "a"
   ]
  },
  {
   "cell_type": "code",
   "execution_count": 42,
   "id": "8a314b38",
   "metadata": {},
   "outputs": [],
   "source": [
    "c, d = a\n",
    "#The above statement defines a tuple on the left hand side where a'a value is unpacked into c and d.\n",
    "#There should be an equal number of operator on the left hand side of the assignment operator."
   ]
  },
  {
   "cell_type": "code",
   "execution_count": 43,
   "id": "46a2a92c",
   "metadata": {},
   "outputs": [
    {
     "data": {
      "text/plain": [
       "1"
      ]
     },
     "execution_count": 43,
     "metadata": {},
     "output_type": "execute_result"
    }
   ],
   "source": [
    "c"
   ]
  },
  {
   "cell_type": "code",
   "execution_count": 44,
   "id": "fbbdf6b2",
   "metadata": {},
   "outputs": [
    {
     "data": {
      "text/plain": [
       "2"
      ]
     },
     "execution_count": 44,
     "metadata": {},
     "output_type": "execute_result"
    }
   ],
   "source": [
    "d"
   ]
  },
  {
   "cell_type": "code",
   "execution_count": 45,
   "id": "92e8e029",
   "metadata": {},
   "outputs": [
    {
     "ename": "ValueError",
     "evalue": "not enough values to unpack (expected 3, got 2)",
     "output_type": "error",
     "traceback": [
      "\u001b[1;31m---------------------------------------------------------------------------\u001b[0m",
      "\u001b[1;31mValueError\u001b[0m                                Traceback (most recent call last)",
      "\u001b[1;32m<ipython-input-45-40df389e5972>\u001b[0m in \u001b[0;36m<module>\u001b[1;34m\u001b[0m\n\u001b[1;32m----> 1\u001b[1;33m \u001b[0mc\u001b[0m\u001b[1;33m,\u001b[0m\u001b[0md\u001b[0m\u001b[1;33m,\u001b[0m\u001b[0me\u001b[0m \u001b[1;33m=\u001b[0m \u001b[0ma\u001b[0m\u001b[1;33m\u001b[0m\u001b[1;33m\u001b[0m\u001b[0m\n\u001b[0m",
      "\u001b[1;31mValueError\u001b[0m: not enough values to unpack (expected 3, got 2)"
     ]
    }
   ],
   "source": [
    "c,d,e = a"
   ]
  },
  {
   "cell_type": "code",
   "execution_count": 46,
   "id": "6cf532dd",
   "metadata": {},
   "outputs": [],
   "source": [
    "a = (1,2,3)"
   ]
  },
  {
   "cell_type": "code",
   "execution_count": 47,
   "id": "2e09f08c",
   "metadata": {},
   "outputs": [
    {
     "ename": "ValueError",
     "evalue": "too many values to unpack (expected 2)",
     "output_type": "error",
     "traceback": [
      "\u001b[1;31m---------------------------------------------------------------------------\u001b[0m",
      "\u001b[1;31mValueError\u001b[0m                                Traceback (most recent call last)",
      "\u001b[1;32m<ipython-input-47-0ed374544f10>\u001b[0m in \u001b[0;36m<module>\u001b[1;34m\u001b[0m\n\u001b[1;32m----> 1\u001b[1;33m \u001b[0mc\u001b[0m\u001b[1;33m,\u001b[0m\u001b[0md\u001b[0m \u001b[1;33m=\u001b[0m \u001b[0ma\u001b[0m\u001b[1;33m\u001b[0m\u001b[1;33m\u001b[0m\u001b[0m\n\u001b[0m",
      "\u001b[1;31mValueError\u001b[0m: too many values to unpack (expected 2)"
     ]
    }
   ],
   "source": [
    "c,d = a"
   ]
  },
  {
   "cell_type": "code",
   "execution_count": 48,
   "id": "69df7399",
   "metadata": {},
   "outputs": [],
   "source": [
    "a = 5\n",
    "b = 9"
   ]
  },
  {
   "cell_type": "code",
   "execution_count": 49,
   "id": "3599c5ac",
   "metadata": {},
   "outputs": [],
   "source": [
    "a, b = b, a"
   ]
  },
  {
   "cell_type": "code",
   "execution_count": 50,
   "id": "3b4148e1",
   "metadata": {},
   "outputs": [
    {
     "name": "stdout",
     "output_type": "stream",
     "text": [
      "9 5\n"
     ]
    }
   ],
   "source": [
    "print(a,b)"
   ]
  },
  {
   "cell_type": "markdown",
   "id": "47b73c10",
   "metadata": {},
   "source": [
    "### List to tuple and tuple to list..."
   ]
  },
  {
   "cell_type": "code",
   "execution_count": 61,
   "id": "08db849e",
   "metadata": {},
   "outputs": [],
   "source": [
    "# A tuple to a list."
   ]
  },
  {
   "cell_type": "code",
   "execution_count": 51,
   "id": "72d0f69e",
   "metadata": {},
   "outputs": [],
   "source": [
    "a = (1,2,3)"
   ]
  },
  {
   "cell_type": "code",
   "execution_count": 53,
   "id": "d53ad98d",
   "metadata": {},
   "outputs": [],
   "source": [
    "a = list(a)\n",
    "# The above mentioned list takes an iterable as an argument and hence tuple."
   ]
  },
  {
   "cell_type": "code",
   "execution_count": 54,
   "id": "c9f75897",
   "metadata": {},
   "outputs": [],
   "source": [
    "a = list(range(15))\n",
    "# The range mentioned above is an iterable."
   ]
  },
  {
   "cell_type": "code",
   "execution_count": 55,
   "id": "db8cde6a",
   "metadata": {},
   "outputs": [
    {
     "data": {
      "text/plain": [
       "[0, 1, 2, 3, 4, 5, 6, 7, 8, 9, 10, 11, 12, 13, 14]"
      ]
     },
     "execution_count": 55,
     "metadata": {},
     "output_type": "execute_result"
    }
   ],
   "source": [
    "a"
   ]
  },
  {
   "cell_type": "code",
   "execution_count": 58,
   "id": "c3b22d1d",
   "metadata": {},
   "outputs": [],
   "source": [
    "a = list(\"jatin\")\n",
    "# The string mentioned above is an iterable."
   ]
  },
  {
   "cell_type": "code",
   "execution_count": 59,
   "id": "57851ad6",
   "metadata": {},
   "outputs": [
    {
     "data": {
      "text/plain": [
       "['j', 'a', 't', 'i', 'n']"
      ]
     },
     "execution_count": 59,
     "metadata": {},
     "output_type": "execute_result"
    }
   ],
   "source": [
    "a"
   ]
  },
  {
   "cell_type": "code",
   "execution_count": 63,
   "id": "d855055e",
   "metadata": {},
   "outputs": [],
   "source": [
    "# A list to a tuple."
   ]
  },
  {
   "cell_type": "code",
   "execution_count": 64,
   "id": "09ade893",
   "metadata": {},
   "outputs": [],
   "source": [
    "a = tuple(a)"
   ]
  },
  {
   "cell_type": "code",
   "execution_count": 65,
   "id": "2916928a",
   "metadata": {},
   "outputs": [
    {
     "data": {
      "text/plain": [
       "('j', 'a', 't', 'i', 'n')"
      ]
     },
     "execution_count": 65,
     "metadata": {},
     "output_type": "execute_result"
    }
   ],
   "source": [
    "a"
   ]
  },
  {
   "cell_type": "markdown",
   "id": "93cd6a27",
   "metadata": {},
   "source": [
    "### Returning multiple values from functions (The returned thing is a tuple!)"
   ]
  },
  {
   "cell_type": "code",
   "execution_count": 66,
   "id": "f82ab960",
   "metadata": {},
   "outputs": [],
   "source": [
    "def addSubtract(a,b):\n",
    "    return a + b, a - b "
   ]
  },
  {
   "cell_type": "code",
   "execution_count": 68,
   "id": "23c645ab",
   "metadata": {},
   "outputs": [],
   "source": [
    "sum, diff = addSubtract(7,6)"
   ]
  },
  {
   "cell_type": "code",
   "execution_count": 69,
   "id": "25864993",
   "metadata": {},
   "outputs": [
    {
     "data": {
      "text/plain": [
       "13"
      ]
     },
     "execution_count": 69,
     "metadata": {},
     "output_type": "execute_result"
    }
   ],
   "source": [
    "sum"
   ]
  },
  {
   "cell_type": "code",
   "execution_count": 70,
   "id": "70906f5d",
   "metadata": {},
   "outputs": [
    {
     "data": {
      "text/plain": [
       "1"
      ]
     },
     "execution_count": 70,
     "metadata": {},
     "output_type": "execute_result"
    }
   ],
   "source": [
    "diff"
   ]
  },
  {
   "cell_type": "code",
   "execution_count": null,
   "id": "34605428",
   "metadata": {},
   "outputs": [],
   "source": []
  }
 ],
 "metadata": {
  "kernelspec": {
   "display_name": "Python 3",
   "language": "python",
   "name": "python3"
  },
  "language_info": {
   "codemirror_mode": {
    "name": "ipython",
    "version": 3
   },
   "file_extension": ".py",
   "mimetype": "text/x-python",
   "name": "python",
   "nbconvert_exporter": "python",
   "pygments_lexer": "ipython3",
   "version": "3.8.8"
  }
 },
 "nbformat": 4,
 "nbformat_minor": 5
}
