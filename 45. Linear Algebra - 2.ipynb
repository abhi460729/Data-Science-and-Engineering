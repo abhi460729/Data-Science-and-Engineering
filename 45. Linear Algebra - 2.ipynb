{
 "cells": [
  {
   "cell_type": "markdown",
   "id": "e90967b2",
   "metadata": {},
   "source": [
    "### 4. Broadcasting\n",
    "\n",
    "- You can add scalar to a vector, and numpy will add it to each element in the vector\n",
    "\n",
    "  x+a=xi+a\n",
    "  \n",
    "  \n",
    "- Similarly you can add a vector to a matrix, and numpy will add the vector to each column of the matrix"
   ]
  },
  {
   "cell_type": "code",
   "execution_count": 9,
   "id": "1c929c34",
   "metadata": {},
   "outputs": [
    {
     "name": "stdout",
     "output_type": "stream",
     "text": [
      "[1 2 3 4]\n",
      "[6 7 8 9]\n",
      "[16 17 18 19]\n"
     ]
    }
   ],
   "source": [
    "import numpy as np\n",
    "x = np.array([1,2,3,4])\n",
    "print (x)\n",
    "x = np.array([1,2,3,4])+5\n",
    "print (x)\n",
    "print(x+10) \n",
    "# Broadcasting\n",
    "# Broadcasting is not supported with Python list\n",
    "# [1,2,3,4] + 20"
   ]
  },
  {
   "cell_type": "code",
   "execution_count": 10,
   "id": "8494dc76",
   "metadata": {},
   "outputs": [
    {
     "name": "stdout",
     "output_type": "stream",
     "text": [
      "[[16 27 38 49]\n",
      " [46 57 68 79]]\n"
     ]
    }
   ],
   "source": [
    "X = np.array([[10,20,30,40],[40,50,60,70]])\n",
    "print(X+x)"
   ]
  },
  {
   "cell_type": "code",
   "execution_count": 12,
   "id": "6dda03cf",
   "metadata": {},
   "outputs": [],
   "source": [
    "# Has various application in Neural Network. We will get equations like W.x + b."
   ]
  },
  {
   "cell_type": "markdown",
   "id": "36bc5953",
   "metadata": {},
   "source": [
    "### 5. Matrix Multiplication\n",
    "This is perhaps one operation that you would use quite frequently in any ML/DL model. You should remember a few things about multiplication\n",
    "\n",
    "- C=AB is only defined when the second dimension of A matches the first dimension of B\n",
    "- Further, if A is of shape(m,n) and B of shape (n,p), then X is of shape(m,p)\n",
    "- This operation is concretely defined as Ci,j = Sum of k Ai,k Bk,j\n",
    "    - Ci,j is computed by taking the dot product of i-th row of A with j-th column of B\n",
    "- A more useful method to think of matrix multiplication is as linear combination of columns of A weighted by column entries of B"
   ]
  },
  {
   "cell_type": "markdown",
   "id": "8da058a6",
   "metadata": {},
   "source": [
    "There are two types of multiplication:\n",
    "- Element wise\n",
    "- Dot Product/ Matrix Multiplication"
   ]
  },
  {
   "cell_type": "markdown",
   "id": "39c70426",
   "metadata": {},
   "source": [
    "### 6. Element Wise Multiplication: Hadamard product\n",
    "                               \n",
    "Element wise multiplication A element wise multiplication B\n",
    "                               \n",
    "Notice how numpy uses the * for this. Important to be careful, and not to confuse this with matrix multiplication."
   ]
  },
  {
   "cell_type": "code",
   "execution_count": 13,
   "id": "8b9c62a2",
   "metadata": {},
   "outputs": [],
   "source": [
    "A = np.array([[1,2],\n",
    "              [3,4]])"
   ]
  },
  {
   "cell_type": "code",
   "execution_count": 14,
   "id": "fa43039d",
   "metadata": {},
   "outputs": [],
   "source": [
    "B = np.array([[0,2],\n",
    "              [3,2]])"
   ]
  },
  {
   "cell_type": "code",
   "execution_count": 15,
   "id": "442146dd",
   "metadata": {},
   "outputs": [
    {
     "data": {
      "text/plain": [
       "array([[0, 4],\n",
       "       [9, 8]])"
      ]
     },
     "execution_count": 15,
     "metadata": {},
     "output_type": "execute_result"
    }
   ],
   "source": [
    "A*B"
   ]
  },
  {
   "cell_type": "markdown",
   "id": "dafc1e1b",
   "metadata": {},
   "source": [
    "Matrix Multiplication O(N3)"
   ]
  },
  {
   "cell_type": "code",
   "execution_count": 16,
   "id": "9d04847f",
   "metadata": {},
   "outputs": [
    {
     "data": {
      "text/plain": [
       "array([[ 6,  6],\n",
       "       [12, 14]])"
      ]
     },
     "execution_count": 16,
     "metadata": {},
     "output_type": "execute_result"
    }
   ],
   "source": [
    "A = np.array([[1,2],\n",
    "              [3,4]])\n",
    "B = np.array([[0,2],\n",
    "              [3,2]])\n",
    "np.dot(A,B)"
   ]
  },
  {
   "cell_type": "code",
   "execution_count": 17,
   "id": "69a21539",
   "metadata": {},
   "outputs": [],
   "source": [
    "# 3 Blue and 1 Brown YouTube Channal"
   ]
  },
  {
   "cell_type": "markdown",
   "id": "e7eb2f92",
   "metadata": {},
   "source": [
    "### 7. Norm"
   ]
  },
  {
   "cell_type": "code",
   "execution_count": 19,
   "id": "1e5b71a6",
   "metadata": {},
   "outputs": [],
   "source": [
    "x = np.array([3,4])"
   ]
  },
  {
   "cell_type": "code",
   "execution_count": 20,
   "id": "81d0087c",
   "metadata": {},
   "outputs": [],
   "source": [
    "lp2 = np.linalg.norm(x)"
   ]
  },
  {
   "cell_type": "code",
   "execution_count": 21,
   "id": "cbd87cb0",
   "metadata": {},
   "outputs": [
    {
     "name": "stdout",
     "output_type": "stream",
     "text": [
      "5.0\n"
     ]
    }
   ],
   "source": [
    "print(lp2)"
   ]
  },
  {
   "cell_type": "code",
   "execution_count": 22,
   "id": "f112c57f",
   "metadata": {},
   "outputs": [],
   "source": [
    "lp1 = np.linalg.norm(x,ord=1)"
   ]
  },
  {
   "cell_type": "code",
   "execution_count": 23,
   "id": "6e95c9dd",
   "metadata": {},
   "outputs": [
    {
     "data": {
      "text/plain": [
       "7.0"
      ]
     },
     "execution_count": 23,
     "metadata": {},
     "output_type": "execute_result"
    }
   ],
   "source": [
    "lp1"
   ]
  },
  {
   "cell_type": "code",
   "execution_count": 24,
   "id": "5ed484c8",
   "metadata": {},
   "outputs": [],
   "source": [
    "lpinf = np.linalg.norm(x,ord=np.inf)"
   ]
  },
  {
   "cell_type": "code",
   "execution_count": 25,
   "id": "2f9b64cf",
   "metadata": {},
   "outputs": [
    {
     "data": {
      "text/plain": [
       "4.0"
      ]
     },
     "execution_count": 25,
     "metadata": {},
     "output_type": "execute_result"
    }
   ],
   "source": [
    "lpinf"
   ]
  },
  {
   "cell_type": "markdown",
   "id": "2ac5de82",
   "metadata": {},
   "source": [
    "### 8. Determinant"
   ]
  },
  {
   "cell_type": "code",
   "execution_count": 27,
   "id": "101b4016",
   "metadata": {},
   "outputs": [
    {
     "data": {
      "text/plain": [
       "-2.0000000000000004"
      ]
     },
     "execution_count": 27,
     "metadata": {},
     "output_type": "execute_result"
    }
   ],
   "source": [
    "A = np.array([[1,2],\n",
    "              [3,4]])\n",
    "\n",
    "np.linalg.det(A)"
   ]
  },
  {
   "cell_type": "code",
   "execution_count": 28,
   "id": "af56ea19",
   "metadata": {},
   "outputs": [],
   "source": [
    "# 1*4-2*3=-2"
   ]
  },
  {
   "cell_type": "markdown",
   "id": "95062b17",
   "metadata": {},
   "source": [
    "### 9. Inverse"
   ]
  },
  {
   "cell_type": "code",
   "execution_count": 32,
   "id": "ae951eb8",
   "metadata": {},
   "outputs": [
    {
     "data": {
      "text/plain": [
       "array([[-2. ,  1. ],\n",
       "       [ 1.5, -0.5]])"
      ]
     },
     "execution_count": 32,
     "metadata": {},
     "output_type": "execute_result"
    }
   ],
   "source": [
    "Ainv = np.linalg.inv(A) \n",
    "# Ainv i.e. when a matrix A is multiplied with Ainv then the result should be 1. \n",
    "Ainv"
   ]
  },
  {
   "cell_type": "code",
   "execution_count": 34,
   "id": "60d2d0c5",
   "metadata": {},
   "outputs": [
    {
     "name": "stdout",
     "output_type": "stream",
     "text": [
      "[[1.00000000e+00 1.11022302e-16]\n",
      " [0.00000000e+00 1.00000000e+00]]\n"
     ]
    }
   ],
   "source": [
    "print(np.dot(A,Ainv)) #The result reduces to identity matrix i.e. A.A-1 = I"
   ]
  },
  {
   "cell_type": "code",
   "execution_count": 36,
   "id": "e869a387",
   "metadata": {},
   "outputs": [
    {
     "name": "stdout",
     "output_type": "stream",
     "text": [
      "[[-2.   1. ]\n",
      " [ 1.5 -0.5]]\n",
      "[[ 1.0000000e+00 -4.4408921e-16]\n",
      " [ 8.8817842e-16  1.0000000e+00]]\n"
     ]
    }
   ],
   "source": [
    "pinv = np.linalg.pinv(A) #pinv = pseudo inverse\n",
    "print(pinv)\n",
    "print(np.dot(A,pinv))"
   ]
  },
  {
   "cell_type": "code",
   "execution_count": 39,
   "id": "3fa31686",
   "metadata": {},
   "outputs": [],
   "source": [
    "# Let us assume that A is a non invertible matrix.\n",
    "# i.e. A has 0 determinant.\n",
    "# i.e. the inverse should exist with a different value as compared to the pseudo inverse."
   ]
  },
  {
   "cell_type": "code",
   "execution_count": 40,
   "id": "0253cd3d",
   "metadata": {},
   "outputs": [
    {
     "name": "stdout",
     "output_type": "stream",
     "text": [
      "[[0.048 0.024]\n",
      " [0.064 0.032]]\n",
      "[[0.8 0.4]\n",
      " [0.4 0.2]]\n"
     ]
    }
   ],
   "source": [
    "A = np.array([[6,8],\n",
    "              [3,4]])\n",
    "pinv = np.linalg.pinv(A) #pinv = pseudo inverse\n",
    "print(pinv)\n",
    "print(np.dot(A,pinv))"
   ]
  },
  {
   "cell_type": "markdown",
   "id": "f06ac527",
   "metadata": {},
   "source": [
    "### 10. Solve a System of Equations"
   ]
  },
  {
   "cell_type": "code",
   "execution_count": 43,
   "id": "ad8c4aae",
   "metadata": {},
   "outputs": [],
   "source": [
    "# 2x1+3x2 = 8\n",
    "# 3x1+1x2 = 5\n",
    "#Find the vector x = (x1 x2)"
   ]
  },
  {
   "cell_type": "code",
   "execution_count": 44,
   "id": "63f9f153",
   "metadata": {},
   "outputs": [
    {
     "data": {
      "text/plain": [
       "array([1., 2.])"
      ]
     },
     "execution_count": 44,
     "metadata": {},
     "output_type": "execute_result"
    }
   ],
   "source": [
    "# Ax=B\n",
    "a = np.array([[2,3],[3,1]])\n",
    "b = np.array([8,5])\n",
    "np.linalg.solve(a,b)\n",
    "#2 3 x1= 8\n",
    "#3 1 x2= 5"
   ]
  },
  {
   "cell_type": "code",
   "execution_count": 46,
   "id": "fda6e281",
   "metadata": {},
   "outputs": [],
   "source": [
    "# i.e. x1=1, x2=2"
   ]
  },
  {
   "cell_type": "code",
   "execution_count": null,
   "id": "65bd2f1d",
   "metadata": {},
   "outputs": [],
   "source": []
  }
 ],
 "metadata": {
  "kernelspec": {
   "display_name": "Python 3",
   "language": "python",
   "name": "python3"
  },
  "language_info": {
   "codemirror_mode": {
    "name": "ipython",
    "version": 3
   },
   "file_extension": ".py",
   "mimetype": "text/x-python",
   "name": "python",
   "nbconvert_exporter": "python",
   "pygments_lexer": "ipython3",
   "version": "3.8.8"
  }
 },
 "nbformat": 4,
 "nbformat_minor": 5
}
