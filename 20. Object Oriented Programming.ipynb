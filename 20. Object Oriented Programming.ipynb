{
 "cells": [
  {
   "cell_type": "markdown",
   "id": "ee355d39",
   "metadata": {},
   "source": [
    "What is a class?\n",
    "\n",
    "OOP - this paradigm came in when it was needed to extract the common functionality and write it in a single class or write it in a single way.\n",
    "\n",
    "Class - A class has three objects or attributes which define them as Student (like name, roll number and subject). These three attributes combined togeather form a class. This is the whole idea behind the big softwares and also behind the coding blocks software.\n",
    "\n",
    "Example of attributes: model, milage\n",
    "Example of behaviour: run(), drive()\n",
    "\n",
    "Object Oriented Paradigm stands on four pillars:\n",
    "1.Encapsulation (combining the common attributes which the same class will be exhibiting. Student class and Teacher class for example. The sample attributes will be encapsulated in the blueprints of their respective classes).\n",
    "\n",
    "If encapsulation would not have been there then three columns in a table (or this register contains some information) id, name and marks would have been seperated into list of ids, list of name and list of marks.\n",
    "\n",
    "2.Abstraction - It contains the abstract information of the method.\n",
    "\n",
    "3.Inheritance - Inheritance helps us extract out the common functionality, common attributes or the common implementation furthermore.Keep on extracting the information common information in the base class.\n",
    "\n",
    "4.Polymorphism - Many forms. One object can exist in multiple forms. The same question object can exist in multiple forms (mcq, long answer, short answer, etc.). Each of the choices will be referring to a different list which in turn will be referring to a specific entry of choices."
   ]
  },
  {
   "cell_type": "markdown",
   "id": "1378bd21",
   "metadata": {},
   "source": [
    "### A minimal example of a class"
   ]
  },
  {
   "cell_type": "markdown",
   "id": "c74cebaa",
   "metadata": {},
   "source": [
    "- In all the programs we wrote till now, we have designed our program around functions i.e. blocks of statements which manipulate data. This is called the procedure-oriented way of programming.\n",
    "\n",
    "- There is another way of organizing your program which is to combine data and functionality and wrap it inside something called an object. This is called an object oriented programming pradigm.\n",
    "\n",
    "- Most of the time you can use procedural programming, but when writing large programs or have a problem that is better suited to this method, you can use object oriented programming techniques.\n",
    "\n",
    "- Classes and objects are the two main aspects of object oriented programming. A class creates a new type where objects are instances of the class."
   ]
  },
  {
   "cell_type": "code",
   "execution_count": 1,
   "id": "b6a9c024",
   "metadata": {},
   "outputs": [],
   "source": [
    "# A class is a blue print that defines what the object will contain."
   ]
  },
  {
   "cell_type": "markdown",
   "id": "38839f9e",
   "metadata": {},
   "source": [
    "A minimal example of a class"
   ]
  },
  {
   "cell_type": "code",
   "execution_count": 15,
   "id": "a1965544",
   "metadata": {},
   "outputs": [
    {
     "name": "stdout",
     "output_type": "stream",
     "text": [
      "<__main__.Person object at 0x000001D0F3A7BB20>\n"
     ]
    }
   ],
   "source": [
    "class Person:\n",
    "    pass\n",
    "\n",
    "p = Person()\n",
    "print(p)"
   ]
  },
  {
   "cell_type": "code",
   "execution_count": 18,
   "id": "c1e10326",
   "metadata": {},
   "outputs": [],
   "source": [
    "# __main__ is the name of the module in which the class exists."
   ]
  },
  {
   "cell_type": "code",
   "execution_count": 16,
   "id": "9e00668f",
   "metadata": {},
   "outputs": [
    {
     "data": {
      "text/plain": [
       "1996952681248"
      ]
     },
     "execution_count": 16,
     "metadata": {},
     "output_type": "execute_result"
    }
   ],
   "source": [
    "id(p)"
   ]
  },
  {
   "cell_type": "code",
   "execution_count": 17,
   "id": "ae4e17c1",
   "metadata": {},
   "outputs": [
    {
     "data": {
      "text/plain": [
       "'0x1d0f3a7bb20'"
      ]
     },
     "execution_count": 17,
     "metadata": {},
     "output_type": "execute_result"
    }
   ],
   "source": [
    "hex(id(p))"
   ]
  },
  {
   "cell_type": "markdown",
   "id": "fce571f5",
   "metadata": {},
   "source": [
    "### Class with a method\n",
    "\n",
    "Class methods have only one specific difference from ordinary functions - they must have an extra first name that has to be added to the begenning of the parameter list, but you do not give a value for this parameter when you call the method, Python will provide it. This particular variable refers to the object itself, and by convention, it is given the name self."
   ]
  },
  {
   "cell_type": "code",
   "execution_count": 3,
   "id": "83e54349",
   "metadata": {},
   "outputs": [
    {
     "name": "stdout",
     "output_type": "stream",
     "text": [
      "Hello, how are you Jatin?\n"
     ]
    }
   ],
   "source": [
    "class Person:\n",
    "    def say_hi(self):\n",
    "        self.name = 'Jatin'\n",
    "        print('Hello, how are you ' + self.name + \"?\")\n",
    "        \n",
    "p = Person()\n",
    "p.say_hi()"
   ]
  },
  {
   "cell_type": "code",
   "execution_count": 23,
   "id": "b49b3556",
   "metadata": {},
   "outputs": [
    {
     "name": "stdout",
     "output_type": "stream",
     "text": [
      "Hello, my name is  jatin\n",
      "Hello, my name is  jatin\n"
     ]
    }
   ],
   "source": [
    "class Person:\n",
    "    name = \"jatin\"\n",
    "    def say_hi(self):\n",
    "        print('Hello, my name is ', self.name)\n",
    "        \n",
    "p = Person()\n",
    "p.say_hi()\n",
    "\n",
    "Person.say_hi(p)\n",
    "#The above class has attributes and behaviours.The function accepts one argument and we are not passing any argument while making a function call.The class person has an object p using which if you call say_hi p is passed into self. The object is passed as the first argument.\n",
    "#In Python it is allowed to use classes as abstract classes."
   ]
  },
  {
   "cell_type": "code",
   "execution_count": 4,
   "id": "2889a1c2",
   "metadata": {},
   "outputs": [],
   "source": [
    "# int float func and class - everything in Python is an object."
   ]
  },
  {
   "cell_type": "code",
   "execution_count": 5,
   "id": "ea79a0a3",
   "metadata": {},
   "outputs": [
    {
     "name": "stdout",
     "output_type": "stream",
     "text": [
      "True\n"
     ]
    }
   ],
   "source": [
    "a = 1\n",
    "print(isinstance(a,object))"
   ]
  },
  {
   "cell_type": "code",
   "execution_count": 6,
   "id": "a6966df3",
   "metadata": {},
   "outputs": [
    {
     "name": "stdout",
     "output_type": "stream",
     "text": [
      "True\n"
     ]
    }
   ],
   "source": [
    "a = 'Jatin'\n",
    "print(isinstance(a,object))"
   ]
  },
  {
   "cell_type": "code",
   "execution_count": 7,
   "id": "754e0bf0",
   "metadata": {},
   "outputs": [
    {
     "name": "stdout",
     "output_type": "stream",
     "text": [
      "True\n"
     ]
    }
   ],
   "source": [
    "a = print\n",
    "print(isinstance(a,object))"
   ]
  },
  {
   "cell_type": "code",
   "execution_count": 8,
   "id": "97885d13",
   "metadata": {},
   "outputs": [],
   "source": [
    "class A:\n",
    "    pass"
   ]
  },
  {
   "cell_type": "code",
   "execution_count": 9,
   "id": "6fa541c3",
   "metadata": {},
   "outputs": [
    {
     "name": "stdout",
     "output_type": "stream",
     "text": [
      "True\n"
     ]
    }
   ],
   "source": [
    "a = A\n",
    "print(isinstance(a,object))"
   ]
  },
  {
   "cell_type": "code",
   "execution_count": 10,
   "id": "5fc08fcf",
   "metadata": {},
   "outputs": [
    {
     "name": "stdout",
     "output_type": "stream",
     "text": [
      "True\n"
     ]
    }
   ],
   "source": [
    "a = A()\n",
    "print(isinstance(a,object))"
   ]
  },
  {
   "cell_type": "code",
   "execution_count": 11,
   "id": "f0459932",
   "metadata": {},
   "outputs": [],
   "source": [
    "# An object in Python has a flag iscallable which is true or false."
   ]
  },
  {
   "cell_type": "code",
   "execution_count": 12,
   "id": "d60e6423",
   "metadata": {},
   "outputs": [],
   "source": [
    "# callable objects - func, class\n",
    "# non callable objects - int, float"
   ]
  },
  {
   "cell_type": "markdown",
   "id": "365b7d98",
   "metadata": {},
   "source": [
    "### The _ _init_ _ method"
   ]
  },
  {
   "cell_type": "code",
   "execution_count": 27,
   "id": "ca3940e3",
   "metadata": {},
   "outputs": [
    {
     "name": "stdout",
     "output_type": "stream",
     "text": [
      "Hello, my name is abhishek\n",
      "Hello, my name is abhishek\n"
     ]
    }
   ],
   "source": [
    "class Person:\n",
    "#   not a constructor but a hook or a side effect when an object is created.\n",
    "    def __init__(self,name):\n",
    "        self.name=name\n",
    "    \n",
    "    def say_hi(self):\n",
    "        print('Hello, my name is', self.name)\n",
    "        \n",
    "p = Person(\"abhishek\")\n",
    "p.say_hi()\n",
    "\n",
    "\n",
    "Person.say_hi(p)"
   ]
  },
  {
   "cell_type": "markdown",
   "id": "2f523d3d",
   "metadata": {},
   "source": [
    "## Dunders or Magic Methods\n",
    "\n",
    "- They provide us the interface or hooks in which we implement our functionalities.\n",
    "\n",
    "- The instance of the class goes through many events, lifecycle of the object.\n",
    "1. Created\n",
    "2. Deleted (Garbage collected or thrown out of the memory)\n",
    "3. String - Someone tried to get the string representation of it\n",
    "4. Someone tried to add it with some other object.\n",
    "5. Someone tried to subtract it.\n",
    "\n",
    "There are lots of events and behaviours that may happen to the object.\n",
    "\n",
    "Python has created a list of all such events and for each of such event it has created a corresponding a dunder or magic method.\n",
    "\n",
    "__init__(self)\n",
    "\n",
    "__del__(self)\n",
    "\n",
    "__add__(self,other)\n",
    "\n",
    "__str__(self)\n",
    "\n",
    "If we perform a+b, then a.__add__(b) happens internally.\n",
    "\n",
    "If we perform str(a), then a.__str__() happens internally."
   ]
  },
  {
   "cell_type": "code",
   "execution_count": 39,
   "id": "8dec5362",
   "metadata": {},
   "outputs": [],
   "source": [
    "class Car:\n",
    "    def __init__(self,model,mileage):\n",
    "        self.model = model\n",
    "        self.mileage = mileage\n",
    "        \n",
    "    def __str__(self):\n",
    "        return \"{} {}\".format(self.model, self.mileage)\n",
    "    \n",
    "    def __repr__(self):\n",
    "        return \"{}\".format(self.model)\n",
    "    \n",
    "    def __eq__(self,other):\n",
    "        return self.mileage == other.mileage\n",
    "    \n",
    "    def __add__(self,other):\n",
    "        return self.mileage + other.mileage"
   ]
  },
  {
   "cell_type": "code",
   "execution_count": 40,
   "id": "f49355ed",
   "metadata": {},
   "outputs": [],
   "source": [
    "c1 = Car('a',2)\n",
    "c2 = Car('b', 2)"
   ]
  },
  {
   "cell_type": "code",
   "execution_count": 41,
   "id": "47718224",
   "metadata": {},
   "outputs": [
    {
     "data": {
      "text/plain": [
       "4"
      ]
     },
     "execution_count": 41,
     "metadata": {},
     "output_type": "execute_result"
    }
   ],
   "source": [
    "c1 + c2"
   ]
  },
  {
   "cell_type": "code",
   "execution_count": 42,
   "id": "6eb22e45",
   "metadata": {},
   "outputs": [
    {
     "data": {
      "text/plain": [
       "True"
      ]
     },
     "execution_count": 42,
     "metadata": {},
     "output_type": "execute_result"
    }
   ],
   "source": [
    "c1 == c2"
   ]
  },
  {
   "cell_type": "markdown",
   "id": "d3cb48bd",
   "metadata": {},
   "source": [
    "cout << \"jatin\""
   ]
  },
  {
   "cell_type": "code",
   "execution_count": 4,
   "id": "4479c057",
   "metadata": {},
   "outputs": [],
   "source": [
    "class Ostream:\n",
    "    def __lshift__(self,other):\n",
    "        print(other, end ='')\n",
    "        return self #this is necessary because cout<<\"jatin\" will evaluate to cout again. \n",
    "    \n",
    "cout = Ostream()"
   ]
  },
  {
   "cell_type": "code",
   "execution_count": 5,
   "id": "4849a94f",
   "metadata": {},
   "outputs": [
    {
     "name": "stdout",
     "output_type": "stream",
     "text": [
      "jatinkatyal"
     ]
    },
    {
     "data": {
      "text/plain": [
       "<__main__.Ostream at 0x189cc0eaca0>"
      ]
     },
     "execution_count": 5,
     "metadata": {},
     "output_type": "execute_result"
    }
   ],
   "source": [
    "cout<<\"jatin\"<<\"katyal\""
   ]
  },
  {
   "cell_type": "code",
   "execution_count": null,
   "id": "b657c839",
   "metadata": {},
   "outputs": [],
   "source": []
  }
 ],
 "metadata": {
  "kernelspec": {
   "display_name": "Python 3",
   "language": "python",
   "name": "python3"
  },
  "language_info": {
   "codemirror_mode": {
    "name": "ipython",
    "version": 3
   },
   "file_extension": ".py",
   "mimetype": "text/x-python",
   "name": "python",
   "nbconvert_exporter": "python",
   "pygments_lexer": "ipython3",
   "version": "3.8.8"
  }
 },
 "nbformat": 4,
 "nbformat_minor": 5
}
