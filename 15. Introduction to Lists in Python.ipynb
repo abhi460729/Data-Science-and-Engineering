{
 "cells": [
  {
   "cell_type": "markdown",
   "id": "eea1a8c9",
   "metadata": {},
   "source": [
    "## Lists\n",
    "- Ordered Data\n",
    "- [a,b,c,d]\n",
    "- All of them will retain their initial positions\n",
    "\n",
    "## Some of the attributes about the ordered lists are\n",
    "- ordered\n",
    "- mutable\n",
    "- accessed using index\n",
    "- List is Python is hetrogeneous but it is recommended that the list is kept homogeneous"
   ]
  },
  {
   "cell_type": "markdown",
   "id": "a6b0850e",
   "metadata": {},
   "source": [
    "## Lists\n",
    "- A list is a data structure that holds an ordered collection of items i.e. you can store a sequence of items in a list.\n",
    "- The list of items should be enclosed in square brackets so that Python understands that you are specifying a list. Once you have created a list, you can add, remove, or search for items in the list. Since we can add and remove items, we say that a list is a mutable data type i.e. this type can be altered."
   ]
  },
  {
   "cell_type": "markdown",
   "id": "8f601560",
   "metadata": {},
   "source": [
    "### Creating Lists"
   ]
  },
  {
   "cell_type": "code",
   "execution_count": 2,
   "id": "b6355360",
   "metadata": {},
   "outputs": [],
   "source": [
    "a = [1, 2, 3, 4]"
   ]
  },
  {
   "cell_type": "code",
   "execution_count": 3,
   "id": "75badc3b",
   "metadata": {},
   "outputs": [
    {
     "data": {
      "text/plain": [
       "[1, 2, 3, 4]"
      ]
     },
     "execution_count": 3,
     "metadata": {},
     "output_type": "execute_result"
    }
   ],
   "source": [
    "a"
   ]
  },
  {
   "cell_type": "code",
   "execution_count": 4,
   "id": "cf3563d6",
   "metadata": {},
   "outputs": [
    {
     "data": {
      "text/plain": [
       "1"
      ]
     },
     "execution_count": 4,
     "metadata": {},
     "output_type": "execute_result"
    }
   ],
   "source": [
    "a[0]"
   ]
  },
  {
   "cell_type": "code",
   "execution_count": 6,
   "id": "45b81c95",
   "metadata": {},
   "outputs": [],
   "source": [
    "# A hetrogeneous list\n",
    "a = [\"jatin\", 1, 1.6, print]"
   ]
  },
  {
   "cell_type": "code",
   "execution_count": 7,
   "id": "acfc9349",
   "metadata": {},
   "outputs": [
    {
     "data": {
      "text/plain": [
       "'jatin'"
      ]
     },
     "execution_count": 7,
     "metadata": {},
     "output_type": "execute_result"
    }
   ],
   "source": [
    "a[0]"
   ]
  },
  {
   "cell_type": "code",
   "execution_count": 8,
   "id": "1a42c6a2",
   "metadata": {},
   "outputs": [
    {
     "data": {
      "text/plain": [
       "<function print>"
      ]
     },
     "execution_count": 8,
     "metadata": {},
     "output_type": "execute_result"
    }
   ],
   "source": [
    "a[3]"
   ]
  },
  {
   "cell_type": "code",
   "execution_count": 9,
   "id": "ed88697f",
   "metadata": {},
   "outputs": [
    {
     "name": "stdout",
     "output_type": "stream",
     "text": [
      "hello world\n"
     ]
    }
   ],
   "source": [
    "a[3](\"hello world\")"
   ]
  },
  {
   "cell_type": "markdown",
   "id": "50a6259d",
   "metadata": {},
   "source": [
    "### Basic Operations\n",
    "-Python Expression        | Results              | Description\n",
    "\n",
    "-len([1,2,3])              3                      Length\n",
    "\n",
    "-[1,2,3] + [4,5,6]         [1,2,3,4,5,6]          Concatenation\n",
    "\n",
    "-[\"Hi\"]*4                  [\"Hi\",\"Hi\",\"Hi\",\"Hi\"]  Repetition\n",
    "\n",
    "-3 in [1,2,3]              True                   Membership\n",
    "\n",
    "-for x in [1,2,3]: print x 1 2 3                  Iteration"
   ]
  },
  {
   "cell_type": "code",
   "execution_count": 10,
   "id": "9ac28813",
   "metadata": {},
   "outputs": [],
   "source": [
    "a = [1,2,3,4]"
   ]
  },
  {
   "cell_type": "code",
   "execution_count": 11,
   "id": "cc89a8a0",
   "metadata": {},
   "outputs": [
    {
     "data": {
      "text/plain": [
       "4"
      ]
     },
     "execution_count": 11,
     "metadata": {},
     "output_type": "execute_result"
    }
   ],
   "source": [
    "#Length\n",
    "len(a)"
   ]
  },
  {
   "cell_type": "code",
   "execution_count": 13,
   "id": "ab4aac8d",
   "metadata": {},
   "outputs": [
    {
     "data": {
      "text/plain": [
       "[1, 2, 3, 4, 1, 2, 3, 4]"
      ]
     },
     "execution_count": 13,
     "metadata": {},
     "output_type": "execute_result"
    }
   ],
   "source": [
    "#Concatenation\n",
    "a + a"
   ]
  },
  {
   "cell_type": "code",
   "execution_count": 14,
   "id": "778962f8",
   "metadata": {},
   "outputs": [
    {
     "data": {
      "text/plain": [
       "[1, 2, 3, 4, 1, 2, 3, 4, 1, 2, 3, 4, 1, 2, 3, 4, 1, 2, 3, 4]"
      ]
     },
     "execution_count": 14,
     "metadata": {},
     "output_type": "execute_result"
    }
   ],
   "source": [
    "#Repetition\n",
    "a * 5"
   ]
  },
  {
   "cell_type": "code",
   "execution_count": 15,
   "id": "623c4a3f",
   "metadata": {},
   "outputs": [
    {
     "data": {
      "text/plain": [
       "[1, 2, 3, 4]"
      ]
     },
     "execution_count": 15,
     "metadata": {},
     "output_type": "execute_result"
    }
   ],
   "source": [
    "a"
   ]
  },
  {
   "cell_type": "code",
   "execution_count": 16,
   "id": "3b0f0409",
   "metadata": {},
   "outputs": [
    {
     "data": {
      "text/plain": [
       "True"
      ]
     },
     "execution_count": 16,
     "metadata": {},
     "output_type": "execute_result"
    }
   ],
   "source": [
    "# Membership\n",
    "1 in a"
   ]
  },
  {
   "cell_type": "code",
   "execution_count": 18,
   "id": "b1a4e3fa",
   "metadata": {},
   "outputs": [
    {
     "name": "stdout",
     "output_type": "stream",
     "text": [
      "1\n",
      "2\n",
      "3\n",
      "4\n"
     ]
    }
   ],
   "source": [
    "# Iteration\n",
    "for x in a:\n",
    "    print(x)"
   ]
  },
  {
   "cell_type": "markdown",
   "id": "e8749e4c",
   "metadata": {},
   "source": [
    "### Indexing and list slicing\n",
    "- Forward Indexing  1   2  3  4  5\n",
    "\n",
    "- List              1   2  3  4  5\n",
    "\n",
    "- Backward Indexing -5 -4 -3 -2 -1"
   ]
  },
  {
   "cell_type": "code",
   "execution_count": 19,
   "id": "afceb7ec",
   "metadata": {},
   "outputs": [
    {
     "data": {
      "text/plain": [
       "[1, 2, 3, 4]"
      ]
     },
     "execution_count": 19,
     "metadata": {},
     "output_type": "execute_result"
    }
   ],
   "source": [
    "a"
   ]
  },
  {
   "cell_type": "code",
   "execution_count": 20,
   "id": "0c925c2c",
   "metadata": {},
   "outputs": [
    {
     "data": {
      "text/plain": [
       "4"
      ]
     },
     "execution_count": 20,
     "metadata": {},
     "output_type": "execute_result"
    }
   ],
   "source": [
    "a[3]"
   ]
  },
  {
   "cell_type": "code",
   "execution_count": 21,
   "id": "b2157450",
   "metadata": {},
   "outputs": [
    {
     "data": {
      "text/plain": [
       "4"
      ]
     },
     "execution_count": 21,
     "metadata": {},
     "output_type": "execute_result"
    }
   ],
   "source": [
    "a[-1]"
   ]
  },
  {
   "cell_type": "code",
   "execution_count": 22,
   "id": "81f4f3c3",
   "metadata": {},
   "outputs": [
    {
     "data": {
      "text/plain": [
       "4"
      ]
     },
     "execution_count": 22,
     "metadata": {},
     "output_type": "execute_result"
    }
   ],
   "source": [
    "a[len(a)-1]"
   ]
  },
  {
   "cell_type": "code",
   "execution_count": 23,
   "id": "89ca0d70",
   "metadata": {},
   "outputs": [
    {
     "data": {
      "text/plain": [
       "3"
      ]
     },
     "execution_count": 23,
     "metadata": {},
     "output_type": "execute_result"
    }
   ],
   "source": [
    "a[-2]"
   ]
  },
  {
   "cell_type": "code",
   "execution_count": 24,
   "id": "1b134c1b",
   "metadata": {},
   "outputs": [
    {
     "data": {
      "text/plain": [
       "2"
      ]
     },
     "execution_count": 24,
     "metadata": {},
     "output_type": "execute_result"
    }
   ],
   "source": [
    "a[-3]"
   ]
  },
  {
   "cell_type": "code",
   "execution_count": 25,
   "id": "dc72bbd7",
   "metadata": {},
   "outputs": [],
   "source": [
    "a = \"jatin\""
   ]
  },
  {
   "cell_type": "code",
   "execution_count": 26,
   "id": "37179f49",
   "metadata": {},
   "outputs": [
    {
     "data": {
      "text/plain": [
       "'n'"
      ]
     },
     "execution_count": 26,
     "metadata": {},
     "output_type": "execute_result"
    }
   ],
   "source": [
    "a[-1]"
   ]
  },
  {
   "cell_type": "code",
   "execution_count": 27,
   "id": "8626c52a",
   "metadata": {},
   "outputs": [],
   "source": [
    "# So Python provides backward indexing"
   ]
  },
  {
   "cell_type": "code",
   "execution_count": 28,
   "id": "7075a3f7",
   "metadata": {},
   "outputs": [],
   "source": [
    "# List slicing in Python"
   ]
  },
  {
   "cell_type": "code",
   "execution_count": 35,
   "id": "a09b429f",
   "metadata": {},
   "outputs": [],
   "source": [
    "a = [1, 2, 3, 4, 5]"
   ]
  },
  {
   "cell_type": "code",
   "execution_count": 32,
   "id": "10923cf7",
   "metadata": {},
   "outputs": [
    {
     "data": {
      "text/plain": [
       "[2, 3, 4]"
      ]
     },
     "execution_count": 32,
     "metadata": {},
     "output_type": "execute_result"
    }
   ],
   "source": [
    "a[1:4]\n",
    "# 1 is inclusive\n",
    "# 4 is exclusive"
   ]
  },
  {
   "cell_type": "code",
   "execution_count": 33,
   "id": "3d40a4d0",
   "metadata": {},
   "outputs": [
    {
     "data": {
      "text/plain": [
       "[1, 3, 5]"
      ]
     },
     "execution_count": 33,
     "metadata": {},
     "output_type": "execute_result"
    }
   ],
   "source": [
    "a[0:5:2]\n",
    "# 0 is inclusive\n",
    "# 5 is exclusive\n",
    "# 2 is the jump"
   ]
  },
  {
   "cell_type": "code",
   "execution_count": 41,
   "id": "277249bd",
   "metadata": {},
   "outputs": [],
   "source": [
    "#common interview question\n",
    "#which is the most elegant way of reversing the string or reversing the list\n",
    "a = \"jatin\""
   ]
  },
  {
   "cell_type": "code",
   "execution_count": 39,
   "id": "34e9a3f1",
   "metadata": {},
   "outputs": [
    {
     "data": {
      "text/plain": [
       "[1, 2, 3, 4, 5]"
      ]
     },
     "execution_count": 39,
     "metadata": {},
     "output_type": "execute_result"
    }
   ],
   "source": [
    "a[:]"
   ]
  },
  {
   "cell_type": "code",
   "execution_count": 40,
   "id": "b6bae558",
   "metadata": {},
   "outputs": [
    {
     "data": {
      "text/plain": [
       "[5, 4, 3, 2, 1]"
      ]
     },
     "execution_count": 40,
     "metadata": {},
     "output_type": "execute_result"
    }
   ],
   "source": [
    "a[::-1]"
   ]
  },
  {
   "cell_type": "code",
   "execution_count": 42,
   "id": "f8b67530",
   "metadata": {},
   "outputs": [
    {
     "data": {
      "text/plain": [
       "'nitaj'"
      ]
     },
     "execution_count": 42,
     "metadata": {},
     "output_type": "execute_result"
    }
   ],
   "source": [
    "a[::-1]"
   ]
  },
  {
   "cell_type": "code",
   "execution_count": 43,
   "id": "6e8427d0",
   "metadata": {},
   "outputs": [],
   "source": [
    "a = \"jatin\""
   ]
  },
  {
   "cell_type": "code",
   "execution_count": 44,
   "id": "b3b50d76",
   "metadata": {},
   "outputs": [
    {
     "data": {
      "text/plain": [
       "False"
      ]
     },
     "execution_count": 44,
     "metadata": {},
     "output_type": "execute_result"
    }
   ],
   "source": [
    "a == a[::-1]"
   ]
  },
  {
   "cell_type": "code",
   "execution_count": 45,
   "id": "751c5779",
   "metadata": {},
   "outputs": [],
   "source": [
    "a = \"nitin\""
   ]
  },
  {
   "cell_type": "code",
   "execution_count": 46,
   "id": "a70f8f11",
   "metadata": {},
   "outputs": [
    {
     "data": {
      "text/plain": [
       "True"
      ]
     },
     "execution_count": 46,
     "metadata": {},
     "output_type": "execute_result"
    }
   ],
   "source": [
    "a == a[::-1]"
   ]
  },
  {
   "cell_type": "markdown",
   "id": "113bdff9",
   "metadata": {},
   "source": [
    "### Updating the list\n",
    "- insert\n",
    "- append"
   ]
  },
  {
   "cell_type": "code",
   "execution_count": 47,
   "id": "6f2291da",
   "metadata": {},
   "outputs": [],
   "source": [
    "a = [1,2,3,4,5]"
   ]
  },
  {
   "cell_type": "code",
   "execution_count": 48,
   "id": "f14b6137",
   "metadata": {},
   "outputs": [],
   "source": [
    "a.insert?"
   ]
  },
  {
   "cell_type": "code",
   "execution_count": 49,
   "id": "29452fa9",
   "metadata": {},
   "outputs": [],
   "source": [
    "a.insert(1,\"jatin\")"
   ]
  },
  {
   "cell_type": "code",
   "execution_count": 50,
   "id": "7f6d7c6d",
   "metadata": {},
   "outputs": [
    {
     "data": {
      "text/plain": [
       "[1, 'jatin', 2, 3, 4, 5]"
      ]
     },
     "execution_count": 50,
     "metadata": {},
     "output_type": "execute_result"
    }
   ],
   "source": [
    "a"
   ]
  },
  {
   "cell_type": "code",
   "execution_count": 51,
   "id": "8e5eba2d",
   "metadata": {},
   "outputs": [],
   "source": [
    "a.append(\"katyal\")"
   ]
  },
  {
   "cell_type": "code",
   "execution_count": 52,
   "id": "bb98362c",
   "metadata": {},
   "outputs": [
    {
     "data": {
      "text/plain": [
       "[1, 'jatin', 2, 3, 4, 5, 'katyal']"
      ]
     },
     "execution_count": 52,
     "metadata": {},
     "output_type": "execute_result"
    }
   ],
   "source": [
    "a"
   ]
  },
  {
   "cell_type": "code",
   "execution_count": 53,
   "id": "1bda3b3f",
   "metadata": {},
   "outputs": [],
   "source": [
    "a.append(\"verma\")"
   ]
  },
  {
   "cell_type": "code",
   "execution_count": 54,
   "id": "f0c6826e",
   "metadata": {},
   "outputs": [
    {
     "data": {
      "text/plain": [
       "[1, 'jatin', 2, 3, 4, 5, 'katyal', 'verma']"
      ]
     },
     "execution_count": 54,
     "metadata": {},
     "output_type": "execute_result"
    }
   ],
   "source": [
    "a"
   ]
  },
  {
   "cell_type": "markdown",
   "id": "236945ab",
   "metadata": {},
   "source": [
    "### Deleting list elements\n",
    "- del\n",
    "- pop\n",
    "- remove"
   ]
  },
  {
   "cell_type": "code",
   "execution_count": 61,
   "id": "ce20051a",
   "metadata": {},
   "outputs": [],
   "source": [
    "a = [1, 2, 3, 4, 5]"
   ]
  },
  {
   "cell_type": "code",
   "execution_count": 62,
   "id": "06dd6107",
   "metadata": {},
   "outputs": [
    {
     "data": {
      "text/plain": [
       "5"
      ]
     },
     "execution_count": 62,
     "metadata": {},
     "output_type": "execute_result"
    }
   ],
   "source": [
    "# To pop the emlement at the end\n",
    "a.pop()"
   ]
  },
  {
   "cell_type": "code",
   "execution_count": 63,
   "id": "d0d77fdd",
   "metadata": {},
   "outputs": [
    {
     "data": {
      "text/plain": [
       "2"
      ]
     },
     "execution_count": 63,
     "metadata": {},
     "output_type": "execute_result"
    }
   ],
   "source": [
    "# When we want to work with indexes then we can use pop method\n",
    "# To pop an element from a given index\n",
    "a.pop(1)"
   ]
  },
  {
   "cell_type": "code",
   "execution_count": 64,
   "id": "38e3cdd2",
   "metadata": {},
   "outputs": [],
   "source": [
    "a = [\"jatin\",\"prateek\",\"bipin\"]"
   ]
  },
  {
   "cell_type": "code",
   "execution_count": 66,
   "id": "a30e0608",
   "metadata": {},
   "outputs": [],
   "source": [
    "# When we want to work with objects then we can use remove method\n",
    "# remove method takes the object as an argument and removes the first occourance of that object\n",
    "a.remove(\"jatin\")"
   ]
  },
  {
   "cell_type": "code",
   "execution_count": 67,
   "id": "d8b3752c",
   "metadata": {},
   "outputs": [
    {
     "data": {
      "text/plain": [
       "['prateek', 'bipin']"
      ]
     },
     "execution_count": 67,
     "metadata": {},
     "output_type": "execute_result"
    }
   ],
   "source": [
    "a"
   ]
  },
  {
   "cell_type": "code",
   "execution_count": 68,
   "id": "13929446",
   "metadata": {},
   "outputs": [],
   "source": [
    "#del is not an operation but del is a statement in Python to remove the namespace from the Python scope"
   ]
  },
  {
   "cell_type": "code",
   "execution_count": 69,
   "id": "3262add8",
   "metadata": {},
   "outputs": [],
   "source": [
    "del a[1]\n",
    "# deletes the entry at index 1"
   ]
  },
  {
   "cell_type": "code",
   "execution_count": 70,
   "id": "c44a06c2",
   "metadata": {},
   "outputs": [
    {
     "data": {
      "text/plain": [
       "['prateek']"
      ]
     },
     "execution_count": 70,
     "metadata": {},
     "output_type": "execute_result"
    }
   ],
   "source": [
    "a"
   ]
  },
  {
   "cell_type": "code",
   "execution_count": 72,
   "id": "e4dac703",
   "metadata": {},
   "outputs": [],
   "source": [
    "del a"
   ]
  },
  {
   "cell_type": "code",
   "execution_count": 73,
   "id": "1aab483b",
   "metadata": {},
   "outputs": [
    {
     "ename": "NameError",
     "evalue": "name 'a' is not defined",
     "output_type": "error",
     "traceback": [
      "\u001b[1;31m---------------------------------------------------------------------------\u001b[0m",
      "\u001b[1;31mNameError\u001b[0m                                 Traceback (most recent call last)",
      "\u001b[1;32m<ipython-input-73-3f786850e387>\u001b[0m in \u001b[0;36m<module>\u001b[1;34m\u001b[0m\n\u001b[1;32m----> 1\u001b[1;33m \u001b[0ma\u001b[0m\u001b[1;33m\u001b[0m\u001b[1;33m\u001b[0m\u001b[0m\n\u001b[0m",
      "\u001b[1;31mNameError\u001b[0m: name 'a' is not defined"
     ]
    }
   ],
   "source": [
    "a"
   ]
  },
  {
   "cell_type": "code",
   "execution_count": 74,
   "id": "3b9a3607",
   "metadata": {},
   "outputs": [],
   "source": [
    "# a is deleted from the scope  "
   ]
  },
  {
   "cell_type": "markdown",
   "id": "57e211f9",
   "metadata": {},
   "source": [
    "### Sorting and reversing\n",
    "- sort and sorted\n",
    "- reverse and reversed"
   ]
  },
  {
   "cell_type": "code",
   "execution_count": 75,
   "id": "993fedda",
   "metadata": {},
   "outputs": [],
   "source": [
    "a = [4, 1, 2, 3, 1, 5]"
   ]
  },
  {
   "cell_type": "code",
   "execution_count": 76,
   "id": "18dbac45",
   "metadata": {},
   "outputs": [
    {
     "data": {
      "text/plain": [
       "[1, 1, 2, 3, 4, 5]"
      ]
     },
     "execution_count": 76,
     "metadata": {},
     "output_type": "execute_result"
    }
   ],
   "source": [
    "sorted(a)\n",
    "# It takes a list as an argument and returns a list. "
   ]
  },
  {
   "cell_type": "code",
   "execution_count": 77,
   "id": "5ab15af0",
   "metadata": {},
   "outputs": [],
   "source": [
    "a.sort()\n",
    "#It sorts the list inplace and does not return anything."
   ]
  },
  {
   "cell_type": "code",
   "execution_count": 80,
   "id": "93f39211",
   "metadata": {},
   "outputs": [
    {
     "data": {
      "text/plain": [
       "[1, 1, 2, 3, 4, 5]"
      ]
     },
     "execution_count": 80,
     "metadata": {},
     "output_type": "execute_result"
    }
   ],
   "source": [
    "a"
   ]
  },
  {
   "cell_type": "code",
   "execution_count": 81,
   "id": "8d729474",
   "metadata": {},
   "outputs": [
    {
     "data": {
      "text/plain": [
       "[1, 1, 2, 3, 4, 5]"
      ]
     },
     "execution_count": 81,
     "metadata": {},
     "output_type": "execute_result"
    }
   ],
   "source": [
    "a"
   ]
  },
  {
   "cell_type": "code",
   "execution_count": 82,
   "id": "97043aac",
   "metadata": {},
   "outputs": [
    {
     "name": "stdout",
     "output_type": "stream",
     "text": [
      "5\n",
      "4\n",
      "3\n",
      "2\n",
      "1\n",
      "1\n"
     ]
    }
   ],
   "source": [
    "# It takes a list as an argument and returns a reversed list. \n",
    "for i in reversed(a):\n",
    "    print(i)"
   ]
  },
  {
   "cell_type": "code",
   "execution_count": 83,
   "id": "4b4159b3",
   "metadata": {},
   "outputs": [],
   "source": [
    "#It reverses the list inplace and returns None."
   ]
  },
  {
   "cell_type": "code",
   "execution_count": 84,
   "id": "793c3e67",
   "metadata": {},
   "outputs": [],
   "source": [
    "a.reverse()"
   ]
  },
  {
   "cell_type": "code",
   "execution_count": 85,
   "id": "04633e18",
   "metadata": {},
   "outputs": [
    {
     "data": {
      "text/plain": [
       "[5, 4, 3, 2, 1, 1]"
      ]
     },
     "execution_count": 85,
     "metadata": {},
     "output_type": "execute_result"
    }
   ],
   "source": [
    "a"
   ]
  },
  {
   "cell_type": "code",
   "execution_count": null,
   "id": "cb617ff1",
   "metadata": {},
   "outputs": [],
   "source": []
  }
 ],
 "metadata": {
  "kernelspec": {
   "display_name": "Python 3",
   "language": "python",
   "name": "python3"
  },
  "language_info": {
   "codemirror_mode": {
    "name": "ipython",
    "version": 3
   },
   "file_extension": ".py",
   "mimetype": "text/x-python",
   "name": "python",
   "nbconvert_exporter": "python",
   "pygments_lexer": "ipython3",
   "version": "3.8.8"
  }
 },
 "nbformat": 4,
 "nbformat_minor": 5
}
