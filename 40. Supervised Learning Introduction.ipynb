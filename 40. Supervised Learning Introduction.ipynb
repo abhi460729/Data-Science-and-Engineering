{
 "cells": [
  {
   "cell_type": "markdown",
   "id": "cf360419",
   "metadata": {},
   "source": [
    "All the algorithms are divided mainly into two types of algorithms:\n",
    "\n",
    "1. Supervised Learning\n",
    "2. Unsupervised Learning\n",
    "\n",
    "The other algorithms fall into:\n",
    "\n",
    "3. Reinforcement Learning\n",
    "4. Semi Supervised Learning"
   ]
  },
  {
   "cell_type": "markdown",
   "id": "a92ec22a",
   "metadata": {},
   "source": [
    "#### Supervised Learning \n",
    "- (Training) - The idea of the algorithm is to learn from data(data should be labelled. Labelled: X - input, Y - label i.e. it can be continuous or discrete value. At the tile of training both X and Y are given. X is given. Check if it is an Apple or not i.e. 1 or 0).\n",
    "\n",
    "- Generalise (predections on future data and avoid \"OVERFITTING\")."
   ]
  },
  {
   "cell_type": "code",
   "execution_count": null,
   "id": "f8cd4aaa",
   "metadata": {},
   "outputs": [],
   "source": []
  }
 ],
 "metadata": {
  "kernelspec": {
   "display_name": "Python 3",
   "language": "python",
   "name": "python3"
  },
  "language_info": {
   "codemirror_mode": {
    "name": "ipython",
    "version": 3
   },
   "file_extension": ".py",
   "mimetype": "text/x-python",
   "name": "python",
   "nbconvert_exporter": "python",
   "pygments_lexer": "ipython3",
   "version": "3.8.8"
  }
 },
 "nbformat": 4,
 "nbformat_minor": 5
}
