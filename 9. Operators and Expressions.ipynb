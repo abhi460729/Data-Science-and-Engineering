{
 "cells": [
  {
   "cell_type": "code",
   "execution_count": 1,
   "id": "fcadd563",
   "metadata": {},
   "outputs": [],
   "source": [
    "# Only two types of lines exist in Python\n",
    "# Expression - combination of operators and operands\n",
    "# Statement - if, for, else"
   ]
  },
  {
   "cell_type": "code",
   "execution_count": 2,
   "id": "4f3d368a",
   "metadata": {},
   "outputs": [],
   "source": [
    "# 2+3->output->line!=print->STDOUT"
   ]
  },
  {
   "cell_type": "code",
   "execution_count": 3,
   "id": "30369de1",
   "metadata": {},
   "outputs": [],
   "source": [
    "# In Python, functions are always evaluated to a result.\n",
    "# For example:\n",
    "# print(\"_\")\n",
    "# -\n",
    "# -\n",
    "# -\n",
    "# -\n",
    "# None\n",
    "# The print function prints the output to the console and returns None"
   ]
  },
  {
   "cell_type": "code",
   "execution_count": 4,
   "id": "d45eaf4c",
   "metadata": {},
   "outputs": [],
   "source": [
    "# In Python, every expression must result a certain value. If the value is not returned then it must return None."
   ]
  },
  {
   "cell_type": "markdown",
   "id": "96ce1a12",
   "metadata": {},
   "source": [
    "### Arithmetic Operators"
   ]
  },
  {
   "cell_type": "code",
   "execution_count": 5,
   "id": "f9588584",
   "metadata": {},
   "outputs": [],
   "source": [
    "# + - Addition\n",
    "# - - Substraction\n",
    "# / - Division\n",
    "# % - Mod\n",
    "# * - Multiplication\n",
    "# // - Floor Division\n",
    "# ** - To the power of"
   ]
  },
  {
   "cell_type": "code",
   "execution_count": 6,
   "id": "540272f3",
   "metadata": {},
   "outputs": [
    {
     "data": {
      "text/plain": [
       "10"
      ]
     },
     "execution_count": 6,
     "metadata": {},
     "output_type": "execute_result"
    }
   ],
   "source": [
    "5 + 5"
   ]
  },
  {
   "cell_type": "code",
   "execution_count": 7,
   "id": "aa06c03d",
   "metadata": {},
   "outputs": [
    {
     "data": {
      "text/plain": [
       "12"
      ]
     },
     "execution_count": 7,
     "metadata": {},
     "output_type": "execute_result"
    }
   ],
   "source": [
    "10 + 2"
   ]
  },
  {
   "cell_type": "code",
   "execution_count": 8,
   "id": "e5ca2b7a",
   "metadata": {},
   "outputs": [
    {
     "data": {
      "text/plain": [
       "5"
      ]
     },
     "execution_count": 8,
     "metadata": {},
     "output_type": "execute_result"
    }
   ],
   "source": [
    "10 - 5"
   ]
  },
  {
   "cell_type": "code",
   "execution_count": 9,
   "id": "e961dd29",
   "metadata": {},
   "outputs": [
    {
     "data": {
      "text/plain": [
       "3.3333333333333335"
      ]
     },
     "execution_count": 9,
     "metadata": {},
     "output_type": "execute_result"
    }
   ],
   "source": [
    "10/3\n",
    "# as all the operands are integer, so the result will be an integer\n",
    "# in Python 2 the result will be 3\n",
    "# in Python 3 the result will be 3.33, a floating point value even if integer is divided by another integer"
   ]
  },
  {
   "cell_type": "code",
   "execution_count": 11,
   "id": "8415d277",
   "metadata": {},
   "outputs": [
    {
     "data": {
      "text/plain": [
       "5.0"
      ]
     },
     "execution_count": 11,
     "metadata": {},
     "output_type": "execute_result"
    }
   ],
   "source": [
    "10/2"
   ]
  },
  {
   "cell_type": "code",
   "execution_count": 12,
   "id": "999bf676",
   "metadata": {},
   "outputs": [
    {
     "data": {
      "text/plain": [
       "20"
      ]
     },
     "execution_count": 12,
     "metadata": {},
     "output_type": "execute_result"
    }
   ],
   "source": [
    "10 * 2"
   ]
  },
  {
   "cell_type": "code",
   "execution_count": 13,
   "id": "13582cfd",
   "metadata": {},
   "outputs": [
    {
     "data": {
      "text/plain": [
       "10"
      ]
     },
     "execution_count": 13,
     "metadata": {},
     "output_type": "execute_result"
    }
   ],
   "source": [
    "2 * 5"
   ]
  },
  {
   "cell_type": "code",
   "execution_count": 14,
   "id": "d79ec215",
   "metadata": {},
   "outputs": [
    {
     "data": {
      "text/plain": [
       "10"
      ]
     },
     "execution_count": 14,
     "metadata": {},
     "output_type": "execute_result"
    }
   ],
   "source": [
    "110 % 100"
   ]
  },
  {
   "cell_type": "code",
   "execution_count": 10,
   "id": "1cb6da9a",
   "metadata": {},
   "outputs": [
    {
     "data": {
      "text/plain": [
       "3"
      ]
     },
     "execution_count": 10,
     "metadata": {},
     "output_type": "execute_result"
    }
   ],
   "source": [
    "10//3\n",
    "#floored division\n",
    "##this operator is equivalant to casting the result of this operation into integer like int(10/3)."
   ]
  },
  {
   "cell_type": "code",
   "execution_count": 15,
   "id": "e4709c7f",
   "metadata": {},
   "outputs": [
    {
     "data": {
      "text/plain": [
       "32"
      ]
     },
     "execution_count": 15,
     "metadata": {},
     "output_type": "execute_result"
    }
   ],
   "source": [
    "2**5\n",
    "#exponentiation\n",
    "##this operator is equivalant to pow."
   ]
  },
  {
   "cell_type": "markdown",
   "id": "47730877",
   "metadata": {},
   "source": [
    "### Comparison Operators"
   ]
  },
  {
   "cell_type": "code",
   "execution_count": 16,
   "id": "ea681bed",
   "metadata": {},
   "outputs": [],
   "source": [
    "# ==, True, it is equal \n",
    "# !=, True, it is not equal\n",
    "# <, Less Than\n",
    "# >, Greater Than\n",
    "# <=, Less than equal to\n",
    "# >=, Greater than equal to"
   ]
  },
  {
   "cell_type": "code",
   "execution_count": 17,
   "id": "8ee07491",
   "metadata": {},
   "outputs": [
    {
     "data": {
      "text/plain": [
       "False"
      ]
     },
     "execution_count": 17,
     "metadata": {},
     "output_type": "execute_result"
    }
   ],
   "source": [
    "10 != 10"
   ]
  },
  {
   "cell_type": "code",
   "execution_count": 18,
   "id": "12e616d1",
   "metadata": {},
   "outputs": [
    {
     "data": {
      "text/plain": [
       "True"
      ]
     },
     "execution_count": 18,
     "metadata": {},
     "output_type": "execute_result"
    }
   ],
   "source": [
    "10<20"
   ]
  },
  {
   "cell_type": "code",
   "execution_count": 19,
   "id": "59f4a7a0",
   "metadata": {},
   "outputs": [
    {
     "data": {
      "text/plain": [
       "False"
      ]
     },
     "execution_count": 19,
     "metadata": {},
     "output_type": "execute_result"
    }
   ],
   "source": [
    "10>20"
   ]
  },
  {
   "cell_type": "code",
   "execution_count": 20,
   "id": "c6c0787d",
   "metadata": {},
   "outputs": [
    {
     "data": {
      "text/plain": [
       "True"
      ]
     },
     "execution_count": 20,
     "metadata": {},
     "output_type": "execute_result"
    }
   ],
   "source": [
    "10<=10"
   ]
  },
  {
   "cell_type": "code",
   "execution_count": 21,
   "id": "c70975f2",
   "metadata": {},
   "outputs": [
    {
     "data": {
      "text/plain": [
       "False"
      ]
     },
     "execution_count": 21,
     "metadata": {},
     "output_type": "execute_result"
    }
   ],
   "source": [
    "10>=20"
   ]
  },
  {
   "cell_type": "code",
   "execution_count": 22,
   "id": "be359acf",
   "metadata": {},
   "outputs": [],
   "source": [
    "#These comparison operators with strings"
   ]
  },
  {
   "cell_type": "code",
   "execution_count": 23,
   "id": "61014051",
   "metadata": {},
   "outputs": [
    {
     "data": {
      "text/plain": [
       "True"
      ]
     },
     "execution_count": 23,
     "metadata": {},
     "output_type": "execute_result"
    }
   ],
   "source": [
    "\"abc\" == \"abc\""
   ]
  },
  {
   "cell_type": "code",
   "execution_count": 25,
   "id": "5953a212",
   "metadata": {},
   "outputs": [
    {
     "data": {
      "text/plain": [
       "False"
      ]
     },
     "execution_count": 25,
     "metadata": {},
     "output_type": "execute_result"
    }
   ],
   "source": [
    "\"abc\" > \"yz\"\n",
    "# Since a is smaller than y so the whole string is \"abc\" is smaller than \"yz\""
   ]
  },
  {
   "cell_type": "code",
   "execution_count": 26,
   "id": "00be6f48",
   "metadata": {},
   "outputs": [],
   "source": [
    "#String comparison takes place based on lexicographical comparison"
   ]
  },
  {
   "cell_type": "code",
   "execution_count": 27,
   "id": "78a38592",
   "metadata": {},
   "outputs": [
    {
     "data": {
      "text/plain": [
       "True"
      ]
     },
     "execution_count": 27,
     "metadata": {},
     "output_type": "execute_result"
    }
   ],
   "source": [
    "\"abd\" > \"abc\"\n",
    "# Each of the character is compared positionally"
   ]
  },
  {
   "cell_type": "code",
   "execution_count": 29,
   "id": "ced721ae",
   "metadata": {},
   "outputs": [
    {
     "data": {
      "text/plain": [
       "False"
      ]
     },
     "execution_count": 29,
     "metadata": {},
     "output_type": "execute_result"
    }
   ],
   "source": [
    "\"ABC\">\"abc\"\n",
    "#Python compares these two characters based on their ASCII values as lexicographical comparison happens based on their ASCII characters"
   ]
  },
  {
   "cell_type": "code",
   "execution_count": 30,
   "id": "57ae6ef4",
   "metadata": {},
   "outputs": [
    {
     "data": {
      "text/plain": [
       "65"
      ]
     },
     "execution_count": 30,
     "metadata": {},
     "output_type": "execute_result"
    }
   ],
   "source": [
    "ord(\"A\")"
   ]
  },
  {
   "cell_type": "code",
   "execution_count": 31,
   "id": "0180f168",
   "metadata": {},
   "outputs": [
    {
     "data": {
      "text/plain": [
       "97"
      ]
     },
     "execution_count": 31,
     "metadata": {},
     "output_type": "execute_result"
    }
   ],
   "source": [
    "ord(\"a\")\n",
    "# ACSII value of a character is obtained by ord function."
   ]
  },
  {
   "cell_type": "markdown",
   "id": "04e79c8e",
   "metadata": {},
   "source": [
    "### Assignment Operators\n",
    "=, +=, -=, *=, /=, %=, **="
   ]
  },
  {
   "cell_type": "code",
   "execution_count": 34,
   "id": "83987226",
   "metadata": {},
   "outputs": [
    {
     "name": "stdout",
     "output_type": "stream",
     "text": [
      "20\n"
     ]
    }
   ],
   "source": [
    "a=10\n",
    "a+=10\n",
    "print(a)"
   ]
  },
  {
   "cell_type": "code",
   "execution_count": 35,
   "id": "1c42cb6b",
   "metadata": {},
   "outputs": [
    {
     "name": "stdout",
     "output_type": "stream",
     "text": [
      "15\n"
     ]
    }
   ],
   "source": [
    "a-=5\n",
    "print(a)"
   ]
  },
  {
   "cell_type": "markdown",
   "id": "84d97bda",
   "metadata": {},
   "source": [
    "### Logical Operators\n",
    "not, and, or"
   ]
  },
  {
   "cell_type": "code",
   "execution_count": 37,
   "id": "b916f94b",
   "metadata": {},
   "outputs": [],
   "source": [
    "a = True\n",
    "#In Python the constant True is not exactly boolean"
   ]
  },
  {
   "cell_type": "code",
   "execution_count": 38,
   "id": "0816807c",
   "metadata": {},
   "outputs": [
    {
     "data": {
      "text/plain": [
       "True"
      ]
     },
     "execution_count": 38,
     "metadata": {},
     "output_type": "execute_result"
    }
   ],
   "source": [
    "isinstance(1,int)"
   ]
  },
  {
   "cell_type": "code",
   "execution_count": 39,
   "id": "26037ca0",
   "metadata": {},
   "outputs": [
    {
     "data": {
      "text/plain": [
       "False"
      ]
     },
     "execution_count": 39,
     "metadata": {},
     "output_type": "execute_result"
    }
   ],
   "source": [
    "isinstance(1,str)"
   ]
  },
  {
   "cell_type": "code",
   "execution_count": 40,
   "id": "afb023fa",
   "metadata": {},
   "outputs": [
    {
     "data": {
      "text/plain": [
       "True"
      ]
     },
     "execution_count": 40,
     "metadata": {},
     "output_type": "execute_result"
    }
   ],
   "source": [
    "isinstance(True,int)"
   ]
  },
  {
   "cell_type": "code",
   "execution_count": 41,
   "id": "4a35b363",
   "metadata": {},
   "outputs": [
    {
     "data": {
      "text/plain": [
       "6"
      ]
     },
     "execution_count": 41,
     "metadata": {},
     "output_type": "execute_result"
    }
   ],
   "source": [
    "5 + True"
   ]
  },
  {
   "cell_type": "code",
   "execution_count": 42,
   "id": "f5b9a569",
   "metadata": {},
   "outputs": [],
   "source": [
    "#Booleans in Python are nothing but integer"
   ]
  },
  {
   "cell_type": "code",
   "execution_count": 43,
   "id": "6394444a",
   "metadata": {},
   "outputs": [
    {
     "data": {
      "text/plain": [
       "bool"
      ]
     },
     "execution_count": 43,
     "metadata": {},
     "output_type": "execute_result"
    }
   ],
   "source": [
    "type(True)"
   ]
  },
  {
   "cell_type": "code",
   "execution_count": 44,
   "id": "35bfed69",
   "metadata": {},
   "outputs": [],
   "source": [
    "# booleans are inherited from integers"
   ]
  },
  {
   "cell_type": "code",
   "execution_count": 45,
   "id": "54d49532",
   "metadata": {},
   "outputs": [],
   "source": [
    "# not is an unary operator"
   ]
  },
  {
   "cell_type": "code",
   "execution_count": 46,
   "id": "65c6233b",
   "metadata": {},
   "outputs": [
    {
     "data": {
      "text/plain": [
       "False"
      ]
     },
     "execution_count": 46,
     "metadata": {},
     "output_type": "execute_result"
    }
   ],
   "source": [
    "not True"
   ]
  },
  {
   "cell_type": "code",
   "execution_count": 47,
   "id": "6889aca0",
   "metadata": {},
   "outputs": [
    {
     "data": {
      "text/plain": [
       "True"
      ]
     },
     "execution_count": 47,
     "metadata": {},
     "output_type": "execute_result"
    }
   ],
   "source": [
    "not False"
   ]
  },
  {
   "cell_type": "code",
   "execution_count": 48,
   "id": "bedd9d5d",
   "metadata": {},
   "outputs": [
    {
     "data": {
      "text/plain": [
       "False"
      ]
     },
     "execution_count": 48,
     "metadata": {},
     "output_type": "execute_result"
    }
   ],
   "source": [
    "True and False"
   ]
  },
  {
   "cell_type": "code",
   "execution_count": 49,
   "id": "015a4e82",
   "metadata": {},
   "outputs": [
    {
     "data": {
      "text/plain": [
       "False"
      ]
     },
     "execution_count": 49,
     "metadata": {},
     "output_type": "execute_result"
    }
   ],
   "source": [
    "False and True"
   ]
  },
  {
   "cell_type": "code",
   "execution_count": 50,
   "id": "1bdd32af",
   "metadata": {},
   "outputs": [
    {
     "data": {
      "text/plain": [
       "True"
      ]
     },
     "execution_count": 50,
     "metadata": {},
     "output_type": "execute_result"
    }
   ],
   "source": [
    "True and True"
   ]
  },
  {
   "cell_type": "code",
   "execution_count": 51,
   "id": "5dbe9e26",
   "metadata": {},
   "outputs": [
    {
     "data": {
      "text/plain": [
       "True"
      ]
     },
     "execution_count": 51,
     "metadata": {},
     "output_type": "execute_result"
    }
   ],
   "source": [
    "True or False"
   ]
  },
  {
   "cell_type": "code",
   "execution_count": 52,
   "id": "487cb702",
   "metadata": {},
   "outputs": [
    {
     "data": {
      "text/plain": [
       "True"
      ]
     },
     "execution_count": 52,
     "metadata": {},
     "output_type": "execute_result"
    }
   ],
   "source": [
    "False or True"
   ]
  },
  {
   "cell_type": "code",
   "execution_count": 53,
   "id": "fe1be607",
   "metadata": {},
   "outputs": [
    {
     "data": {
      "text/plain": [
       "True"
      ]
     },
     "execution_count": 53,
     "metadata": {},
     "output_type": "execute_result"
    }
   ],
   "source": [
    "True or True"
   ]
  },
  {
   "cell_type": "code",
   "execution_count": 54,
   "id": "8fc03062",
   "metadata": {},
   "outputs": [],
   "source": [
    "#Python as a language does not have bool as primitive types, then how does False or True, False and True works?"
   ]
  },
  {
   "cell_type": "code",
   "execution_count": 55,
   "id": "9552a452",
   "metadata": {},
   "outputs": [],
   "source": [
    "# They work on the concept of Truthy and Falsy. Thuthy are those that are not completely True but can be considered as True."
   ]
  },
  {
   "cell_type": "code",
   "execution_count": 56,
   "id": "b10a754f",
   "metadata": {},
   "outputs": [
    {
     "data": {
      "text/plain": [
       "False"
      ]
     },
     "execution_count": 56,
     "metadata": {},
     "output_type": "execute_result"
    }
   ],
   "source": [
    "10!=10"
   ]
  },
  {
   "cell_type": "code",
   "execution_count": 57,
   "id": "08ec6cff",
   "metadata": {},
   "outputs": [],
   "source": [
    "# Thuthy Values\n",
    "# + int\n",
    "# - int\n",
    "# \"__\", A non empty string\n",
    "# True"
   ]
  },
  {
   "cell_type": "code",
   "execution_count": 58,
   "id": "195b3f69",
   "metadata": {},
   "outputs": [],
   "source": [
    "#Falsy Values\n",
    "# 0\n",
    "# \"\"\n",
    "# False"
   ]
  },
  {
   "cell_type": "code",
   "execution_count": 60,
   "id": "0ef9d56f",
   "metadata": {},
   "outputs": [
    {
     "data": {
      "text/plain": [
       "0"
      ]
     },
     "execution_count": 60,
     "metadata": {},
     "output_type": "execute_result"
    }
   ],
   "source": [
    "5 and 0 # Truthy value and a falsy value"
   ]
  },
  {
   "cell_type": "code",
   "execution_count": 61,
   "id": "ed20c067",
   "metadata": {},
   "outputs": [],
   "source": [
    "# 0a || B = B ..Eq. 1\n",
    "# 1a || B = 1a ..Eq. 2\n",
    "# 0a && B = 0a ..Eq. 3\n",
    "# 1a && B = B ..Eq. 4\n",
    "\n",
    "# This rule is known as short circuiting"
   ]
  },
  {
   "cell_type": "code",
   "execution_count": 62,
   "id": "734ae654",
   "metadata": {},
   "outputs": [
    {
     "data": {
      "text/plain": [
       "5"
      ]
     },
     "execution_count": 62,
     "metadata": {},
     "output_type": "execute_result"
    }
   ],
   "source": [
    "5 or 7 #According to equation 2 output should be Truthy value i.e. 5"
   ]
  },
  {
   "cell_type": "code",
   "execution_count": null,
   "id": "1baa6d74",
   "metadata": {},
   "outputs": [],
   "source": []
  }
 ],
 "metadata": {
  "kernelspec": {
   "display_name": "Python 3",
   "language": "python",
   "name": "python3"
  },
  "language_info": {
   "codemirror_mode": {
    "name": "ipython",
    "version": 3
   },
   "file_extension": ".py",
   "mimetype": "text/x-python",
   "name": "python",
   "nbconvert_exporter": "python",
   "pygments_lexer": "ipython3",
   "version": "3.8.8"
  }
 },
 "nbformat": 4,
 "nbformat_minor": 5
}
