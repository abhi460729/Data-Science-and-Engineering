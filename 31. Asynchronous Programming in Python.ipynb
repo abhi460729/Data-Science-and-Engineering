{
 "cells": [
  {
   "cell_type": "code",
   "execution_count": null,
   "id": "1a003658",
   "metadata": {},
   "outputs": [],
   "source": [
    "a = 10\n",
    "print(a*5)\n",
    "\n",
    "def show():\n",
    "    pass\n",
    "\n",
    "show()\n",
    "show()\n",
    "show()"
   ]
  },
  {
   "cell_type": "markdown",
   "id": "c9973d99",
   "metadata": {},
   "source": [
    "Asynchronous programming is a type of parallel programming in which a unit of work is allowed to run seperately from the primary application thread. When the work is complete, it notifies the main thread about completion or faliure of the worker thread. There are numerous benefits to using it, such as improved application performance and enhanced responsiveness."
   ]
  },
  {
   "cell_type": "code",
   "execution_count": null,
   "id": "bad31f04",
   "metadata": {},
   "outputs": [],
   "source": [
    "# In Python we ave 4 ways of writing asynchronous code."
   ]
  },
  {
   "cell_type": "markdown",
   "id": "eb6d6ac1",
   "metadata": {},
   "source": [
    "### There are 4 ways of writing asynchronous code.-\n",
    "1. Multi Processes - 1 Process. Memory cannot be shared.\n",
    "2. Multi Threading - 1 Process, Multiple Threads. More chances of a deadlock. Memory can be shared. Our OS decides which thread will be running the CPU.\n",
    "3. Couroutines - In case of couroutines we will decide which process will be running. Context switching is in our hand.\n",
    "4. AsyncIO - It makes use of couroutines. It makes our program a little bit more maintainable and readable."
   ]
  },
  {
   "cell_type": "code",
   "execution_count": null,
   "id": "382ff2ff",
   "metadata": {},
   "outputs": [],
   "source": [
    "def func2():\n",
    "    return 5\n",
    "def func():\n",
    "    yield func2()\n",
    "def main():\n",
    "    pass\n",
    "#Couroutines"
   ]
  },
  {
   "cell_type": "markdown",
   "id": "3e051aa3",
   "metadata": {},
   "source": [
    "### Multi Processes"
   ]
  },
  {
   "cell_type": "code",
   "execution_count": 38,
   "id": "b1d6c942",
   "metadata": {},
   "outputs": [],
   "source": [
    "from multiprocessing import Process"
   ]
  },
  {
   "cell_type": "code",
   "execution_count": 39,
   "id": "7c24aa30",
   "metadata": {},
   "outputs": [],
   "source": [
    "# def showSquare(num = 2):\n",
    "#     print(num ** 2)\n",
    "#     for i in range(1000000000000000000000):pass"
   ]
  },
  {
   "cell_type": "code",
   "execution_count": 40,
   "id": "fea7fd8d",
   "metadata": {},
   "outputs": [],
   "source": [
    "def showSquare(num = 2):\n",
    "    print(num ** 2)\n",
    "    for i in range(1000000000000000000000):pass"
   ]
  },
  {
   "cell_type": "code",
   "execution_count": 41,
   "id": "921b49b3",
   "metadata": {},
   "outputs": [],
   "source": [
    "procs = []"
   ]
  },
  {
   "cell_type": "code",
   "execution_count": 42,
   "id": "69b9f23d",
   "metadata": {},
   "outputs": [],
   "source": [
    "for i in range(5):\n",
    "    procs.append(Process(target=showSquare,args = (i+1, )))"
   ]
  },
  {
   "cell_type": "code",
   "execution_count": 43,
   "id": "6a7b987a",
   "metadata": {},
   "outputs": [],
   "source": [
    "for proc in procs:\n",
    "    proc.start()"
   ]
  },
  {
   "cell_type": "code",
   "execution_count": 44,
   "id": "8d5593a3",
   "metadata": {},
   "outputs": [],
   "source": [
    "for proc in procs:\n",
    "    proc.join()"
   ]
  },
  {
   "cell_type": "markdown",
   "id": "d4d545d4",
   "metadata": {},
   "source": [
    "### Multi Threading"
   ]
  },
  {
   "cell_type": "code",
   "execution_count": 59,
   "id": "33ca27de",
   "metadata": {},
   "outputs": [],
   "source": [
    "from threading import Thread"
   ]
  },
  {
   "cell_type": "code",
   "execution_count": 60,
   "id": "2b9239ce",
   "metadata": {},
   "outputs": [],
   "source": [
    "def square(n):\n",
    "    print(\"square is\", n**2)\n",
    "def cube(n):\n",
    "    print(\"cube is\", n**3)"
   ]
  },
  {
   "cell_type": "code",
   "execution_count": 61,
   "id": "55a6ae6d",
   "metadata": {},
   "outputs": [],
   "source": [
    "t1 = Thread(target = square, args =(4,))\n",
    "t2 = Thread(target = cube, args = (3,))"
   ]
  },
  {
   "cell_type": "code",
   "execution_count": 62,
   "id": "3c507477",
   "metadata": {},
   "outputs": [
    {
     "name": "stdout",
     "output_type": "stream",
     "text": [
      "square is cube is 27\n",
      "hello16\n",
      "\n"
     ]
    }
   ],
   "source": [
    "t1.start()\n",
    "t2.start()\n",
    "print(\"hello\")"
   ]
  },
  {
   "cell_type": "code",
   "execution_count": 65,
   "id": "88597cc9",
   "metadata": {},
   "outputs": [],
   "source": [
    "t1.join() #join is a synchronous method and it is a blocking code."
   ]
  },
  {
   "cell_type": "code",
   "execution_count": 66,
   "id": "3e8310bf",
   "metadata": {},
   "outputs": [],
   "source": [
    "t2.join()"
   ]
  },
  {
   "cell_type": "code",
   "execution_count": 68,
   "id": "bc1d3da9",
   "metadata": {},
   "outputs": [],
   "source": [
    "# The main advantage of having thread is to have resource sharing."
   ]
  },
  {
   "cell_type": "code",
   "execution_count": null,
   "id": "013a57fc",
   "metadata": {},
   "outputs": [],
   "source": []
  },
  {
   "cell_type": "code",
   "execution_count": null,
   "id": "f162d6d0",
   "metadata": {},
   "outputs": [],
   "source": []
  },
  {
   "cell_type": "code",
   "execution_count": 69,
   "id": "f943e544",
   "metadata": {},
   "outputs": [],
   "source": [
    "from queue import Queue"
   ]
  },
  {
   "cell_type": "code",
   "execution_count": 70,
   "id": "f2e4a94f",
   "metadata": {},
   "outputs": [],
   "source": [
    "def producer(q):\n",
    "    for i in range(5):\n",
    "        q.put(i)\n",
    "        print(\"published\",i)\n",
    "\n",
    "def consumer(q):\n",
    "    while True:\n",
    "        data = q.get()\n",
    "        print(\"consumed\", data)"
   ]
  },
  {
   "cell_type": "code",
   "execution_count": 71,
   "id": "4d78e798",
   "metadata": {},
   "outputs": [],
   "source": [
    "q = Queue()"
   ]
  },
  {
   "cell_type": "code",
   "execution_count": 72,
   "id": "c4167484",
   "metadata": {},
   "outputs": [],
   "source": [
    "producer_thread = Thread(target = producer, args = (q,))\n",
    "consumer_thread = Thread(target = consumer, args = (q,))"
   ]
  },
  {
   "cell_type": "code",
   "execution_count": 73,
   "id": "a6c0566b",
   "metadata": {},
   "outputs": [],
   "source": [
    "consumer_thread.start()"
   ]
  },
  {
   "cell_type": "code",
   "execution_count": 74,
   "id": "22ea525c",
   "metadata": {},
   "outputs": [
    {
     "name": "stdout",
     "output_type": "stream",
     "text": [
      "published 0\n",
      "published 1\n",
      "published 2\n",
      "published 3\n",
      "published 4\n",
      "consumed 0\n",
      "consumed 1\n",
      "consumed 2\n",
      "consumed 3\n",
      "consumed 4\n"
     ]
    }
   ],
   "source": [
    "producer_thread.start()"
   ]
  },
  {
   "cell_type": "code",
   "execution_count": 75,
   "id": "8609bfa0",
   "metadata": {},
   "outputs": [],
   "source": [
    "#The above is happening in a multithreaded asynchronous manner."
   ]
  },
  {
   "cell_type": "code",
   "execution_count": 76,
   "id": "54e6bc13",
   "metadata": {},
   "outputs": [],
   "source": [
    "producer_thread.join()"
   ]
  },
  {
   "cell_type": "code",
   "execution_count": null,
   "id": "03ae4e81",
   "metadata": {},
   "outputs": [],
   "source": [
    "consumer_thread.join()"
   ]
  }
 ],
 "metadata": {
  "kernelspec": {
   "display_name": "Python 3",
   "language": "python",
   "name": "python3"
  },
  "language_info": {
   "codemirror_mode": {
    "name": "ipython",
    "version": 3
   },
   "file_extension": ".py",
   "mimetype": "text/x-python",
   "name": "python",
   "nbconvert_exporter": "python",
   "pygments_lexer": "ipython3",
   "version": "3.8.8"
  }
 },
 "nbformat": 4,
 "nbformat_minor": 5
}
