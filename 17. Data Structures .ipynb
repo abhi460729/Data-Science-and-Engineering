{
 "cells": [
  {
   "cell_type": "markdown",
   "id": "73b4f041",
   "metadata": {},
   "source": [
    "### Dictionary\n",
    "- A dictionary is like an address-book where you can find the address or contact details of a person by knowing only his/her name i.e. we associate keys (name) with values (details). Note that the key must be unique just like you cannot find out the correct information if you have two persons with the exact same name.\n",
    "- Remember that key-value pairs in a dictionary are not ordered in any manner."
   ]
  },
  {
   "cell_type": "code",
   "execution_count": 2,
   "id": "5e77bfdc",
   "metadata": {},
   "outputs": [],
   "source": [
    "a = [1, 2, 3, 4]"
   ]
  },
  {
   "cell_type": "code",
   "execution_count": 3,
   "id": "9c529feb",
   "metadata": {},
   "outputs": [
    {
     "data": {
      "text/plain": [
       "2"
      ]
     },
     "execution_count": 3,
     "metadata": {},
     "output_type": "execute_result"
    }
   ],
   "source": [
    "a[1]"
   ]
  },
  {
   "cell_type": "code",
   "execution_count": 5,
   "id": "ff8b4f4a",
   "metadata": {},
   "outputs": [],
   "source": [
    "# tuples and lists are called ordered data structures because they store data in an ordered sequence. All the information is accessed using indexes in the same order as they were defined."
   ]
  },
  {
   "cell_type": "code",
   "execution_count": 7,
   "id": "2909e72e",
   "metadata": {},
   "outputs": [],
   "source": [
    "# dictionary is unordered. You can access your data by giving the key that you used while instantiating a dictionary."
   ]
  },
  {
   "cell_type": "code",
   "execution_count": 8,
   "id": "e63de7d4",
   "metadata": {},
   "outputs": [],
   "source": [
    "a = [1,2,3,4]"
   ]
  },
  {
   "cell_type": "code",
   "execution_count": 9,
   "id": "1d854f58",
   "metadata": {},
   "outputs": [],
   "source": [
    "a = {\n",
    "    \"name\": \"jatin\",\n",
    "    \"marks\": 90,\n",
    "    \"subjects\": [\"eng\",\"math\"],\n",
    "    \"friends\":{\n",
    "        \"pulkit\": \"android\"\n",
    "    }\n",
    "}"
   ]
  },
  {
   "cell_type": "code",
   "execution_count": 10,
   "id": "9cb7312c",
   "metadata": {},
   "outputs": [
    {
     "data": {
      "text/plain": [
       "'jatin'"
      ]
     },
     "execution_count": 10,
     "metadata": {},
     "output_type": "execute_result"
    }
   ],
   "source": [
    "a[\"name\"]"
   ]
  },
  {
   "cell_type": "code",
   "execution_count": 11,
   "id": "93be6738",
   "metadata": {},
   "outputs": [
    {
     "data": {
      "text/plain": [
       "['eng', 'math']"
      ]
     },
     "execution_count": 11,
     "metadata": {},
     "output_type": "execute_result"
    }
   ],
   "source": [
    "a[\"subjects\"]"
   ]
  },
  {
   "cell_type": "code",
   "execution_count": 12,
   "id": "503bda5b",
   "metadata": {},
   "outputs": [
    {
     "data": {
      "text/plain": [
       "{'pulkit': 'android'}"
      ]
     },
     "execution_count": 12,
     "metadata": {},
     "output_type": "execute_result"
    }
   ],
   "source": [
    "a[\"friends\"]"
   ]
  },
  {
   "cell_type": "code",
   "execution_count": 13,
   "id": "01379644",
   "metadata": {},
   "outputs": [
    {
     "name": "stdout",
     "output_type": "stream",
     "text": [
      "name\n",
      "marks\n",
      "subjects\n",
      "friends\n"
     ]
    }
   ],
   "source": [
    "for key in a:\n",
    "    print(key)"
   ]
  },
  {
   "cell_type": "markdown",
   "id": "6110ebc4",
   "metadata": {},
   "source": [
    "### Some important dict methods\n",
    "- get()\n",
    "- items()\n",
    "- keys()\n",
    "- values()\n",
    "- clear()"
   ]
  },
  {
   "cell_type": "code",
   "execution_count": 14,
   "id": "82958957",
   "metadata": {},
   "outputs": [
    {
     "name": "stdout",
     "output_type": "stream",
     "text": [
      "('name', 'jatin')\n",
      "('marks', 90)\n",
      "('subjects', ['eng', 'math'])\n",
      "('friends', {'pulkit': 'android'})\n"
     ]
    }
   ],
   "source": [
    "for item in a.items():\n",
    "    print(item)"
   ]
  },
  {
   "cell_type": "code",
   "execution_count": 15,
   "id": "94524f27",
   "metadata": {},
   "outputs": [],
   "source": [
    "# items creates a tuple of the pair inside this dictionary"
   ]
  },
  {
   "cell_type": "code",
   "execution_count": 16,
   "id": "927708b5",
   "metadata": {},
   "outputs": [],
   "source": [
    "# destructuring the key, value pair right here in the loop."
   ]
  },
  {
   "cell_type": "code",
   "execution_count": 18,
   "id": "6fa77b6b",
   "metadata": {},
   "outputs": [
    {
     "name": "stdout",
     "output_type": "stream",
     "text": [
      "name => jatin\n",
      "marks => 90\n",
      "subjects => ['eng', 'math']\n",
      "friends => {'pulkit': 'android'}\n"
     ]
    }
   ],
   "source": [
    "for key, value in a.items():\n",
    "    print(key,\"=>\",value)"
   ]
  },
  {
   "cell_type": "code",
   "execution_count": 25,
   "id": "ad9d27df",
   "metadata": {},
   "outputs": [
    {
     "name": "stdout",
     "output_type": "stream",
     "text": [
      "name\n",
      "marks\n",
      "subjects\n",
      "friends\n"
     ]
    }
   ],
   "source": [
    "# To print all the keys.\n",
    "for key in a.keys():\n",
    "    print(key)"
   ]
  },
  {
   "cell_type": "code",
   "execution_count": 22,
   "id": "d0c1b55a",
   "metadata": {},
   "outputs": [
    {
     "name": "stdout",
     "output_type": "stream",
     "text": [
      "jatin\n",
      "90\n",
      "['eng', 'math']\n",
      "{'pulkit': 'android'}\n"
     ]
    }
   ],
   "source": [
    "# To print all the values.\n",
    "for values in a.values():\n",
    "    print(values)"
   ]
  },
  {
   "cell_type": "code",
   "execution_count": 26,
   "id": "e9f01938",
   "metadata": {},
   "outputs": [
    {
     "data": {
      "text/plain": [
       "'jatin'"
      ]
     },
     "execution_count": 26,
     "metadata": {},
     "output_type": "execute_result"
    }
   ],
   "source": [
    "a[\"name\"]\n",
    "# It is not a safe method."
   ]
  },
  {
   "cell_type": "code",
   "execution_count": 27,
   "id": "3feda35a",
   "metadata": {},
   "outputs": [
    {
     "data": {
      "text/plain": [
       "'jatin'"
      ]
     },
     "execution_count": 27,
     "metadata": {},
     "output_type": "execute_result"
    }
   ],
   "source": [
    "a.get(\"name\")\n",
    "# It is a safe method."
   ]
  },
  {
   "cell_type": "code",
   "execution_count": 28,
   "id": "5f0ef661",
   "metadata": {},
   "outputs": [
    {
     "ename": "KeyError",
     "evalue": "'name1'",
     "output_type": "error",
     "traceback": [
      "\u001b[1;31m---------------------------------------------------------------------------\u001b[0m",
      "\u001b[1;31mKeyError\u001b[0m                                  Traceback (most recent call last)",
      "\u001b[1;32m<ipython-input-28-eb4c64729413>\u001b[0m in \u001b[0;36m<module>\u001b[1;34m\u001b[0m\n\u001b[1;32m----> 1\u001b[1;33m \u001b[0ma\u001b[0m\u001b[1;33m[\u001b[0m\u001b[1;34m\"name1\"\u001b[0m\u001b[1;33m]\u001b[0m\u001b[1;33m\u001b[0m\u001b[1;33m\u001b[0m\u001b[0m\n\u001b[0m\u001b[0;32m      2\u001b[0m \u001b[1;31m# It is not a safe method.\u001b[0m\u001b[1;33m\u001b[0m\u001b[1;33m\u001b[0m\u001b[1;33m\u001b[0m\u001b[0m\n",
      "\u001b[1;31mKeyError\u001b[0m: 'name1'"
     ]
    }
   ],
   "source": [
    "a[\"name1\"]\n",
    "# It is not a safe method. It throws an error."
   ]
  },
  {
   "cell_type": "code",
   "execution_count": 31,
   "id": "b4e80b6e",
   "metadata": {},
   "outputs": [],
   "source": [
    "a.get(\"name1\")\n",
    "# It is a safe method. It may return None as a value."
   ]
  },
  {
   "cell_type": "code",
   "execution_count": 32,
   "id": "61502f93",
   "metadata": {},
   "outputs": [],
   "source": [
    "a.clear()\n",
    "# To clear out the dictionary"
   ]
  },
  {
   "cell_type": "code",
   "execution_count": 34,
   "id": "27c3c521",
   "metadata": {},
   "outputs": [
    {
     "data": {
      "text/plain": [
       "{}"
      ]
     },
     "execution_count": 34,
     "metadata": {},
     "output_type": "execute_result"
    }
   ],
   "source": [
    "a\n",
    "# Hence, we got an empty dictionary."
   ]
  },
  {
   "cell_type": "markdown",
   "id": "b1bc137d",
   "metadata": {},
   "source": [
    "### Challenge\n",
    "Write a simple Python program which inputs and stores the data about university students as a list of dictionaries. Your final record structure should look like this:\n",
    "\n",
    "[\n",
    "\n",
    "    {\n",
    "        'roll-no':1211,\n",
    "        'name':'Ravi',\n",
    "        'branch':'CSE'\n",
    "    },\n",
    "    {\n",
    "         'roll-no':202,\n",
    "         'name':'Abhishek',\n",
    "         'branch':'SE'\n",
    "    },\n",
    "    {\n",
    "         'roll-no':1202,\n",
    "         'name':'Sachin',\n",
    "         'branch':'IT'\n",
    "    }\n",
    "    \n",
    "]"
   ]
  },
  {
   "cell_type": "code",
   "execution_count": 3,
   "id": "5ce37c19",
   "metadata": {},
   "outputs": [],
   "source": [
    "# We need to create a list of students out of this dictionary."
   ]
  },
  {
   "cell_type": "code",
   "execution_count": 4,
   "id": "e8ec6134",
   "metadata": {},
   "outputs": [],
   "source": [
    "students = []"
   ]
  },
  {
   "cell_type": "code",
   "execution_count": 5,
   "id": "6ef957e8",
   "metadata": {},
   "outputs": [
    {
     "name": "stdout",
     "output_type": "stream",
     "text": [
      "2\n"
     ]
    }
   ],
   "source": [
    "n = int(input())"
   ]
  },
  {
   "cell_type": "code",
   "execution_count": 7,
   "id": "67c3b1f7",
   "metadata": {},
   "outputs": [
    {
     "name": "stdout",
     "output_type": "stream",
     "text": [
      "1\n",
      "jatin\n",
      "coe\n",
      "2\n",
      "pulkit\n",
      "it\n"
     ]
    }
   ],
   "source": [
    "for _ in range(n):\n",
    "    roll = int(input())\n",
    "    name = input()\n",
    "    branch = input()\n",
    "    students.append({\n",
    "        \"roll-no\": roll,\n",
    "        \"name\": name,\n",
    "        \"branch\": branch\n",
    "    })"
   ]
  },
  {
   "cell_type": "code",
   "execution_count": 8,
   "id": "cbe12196",
   "metadata": {},
   "outputs": [
    {
     "data": {
      "text/plain": [
       "[{'roll-no': 1, 'name': 'jatin', 'branch': 'coe'},\n",
       " {'roll-no': 2, 'name': 'pulkit', 'branch': 'it'}]"
      ]
     },
     "execution_count": 8,
     "metadata": {},
     "output_type": "execute_result"
    }
   ],
   "source": [
    "students"
   ]
  },
  {
   "cell_type": "markdown",
   "id": "9af77aea",
   "metadata": {},
   "source": [
    "Keys in the dictionary can be ANY immutable DS"
   ]
  },
  {
   "cell_type": "code",
   "execution_count": 9,
   "id": "c4d64d7a",
   "metadata": {},
   "outputs": [],
   "source": [
    "a = {\n",
    "    (1,2): \"jatin\"\n",
    "}"
   ]
  },
  {
   "cell_type": "code",
   "execution_count": 10,
   "id": "d74e5a4d",
   "metadata": {},
   "outputs": [
    {
     "data": {
      "text/plain": [
       "'jatin'"
      ]
     },
     "execution_count": 10,
     "metadata": {},
     "output_type": "execute_result"
    }
   ],
   "source": [
    "a[(1,2)]"
   ]
  },
  {
   "cell_type": "code",
   "execution_count": 11,
   "id": "60c64295",
   "metadata": {},
   "outputs": [
    {
     "ename": "TypeError",
     "evalue": "unhashable type: 'list'",
     "output_type": "error",
     "traceback": [
      "\u001b[1;31m---------------------------------------------------------------------------\u001b[0m",
      "\u001b[1;31mTypeError\u001b[0m                                 Traceback (most recent call last)",
      "\u001b[1;32m<ipython-input-11-bb21d617b34e>\u001b[0m in \u001b[0;36m<module>\u001b[1;34m\u001b[0m\n\u001b[1;32m----> 1\u001b[1;33m a = {\n\u001b[0m\u001b[0;32m      2\u001b[0m     \u001b[1;33m[\u001b[0m\u001b[1;36m1\u001b[0m\u001b[1;33m,\u001b[0m\u001b[1;36m2\u001b[0m\u001b[1;33m]\u001b[0m\u001b[1;33m:\u001b[0m\u001b[1;34m\"jatin\"\u001b[0m\u001b[1;33m\u001b[0m\u001b[1;33m\u001b[0m\u001b[0m\n\u001b[0;32m      3\u001b[0m }\n",
      "\u001b[1;31mTypeError\u001b[0m: unhashable type: 'list'"
     ]
    }
   ],
   "source": [
    "a = {\n",
    "    [1,2]:\"jatin\"\n",
    "}"
   ]
  },
  {
   "cell_type": "code",
   "execution_count": null,
   "id": "d177e227",
   "metadata": {},
   "outputs": [],
   "source": []
  }
 ],
 "metadata": {
  "kernelspec": {
   "display_name": "Python 3",
   "language": "python",
   "name": "python3"
  },
  "language_info": {
   "codemirror_mode": {
    "name": "ipython",
    "version": 3
   },
   "file_extension": ".py",
   "mimetype": "text/x-python",
   "name": "python",
   "nbconvert_exporter": "python",
   "pygments_lexer": "ipython3",
   "version": "3.8.8"
  }
 },
 "nbformat": 4,
 "nbformat_minor": 5
}
