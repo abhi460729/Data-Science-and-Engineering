{
 "cells": [
  {
   "cell_type": "markdown",
   "id": "c2e18ff4",
   "metadata": {},
   "source": [
    "### Strings\n",
    " - formated strings\n",
    " - strip\n",
    " - split\n",
    " - replace\n",
    " - count"
   ]
  },
  {
   "cell_type": "markdown",
   "id": "c2ff8a88",
   "metadata": {},
   "source": [
    "##### formated strings"
   ]
  },
  {
   "cell_type": "code",
   "execution_count": 1,
   "id": "8abe5265",
   "metadata": {},
   "outputs": [],
   "source": [
    "name = \"Mohit\"\n",
    "age = 21\n",
    "year = 3"
   ]
  },
  {
   "cell_type": "code",
   "execution_count": 12,
   "id": "336a9ce5",
   "metadata": {},
   "outputs": [
    {
     "name": "stdout",
     "output_type": "stream",
     "text": [
      "My name is Mohit. I am 21 years old. I am in 3 year.\n"
     ]
    }
   ],
   "source": [
    "print( \"My name is \"+ name + \". I am \" + str(age) + \" years old. I am in \"+ str(year) + \" year.\")\n",
    "#Way 1 of representing a string."
   ]
  },
  {
   "cell_type": "code",
   "execution_count": 14,
   "id": "8a9a9f6f",
   "metadata": {},
   "outputs": [
    {
     "name": "stdout",
     "output_type": "stream",
     "text": [
      "My name is Mohit. I am 21 years old. I am in 3 year.\n"
     ]
    }
   ],
   "source": [
    "print( \"My name is %s. I am %d years old. I am in %d year.\"%(name,age,year))\n",
    "#Way 2 of representing a string.(Better Way)"
   ]
  },
  {
   "cell_type": "code",
   "execution_count": 15,
   "id": "b19fb346",
   "metadata": {},
   "outputs": [
    {
     "name": "stdout",
     "output_type": "stream",
     "text": [
      "My name is Mohit. I am 21 years old. I am in 3 year.\n"
     ]
    }
   ],
   "source": [
    "print( \"My name is {}. I am {} years old. I am in {} year.\".format(name,age,year))\n",
    "#Way 3 of representing a string.(Even Better Way)"
   ]
  },
  {
   "cell_type": "markdown",
   "id": "babedc06",
   "metadata": {},
   "source": [
    "#### f-strings"
   ]
  },
  {
   "cell_type": "code",
   "execution_count": 16,
   "id": "9052b31d",
   "metadata": {},
   "outputs": [
    {
     "name": "stdout",
     "output_type": "stream",
     "text": [
      "My name is Mohit. I am 21 years old. I am in 3 year.\n"
     ]
    }
   ],
   "source": [
    "print(f\"My name is {name}. I am {age} years old. I am in {year} year.\")\n",
    "#Way 4 of representing a string.(Best Way)"
   ]
  },
  {
   "cell_type": "markdown",
   "id": "962cb856",
   "metadata": {},
   "source": [
    "##### strip\n",
    "- It removes a white space from a string "
   ]
  },
  {
   "cell_type": "code",
   "execution_count": 18,
   "id": "946df065",
   "metadata": {},
   "outputs": [],
   "source": [
    "st = \"    Good Morning.    \""
   ]
  },
  {
   "cell_type": "code",
   "execution_count": 19,
   "id": "b2634eb7",
   "metadata": {},
   "outputs": [
    {
     "data": {
      "text/plain": [
       "'    Good Morning.    '"
      ]
     },
     "execution_count": 19,
     "metadata": {},
     "output_type": "execute_result"
    }
   ],
   "source": [
    "st"
   ]
  },
  {
   "cell_type": "code",
   "execution_count": 20,
   "id": "4973eef2",
   "metadata": {},
   "outputs": [
    {
     "data": {
      "text/plain": [
       "'    Good Morning.'"
      ]
     },
     "execution_count": 20,
     "metadata": {},
     "output_type": "execute_result"
    }
   ],
   "source": [
    "st.rstrip()"
   ]
  },
  {
   "cell_type": "code",
   "execution_count": 21,
   "id": "7e88c951",
   "metadata": {},
   "outputs": [
    {
     "data": {
      "text/plain": [
       "'Good Morning.    '"
      ]
     },
     "execution_count": 21,
     "metadata": {},
     "output_type": "execute_result"
    }
   ],
   "source": [
    "st.lstrip()"
   ]
  },
  {
   "cell_type": "code",
   "execution_count": 22,
   "id": "85d99d37",
   "metadata": {},
   "outputs": [
    {
     "data": {
      "text/plain": [
       "'Good Morning.'"
      ]
     },
     "execution_count": 22,
     "metadata": {},
     "output_type": "execute_result"
    }
   ],
   "source": [
    "st.strip()"
   ]
  },
  {
   "cell_type": "code",
   "execution_count": 26,
   "id": "3e955456",
   "metadata": {},
   "outputs": [
    {
     "name": "stdout",
     "output_type": "stream",
     "text": [
      "Enter yes or no yes   \n"
     ]
    }
   ],
   "source": [
    "response = input(\"Enter yes or no\")"
   ]
  },
  {
   "cell_type": "code",
   "execution_count": 27,
   "id": "3f8d86d6",
   "metadata": {},
   "outputs": [
    {
     "name": "stdout",
     "output_type": "stream",
     "text": [
      " yes   \n"
     ]
    }
   ],
   "source": [
    "print(response)"
   ]
  },
  {
   "cell_type": "code",
   "execution_count": 28,
   "id": "f75cce84",
   "metadata": {},
   "outputs": [
    {
     "data": {
      "text/plain": [
       "True"
      ]
     },
     "execution_count": 28,
     "metadata": {},
     "output_type": "execute_result"
    }
   ],
   "source": [
    "response.strip() == \"yes\""
   ]
  },
  {
   "cell_type": "code",
   "execution_count": 29,
   "id": "5741cf37",
   "metadata": {},
   "outputs": [
    {
     "data": {
      "text/plain": [
       "False"
      ]
     },
     "execution_count": 29,
     "metadata": {},
     "output_type": "execute_result"
    }
   ],
   "source": [
    "response == \"yes\""
   ]
  },
  {
   "cell_type": "markdown",
   "id": "63dd0d40",
   "metadata": {},
   "source": [
    "#### split \n",
    "- it creates a list from a string"
   ]
  },
  {
   "cell_type": "code",
   "execution_count": 31,
   "id": "a72710a3",
   "metadata": {},
   "outputs": [],
   "source": [
    "st = \"My name is Mohit\""
   ]
  },
  {
   "cell_type": "code",
   "execution_count": 32,
   "id": "44ae2662",
   "metadata": {},
   "outputs": [
    {
     "data": {
      "text/plain": [
       "'My name is Mohit'"
      ]
     },
     "execution_count": 32,
     "metadata": {},
     "output_type": "execute_result"
    }
   ],
   "source": [
    "st"
   ]
  },
  {
   "cell_type": "code",
   "execution_count": 33,
   "id": "98aada13",
   "metadata": {},
   "outputs": [
    {
     "data": {
      "text/plain": [
       "['My', 'name', 'is', 'Mohit']"
      ]
     },
     "execution_count": 33,
     "metadata": {},
     "output_type": "execute_result"
    }
   ],
   "source": [
    "st.split(\" \")"
   ]
  },
  {
   "cell_type": "markdown",
   "id": "9141341c",
   "metadata": {},
   "source": [
    "#### replace \n",
    "- This function replaces one string with another string"
   ]
  },
  {
   "cell_type": "code",
   "execution_count": 35,
   "id": "80e8d817",
   "metadata": {},
   "outputs": [
    {
     "name": "stdout",
     "output_type": "stream",
     "text": [
      "My name is Mohit\n"
     ]
    }
   ],
   "source": [
    "print(st)"
   ]
  },
  {
   "cell_type": "code",
   "execution_count": 36,
   "id": "e6ce150d",
   "metadata": {},
   "outputs": [
    {
     "data": {
      "text/plain": [
       "'My name is Jatin'"
      ]
     },
     "execution_count": 36,
     "metadata": {},
     "output_type": "execute_result"
    }
   ],
   "source": [
    "st.replace(\"Mohit\",\"Jatin\")"
   ]
  },
  {
   "cell_type": "code",
   "execution_count": 37,
   "id": "fdcc8ddf",
   "metadata": {},
   "outputs": [
    {
     "name": "stdout",
     "output_type": "stream",
     "text": [
      "My name is Mohit\n"
     ]
    }
   ],
   "source": [
    "print(st)"
   ]
  },
  {
   "cell_type": "code",
   "execution_count": 40,
   "id": "fe7b6f04",
   "metadata": {},
   "outputs": [],
   "source": [
    "st = st.replace(\"Mohit\",\"Jatin\")\n",
    "#We can store the value in st"
   ]
  },
  {
   "cell_type": "code",
   "execution_count": 41,
   "id": "a0f3d7c7",
   "metadata": {},
   "outputs": [
    {
     "name": "stdout",
     "output_type": "stream",
     "text": [
      "My name is Jatin\n"
     ]
    }
   ],
   "source": [
    "print(st)"
   ]
  },
  {
   "cell_type": "code",
   "execution_count": 1,
   "id": "d238f77c",
   "metadata": {},
   "outputs": [],
   "source": [
    "st = \"aaaaazzzz\""
   ]
  },
  {
   "cell_type": "code",
   "execution_count": 2,
   "id": "ad309798",
   "metadata": {},
   "outputs": [
    {
     "data": {
      "text/plain": [
       "'bbbbbzzzz'"
      ]
     },
     "execution_count": 2,
     "metadata": {},
     "output_type": "execute_result"
    }
   ],
   "source": [
    "st.replace('a','b')"
   ]
  },
  {
   "cell_type": "code",
   "execution_count": null,
   "id": "5d19e137",
   "metadata": {},
   "outputs": [],
   "source": [
    "print(st)"
   ]
  }
 ],
 "metadata": {
  "kernelspec": {
   "display_name": "Python 3",
   "language": "python",
   "name": "python3"
  },
  "language_info": {
   "codemirror_mode": {
    "name": "ipython",
    "version": 3
   },
   "file_extension": ".py",
   "mimetype": "text/x-python",
   "name": "python",
   "nbconvert_exporter": "python",
   "pygments_lexer": "ipython3",
   "version": "3.8.8"
  }
 },
 "nbformat": 4,
 "nbformat_minor": 5
}
