{
 "cells": [
  {
   "cell_type": "markdown",
   "id": "07677a2c",
   "metadata": {},
   "source": [
    "### Generators\n",
    "\n",
    "Simple functions or expressions used to create iterator.\n",
    "\n",
    "Let's write a function which return the factorial of first 10 natural numbers."
   ]
  },
  {
   "cell_type": "code",
   "execution_count": 77,
   "id": "4e51f06f",
   "metadata": {},
   "outputs": [],
   "source": [
    "class fib:\n",
    "    def __init__(self):\n",
    "        self.prev = 0\n",
    "        self.curr = 1\n",
    "        \n",
    "    def ___iter__(self):\n",
    "        return self\n",
    "\n",
    "    def __next__(self):\n",
    "        value = self.curr\n",
    "        self.curr += self.prev\n",
    "        self.prev = value\n",
    "        return value"
   ]
  },
  {
   "cell_type": "code",
   "execution_count": 78,
   "id": "a60887ab",
   "metadata": {},
   "outputs": [
    {
     "ename": "TypeError",
     "evalue": "'fib' object is not iterable",
     "output_type": "error",
     "traceback": [
      "\u001b[1;31m---------------------------------------------------------------------------\u001b[0m",
      "\u001b[1;31mTypeError\u001b[0m                                 Traceback (most recent call last)",
      "\u001b[1;32m<ipython-input-78-f8ee71ca945a>\u001b[0m in \u001b[0;36m<module>\u001b[1;34m\u001b[0m\n\u001b[1;32m----> 1\u001b[1;33m \u001b[0mf\u001b[0m \u001b[1;33m=\u001b[0m \u001b[0miter\u001b[0m\u001b[1;33m(\u001b[0m\u001b[0mfib\u001b[0m\u001b[1;33m(\u001b[0m\u001b[1;33m)\u001b[0m\u001b[1;33m)\u001b[0m\u001b[1;33m\u001b[0m\u001b[1;33m\u001b[0m\u001b[0m\n\u001b[0m",
      "\u001b[1;31mTypeError\u001b[0m: 'fib' object is not iterable"
     ]
    }
   ],
   "source": [
    "f = iter(fib())"
   ]
  },
  {
   "cell_type": "code",
   "execution_count": 57,
   "id": "4472fc5d",
   "metadata": {},
   "outputs": [
    {
     "data": {
      "text/plain": [
       "13"
      ]
     },
     "execution_count": 57,
     "metadata": {},
     "output_type": "execute_result"
    }
   ],
   "source": [
    "next(f)"
   ]
  },
  {
   "cell_type": "code",
   "execution_count": 65,
   "id": "13a7c68c",
   "metadata": {},
   "outputs": [],
   "source": [
    "# yield is used in generator function\n",
    "# generator function\n",
    "def fib():\n",
    "    prev, curr = 0,1\n",
    "    while True:\n",
    "        yield curr\n",
    "        prev, curr = curr, prev + curr"
   ]
  },
  {
   "cell_type": "code",
   "execution_count": 66,
   "id": "64bb69a9",
   "metadata": {},
   "outputs": [
    {
     "data": {
      "text/plain": [
       "generator"
      ]
     },
     "execution_count": 66,
     "metadata": {},
     "output_type": "execute_result"
    }
   ],
   "source": [
    "type(fib())"
   ]
  },
  {
   "cell_type": "code",
   "execution_count": 67,
   "id": "a4095b33",
   "metadata": {},
   "outputs": [
    {
     "data": {
      "text/plain": [
       "function"
      ]
     },
     "execution_count": 67,
     "metadata": {},
     "output_type": "execute_result"
    }
   ],
   "source": [
    "type(fib)"
   ]
  },
  {
   "cell_type": "code",
   "execution_count": 68,
   "id": "18f463d8",
   "metadata": {},
   "outputs": [],
   "source": [
    "gen = fib()"
   ]
  },
  {
   "cell_type": "code",
   "execution_count": 76,
   "id": "69ca81bc",
   "metadata": {},
   "outputs": [
    {
     "data": {
      "text/plain": [
       "21"
      ]
     },
     "execution_count": 76,
     "metadata": {},
     "output_type": "execute_result"
    }
   ],
   "source": [
    "next(gen)"
   ]
  },
  {
   "cell_type": "markdown",
   "id": "1859fe11",
   "metadata": {},
   "source": [
    "### Generator Expression\n",
    "\n",
    "- Now, let us find the sum of squares of first 10 natural numbers, but this time, without any function."
   ]
  },
  {
   "cell_type": "code",
   "execution_count": 82,
   "id": "d177704a",
   "metadata": {},
   "outputs": [],
   "source": [
    "gen = (x**2 for x in range(1,11)) #no this is not called tuple comprehension but it is called as generator expression."
   ]
  },
  {
   "cell_type": "code",
   "execution_count": 83,
   "id": "1113d678",
   "metadata": {},
   "outputs": [
    {
     "data": {
      "text/plain": [
       "generator"
      ]
     },
     "execution_count": 83,
     "metadata": {},
     "output_type": "execute_result"
    }
   ],
   "source": [
    "type(gen)"
   ]
  },
  {
   "cell_type": "code",
   "execution_count": 84,
   "id": "2f658fae",
   "metadata": {},
   "outputs": [
    {
     "data": {
      "text/plain": [
       "1"
      ]
     },
     "execution_count": 84,
     "metadata": {},
     "output_type": "execute_result"
    }
   ],
   "source": [
    "next(gen)"
   ]
  },
  {
   "cell_type": "code",
   "execution_count": 85,
   "id": "f73c2d3c",
   "metadata": {},
   "outputs": [
    {
     "data": {
      "text/plain": [
       "4"
      ]
     },
     "execution_count": 85,
     "metadata": {},
     "output_type": "execute_result"
    }
   ],
   "source": [
    "next(gen)"
   ]
  },
  {
   "cell_type": "code",
   "execution_count": 86,
   "id": "fde73d84",
   "metadata": {},
   "outputs": [
    {
     "data": {
      "text/plain": [
       "9"
      ]
     },
     "execution_count": 86,
     "metadata": {},
     "output_type": "execute_result"
    }
   ],
   "source": [
    "next(gen)"
   ]
  },
  {
   "cell_type": "code",
   "execution_count": 94,
   "id": "1ce37bb9",
   "metadata": {},
   "outputs": [
    {
     "ename": "StopIteration",
     "evalue": "",
     "output_type": "error",
     "traceback": [
      "\u001b[1;31m---------------------------------------------------------------------------\u001b[0m",
      "\u001b[1;31mStopIteration\u001b[0m                             Traceback (most recent call last)",
      "\u001b[1;32m<ipython-input-94-6e72e47198db>\u001b[0m in \u001b[0;36m<module>\u001b[1;34m\u001b[0m\n\u001b[1;32m----> 1\u001b[1;33m \u001b[0mnext\u001b[0m\u001b[1;33m(\u001b[0m\u001b[0mgen\u001b[0m\u001b[1;33m)\u001b[0m\u001b[1;33m\u001b[0m\u001b[1;33m\u001b[0m\u001b[0m\n\u001b[0m",
      "\u001b[1;31mStopIteration\u001b[0m: "
     ]
    }
   ],
   "source": [
    "next(gen)"
   ]
  },
  {
   "cell_type": "code",
   "execution_count": null,
   "id": "8aa7d3c6",
   "metadata": {},
   "outputs": [],
   "source": []
  }
 ],
 "metadata": {
  "kernelspec": {
   "display_name": "Python 3",
   "language": "python",
   "name": "python3"
  },
  "language_info": {
   "codemirror_mode": {
    "name": "ipython",
    "version": 3
   },
   "file_extension": ".py",
   "mimetype": "text/x-python",
   "name": "python",
   "nbconvert_exporter": "python",
   "pygments_lexer": "ipython3",
   "version": "3.8.8"
  }
 },
 "nbformat": 4,
 "nbformat_minor": 5
}
