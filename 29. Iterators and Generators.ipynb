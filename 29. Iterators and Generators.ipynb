{
 "cells": [
  {
   "cell_type": "code",
   "execution_count": 2,
   "id": "65f7ec9f",
   "metadata": {},
   "outputs": [
    {
     "name": "stdout",
     "output_type": "stream",
     "text": [
      "1\n",
      "[1, 2]\n",
      "3\n",
      "4\n"
     ]
    }
   ],
   "source": [
    "a = [1,[1,2],3,4]\n",
    "\n",
    "for x in a:\n",
    "#    perform some task on each element\n",
    "    print(x)"
   ]
  },
  {
   "cell_type": "code",
   "execution_count": 3,
   "id": "5e27621f",
   "metadata": {},
   "outputs": [
    {
     "name": "stdout",
     "output_type": "stream",
     "text": [
      "j\n",
      "a\n",
      "t\n",
      "i\n",
      "n\n"
     ]
    }
   ],
   "source": [
    "name = \"jatin\"\n",
    "\n",
    "for char in name:\n",
    "    print(char)"
   ]
  },
  {
   "cell_type": "code",
   "execution_count": 5,
   "id": "e865e626",
   "metadata": {},
   "outputs": [
    {
     "name": "stdout",
     "output_type": "stream",
     "text": [
      "name\n",
      "last_name\n",
      "marks\n"
     ]
    }
   ],
   "source": [
    "d = {\"name\":\"jatin\", \"last_name\":\"katyal\", \"marks\": 80}\n",
    "\n",
    "for x in d:\n",
    "    print(x)"
   ]
  },
  {
   "cell_type": "markdown",
   "id": "3433bfc5",
   "metadata": {},
   "source": [
    "### Iterate over a text file"
   ]
  },
  {
   "cell_type": "code",
   "execution_count": 9,
   "id": "6306a69e",
   "metadata": {},
   "outputs": [
    {
     "name": "stdout",
     "output_type": "stream",
     "text": [
      "hello\n",
      "\n",
      "my name is\n",
      "\n",
      "jatin katyal\n",
      "\n"
     ]
    }
   ],
   "source": [
    "for line in open(\"somefile.txt\",\"r\"):\n",
    "    print(line)"
   ]
  },
  {
   "cell_type": "code",
   "execution_count": 10,
   "id": "7f3eb0d0",
   "metadata": {},
   "outputs": [],
   "source": [
    "#iterable objects are not only used for looping over"
   ]
  },
  {
   "cell_type": "code",
   "execution_count": 12,
   "id": "a19478c8",
   "metadata": {},
   "outputs": [
    {
     "data": {
      "text/plain": [
       "'1.2.3'"
      ]
     },
     "execution_count": 12,
     "metadata": {},
     "output_type": "execute_result"
    }
   ],
   "source": [
    "\".\".join([\"1\",\"2\",\"3\"]) #join function is used to join a list of iterable objects using the function on which the join function is being applied to."
   ]
  },
  {
   "cell_type": "code",
   "execution_count": 14,
   "id": "0411d793",
   "metadata": {},
   "outputs": [
    {
     "data": {
      "text/plain": [
       "'name.last_name.marks'"
      ]
     },
     "execution_count": 14,
     "metadata": {},
     "output_type": "execute_result"
    }
   ],
   "source": [
    "\".\".join(d) # If we iterate over the dictionary then we get the keys of the dictionary."
   ]
  },
  {
   "cell_type": "code",
   "execution_count": 15,
   "id": "bad8de65",
   "metadata": {},
   "outputs": [],
   "source": [
    "a = list(\"jatin\")"
   ]
  },
  {
   "cell_type": "code",
   "execution_count": 16,
   "id": "e8494cb8",
   "metadata": {},
   "outputs": [
    {
     "data": {
      "text/plain": [
       "['j', 'a', 't', 'i', 'n']"
      ]
     },
     "execution_count": 16,
     "metadata": {},
     "output_type": "execute_result"
    }
   ],
   "source": [
    "a"
   ]
  },
  {
   "cell_type": "code",
   "execution_count": 17,
   "id": "f749cd44",
   "metadata": {},
   "outputs": [],
   "source": [
    "a = [1,2,3,4]"
   ]
  },
  {
   "cell_type": "code",
   "execution_count": 22,
   "id": "09dd7324",
   "metadata": {},
   "outputs": [],
   "source": [
    "b = {1:\"jatin\", 2:\"katyal\", 3:\"coding blocks\"}"
   ]
  },
  {
   "cell_type": "code",
   "execution_count": 23,
   "id": "6a166208",
   "metadata": {},
   "outputs": [
    {
     "data": {
      "text/plain": [
       "10"
      ]
     },
     "execution_count": 23,
     "metadata": {},
     "output_type": "execute_result"
    }
   ],
   "source": [
    "sum(a) #another use of iterable. We are applying sum function on a list of iterables."
   ]
  },
  {
   "cell_type": "code",
   "execution_count": 25,
   "id": "41477ddb",
   "metadata": {},
   "outputs": [
    {
     "data": {
      "text/plain": [
       "6"
      ]
     },
     "execution_count": 25,
     "metadata": {},
     "output_type": "execute_result"
    }
   ],
   "source": [
    "sum(b) #sum of the keys in the dictionary"
   ]
  },
  {
   "cell_type": "code",
   "execution_count": null,
   "id": "43ea0d9b",
   "metadata": {},
   "outputs": [],
   "source": []
  }
 ],
 "metadata": {
  "kernelspec": {
   "display_name": "Python 3",
   "language": "python",
   "name": "python3"
  },
  "language_info": {
   "codemirror_mode": {
    "name": "ipython",
    "version": 3
   },
   "file_extension": ".py",
   "mimetype": "text/x-python",
   "name": "python",
   "nbconvert_exporter": "python",
   "pygments_lexer": "ipython3",
   "version": "3.8.8"
  }
 },
 "nbformat": 4,
 "nbformat_minor": 5
}
