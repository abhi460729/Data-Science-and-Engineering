{
 "cells": [
  {
   "cell_type": "markdown",
   "id": "8c074574",
   "metadata": {},
   "source": [
    "### Couroutines\n",
    "\n",
    "- yield\n",
    "- yield other than just returning the data can consume the data as well."
   ]
  },
  {
   "cell_type": "code",
   "execution_count": 1,
   "id": "6a298d91",
   "metadata": {},
   "outputs": [],
   "source": [
    "#cooperative way of programming\n",
    "def print_fancy_name(prefix):\n",
    "    try:\n",
    "        while True:\n",
    "            name = (yield)\n",
    "            print(prefix + \":\" + name)\n",
    "    except GeneratorExit:\n",
    "        print(\"Done !\")"
   ]
  },
  {
   "cell_type": "code",
   "execution_count": 2,
   "id": "d4a10aad",
   "metadata": {},
   "outputs": [],
   "source": [
    "co = print_fancy_name(\"Cool\")"
   ]
  },
  {
   "cell_type": "code",
   "execution_count": 3,
   "id": "37591a26",
   "metadata": {},
   "outputs": [
    {
     "data": {
      "text/plain": [
       "generator"
      ]
     },
     "execution_count": 3,
     "metadata": {},
     "output_type": "execute_result"
    }
   ],
   "source": [
    "type(co)"
   ]
  },
  {
   "cell_type": "markdown",
   "id": "67516053",
   "metadata": {},
   "source": [
    "Initialization"
   ]
  },
  {
   "cell_type": "code",
   "execution_count": 4,
   "id": "fc2b8bf6",
   "metadata": {},
   "outputs": [],
   "source": [
    "next(co)"
   ]
  },
  {
   "cell_type": "markdown",
   "id": "55e42013",
   "metadata": {},
   "source": [
    "sending data and control"
   ]
  },
  {
   "cell_type": "code",
   "execution_count": 6,
   "id": "acbf183e",
   "metadata": {},
   "outputs": [],
   "source": [
    "#now it will go to the yield statement and it will wait to consume a particular result."
   ]
  },
  {
   "cell_type": "code",
   "execution_count": 7,
   "id": "4029cc3a",
   "metadata": {},
   "outputs": [
    {
     "name": "stdout",
     "output_type": "stream",
     "text": [
      "Cool:jatin\n"
     ]
    }
   ],
   "source": [
    "co.send(\"jatin\")"
   ]
  },
  {
   "cell_type": "code",
   "execution_count": 8,
   "id": "2e0c05e7",
   "metadata": {},
   "outputs": [
    {
     "name": "stdout",
     "output_type": "stream",
     "text": [
      "Cool:prateek\n"
     ]
    }
   ],
   "source": [
    "co.send(\"prateek\")"
   ]
  },
  {
   "cell_type": "code",
   "execution_count": 9,
   "id": "e5d62118",
   "metadata": {},
   "outputs": [
    {
     "name": "stdout",
     "output_type": "stream",
     "text": [
      "Done !\n"
     ]
    }
   ],
   "source": [
    "co.close()"
   ]
  },
  {
   "cell_type": "markdown",
   "id": "61818e89",
   "metadata": {},
   "source": [
    "### AsyncIO"
   ]
  },
  {
   "cell_type": "code",
   "execution_count": 25,
   "id": "a03bf94c",
   "metadata": {},
   "outputs": [],
   "source": [
    "import asyncio\n",
    "import time"
   ]
  },
  {
   "cell_type": "code",
   "execution_count": 26,
   "id": "8a10fd1b",
   "metadata": {},
   "outputs": [],
   "source": [
    "async def main():\n",
    "    print(\"Hello\")\n",
    "    #await time.sleep(1) #this time library does not support coroutines as of now. It is synchronously blocking my code.\n",
    "    await asyncio.sleep(1) #it returns a co-routine that will complete it's execution in 1 sec.\n",
    "    print(\"World\")\n",
    "#the async keyword above makes this function a coroutine"
   ]
  },
  {
   "cell_type": "code",
   "execution_count": 32,
   "id": "03429276",
   "metadata": {},
   "outputs": [],
   "source": [
    "# For normal Python shell. Not ipython shell in jupyter notebook.\n",
    "# if __name__ == '__main__':\n",
    "#     print(type(main()))\n",
    "#     #main(), it will return me a coroutine rather than just executing it.\n",
    "#     asyncio.run(main())\n",
    "#     print(\"Program Ended\")"
   ]
  },
  {
   "cell_type": "code",
   "execution_count": 31,
   "id": "ee4a7010",
   "metadata": {},
   "outputs": [
    {
     "name": "stdout",
     "output_type": "stream",
     "text": [
      "Hello\n",
      "World\n"
     ]
    }
   ],
   "source": [
    "await main()"
   ]
  },
  {
   "cell_type": "code",
   "execution_count": null,
   "id": "ba7efdaf",
   "metadata": {},
   "outputs": [],
   "source": []
  }
 ],
 "metadata": {
  "kernelspec": {
   "display_name": "Python 3",
   "language": "python",
   "name": "python3"
  },
  "language_info": {
   "codemirror_mode": {
    "name": "ipython",
    "version": 3
   },
   "file_extension": ".py",
   "mimetype": "text/x-python",
   "name": "python",
   "nbconvert_exporter": "python",
   "pygments_lexer": "ipython3",
   "version": "3.8.8"
  }
 },
 "nbformat": 4,
 "nbformat_minor": 5
}
