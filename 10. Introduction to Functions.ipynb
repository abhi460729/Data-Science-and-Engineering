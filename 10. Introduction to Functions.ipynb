{
 "cells": [
  {
   "cell_type": "markdown",
   "id": "478bea5b",
   "metadata": {},
   "source": [
    "### Functions"
   ]
  },
  {
   "cell_type": "code",
   "execution_count": 1,
   "id": "2052a7da",
   "metadata": {},
   "outputs": [
    {
     "name": "stdout",
     "output_type": "stream",
     "text": [
      "knock knock knock jatin\n",
      "knock knock knock jatin\n",
      "knock knock knock jatin\n",
      "30\n",
      "0\n",
      "1\n",
      "2\n",
      "3\n",
      "4\n",
      "5\n",
      "6\n",
      "7\n",
      "8\n",
      "9\n",
      "knock knock knock jatin\n",
      "knock knock knock jatin\n",
      "knock knock knock jatin\n"
     ]
    }
   ],
   "source": [
    "# print sheldon knock\n",
    "print(\"knock knock knock jatin\")\n",
    "print(\"knock knock knock jatin\")\n",
    "print(\"knock knock knock jatin\")\n",
    "\n",
    "print(10+20)\n",
    "for i in range(10):\n",
    "    print(i)\n",
    "    \n",
    "# print sheldon knock\n",
    "print(\"knock knock knock jatin\")\n",
    "print(\"knock knock knock jatin\")\n",
    "print(\"knock knock knock jatin\")"
   ]
  },
  {
   "cell_type": "code",
   "execution_count": 2,
   "id": "9949d839",
   "metadata": {},
   "outputs": [],
   "source": [
    "def sheldon_knock():\n",
    "    print(\"knock knock knock jatin\")\n",
    "    print(\"knock knock knock jatin\")\n",
    "    print(\"knock knock knock jatin\")"
   ]
  },
  {
   "cell_type": "code",
   "execution_count": 3,
   "id": "ac06eed2",
   "metadata": {},
   "outputs": [
    {
     "name": "stdout",
     "output_type": "stream",
     "text": [
      "knock knock knock jatin\n",
      "knock knock knock jatin\n",
      "knock knock knock jatin\n",
      "30\n",
      "0\n",
      "1\n",
      "2\n",
      "3\n",
      "4\n",
      "5\n",
      "6\n",
      "7\n",
      "8\n",
      "9\n",
      "knock knock knock jatin\n",
      "knock knock knock jatin\n",
      "knock knock knock jatin\n"
     ]
    }
   ],
   "source": [
    "sheldon_knock()\n",
    "print(10+20)\n",
    "for i in range(10):\n",
    "    print(i)\n",
    "sheldon_knock()"
   ]
  },
  {
   "cell_type": "markdown",
   "id": "e0d8e696",
   "metadata": {},
   "source": [
    "### Functions can take parameters"
   ]
  },
  {
   "cell_type": "code",
   "execution_count": 12,
   "id": "a3e1b026",
   "metadata": {},
   "outputs": [],
   "source": [
    "#Concept of default parameters\n",
    "def sheldon_knock(name, number_of_time=3):\n",
    "    for i in range(number_of_time):\n",
    "        print(\"knock knock knock {}\".format(name))"
   ]
  },
  {
   "cell_type": "code",
   "execution_count": 13,
   "id": "9ef8c4a6",
   "metadata": {},
   "outputs": [],
   "source": [
    "#Python is dynammically typed\n",
    "#No data type is required in the function parameters and return types"
   ]
  },
  {
   "cell_type": "code",
   "execution_count": 15,
   "id": "96139bca",
   "metadata": {},
   "outputs": [
    {
     "name": "stdout",
     "output_type": "stream",
     "text": [
      "knock knock knock penny\n",
      "knock knock knock penny\n",
      "knock knock knock penny\n",
      "knock knock knock penny\n",
      "knock knock knock penny\n",
      "knock knock knock penny\n",
      "knock knock knock penny\n",
      "knock knock knock penny\n",
      "knock knock knock penny\n",
      "knock knock knock penny\n"
     ]
    }
   ],
   "source": [
    "# sheldon_knock(\"penny\")\n",
    "sheldon_knock(\"penny\",10)"
   ]
  },
  {
   "cell_type": "markdown",
   "id": "7e4068b4",
   "metadata": {},
   "source": [
    "### return statement"
   ]
  },
  {
   "cell_type": "code",
   "execution_count": 16,
   "id": "6187f26d",
   "metadata": {},
   "outputs": [],
   "source": [
    "def add(a,b):\n",
    "    print(a+b)"
   ]
  },
  {
   "cell_type": "code",
   "execution_count": 18,
   "id": "03e5d495",
   "metadata": {},
   "outputs": [
    {
     "name": "stdout",
     "output_type": "stream",
     "text": [
      "3\n"
     ]
    }
   ],
   "source": [
    "x = add(1,2)"
   ]
  },
  {
   "cell_type": "code",
   "execution_count": 19,
   "id": "3373cd55",
   "metadata": {},
   "outputs": [
    {
     "name": "stdout",
     "output_type": "stream",
     "text": [
      "None\n"
     ]
    }
   ],
   "source": [
    "print(x)"
   ]
  },
  {
   "cell_type": "code",
   "execution_count": 20,
   "id": "6e672f4a",
   "metadata": {},
   "outputs": [],
   "source": [
    "def add(a,b):\n",
    "    return (a+b)"
   ]
  },
  {
   "cell_type": "code",
   "execution_count": 21,
   "id": "0613d11b",
   "metadata": {},
   "outputs": [],
   "source": [
    "x = add(1,2)"
   ]
  },
  {
   "cell_type": "code",
   "execution_count": 22,
   "id": "8b2db01e",
   "metadata": {},
   "outputs": [
    {
     "name": "stdout",
     "output_type": "stream",
     "text": [
      "3\n"
     ]
    }
   ],
   "source": [
    "print(x)"
   ]
  },
  {
   "cell_type": "code",
   "execution_count": 30,
   "id": "45168f94",
   "metadata": {},
   "outputs": [],
   "source": [
    "def div(a,b):\n",
    "    try:\n",
    "        return a/b\n",
    "    except:\n",
    "        print('Error')\n",
    "    finally:\n",
    "        print('Wrapping up')\n",
    "#finally block is always executed"
   ]
  },
  {
   "cell_type": "code",
   "execution_count": 31,
   "id": "c287692d",
   "metadata": {},
   "outputs": [],
   "source": [
    "def div(a,b):\n",
    "    try:\n",
    "        return a/b\n",
    "    except:\n",
    "        print('Error')\n",
    "    print('Wrapping up')\n",
    "#print in the last line is not always executed"
   ]
  },
  {
   "cell_type": "code",
   "execution_count": 32,
   "id": "ae5934b7",
   "metadata": {},
   "outputs": [
    {
     "data": {
      "text/plain": [
       "5.0"
      ]
     },
     "execution_count": 32,
     "metadata": {},
     "output_type": "execute_result"
    }
   ],
   "source": [
    "div(10,2)"
   ]
  },
  {
   "cell_type": "code",
   "execution_count": 33,
   "id": "cbb5302d",
   "metadata": {},
   "outputs": [
    {
     "name": "stdout",
     "output_type": "stream",
     "text": [
      "Error\n",
      "Wrapping up\n"
     ]
    }
   ],
   "source": [
    "div(10,0)"
   ]
  },
  {
   "cell_type": "code",
   "execution_count": 35,
   "id": "8bfb6e9d",
   "metadata": {},
   "outputs": [],
   "source": [
    "def div(a,b):\n",
    "    try:\n",
    "        return a/b\n",
    "    except:\n",
    "        print('Error')\n",
    "    finally:\n",
    "        print('Wrapping up')\n",
    "        return 10\n",
    "#If we write a return statement in the finally block, the function will always evaluate to the return statement in the finally block "
   ]
  },
  {
   "cell_type": "code",
   "execution_count": 36,
   "id": "10b20643",
   "metadata": {},
   "outputs": [
    {
     "name": "stdout",
     "output_type": "stream",
     "text": [
      "Wrapping up\n"
     ]
    },
    {
     "data": {
      "text/plain": [
       "10"
      ]
     },
     "execution_count": 36,
     "metadata": {},
     "output_type": "execute_result"
    }
   ],
   "source": [
    "div(10,1)"
   ]
  },
  {
   "cell_type": "markdown",
   "id": "a283ba81",
   "metadata": {},
   "source": [
    "### Local and global variables"
   ]
  },
  {
   "cell_type": "code",
   "execution_count": 44,
   "id": "1238207e",
   "metadata": {},
   "outputs": [],
   "source": [
    "x = 10\n",
    "def show():\n",
    "    print(x)"
   ]
  },
  {
   "cell_type": "code",
   "execution_count": 45,
   "id": "2ba8ff00",
   "metadata": {},
   "outputs": [
    {
     "name": "stdout",
     "output_type": "stream",
     "text": [
      "10\n"
     ]
    }
   ],
   "source": [
    "print(x)"
   ]
  },
  {
   "cell_type": "code",
   "execution_count": 47,
   "id": "8ad43af1",
   "metadata": {},
   "outputs": [],
   "source": [
    "x = 10\n",
    "def show():\n",
    "    x = 5\n",
    "    print(x)"
   ]
  },
  {
   "cell_type": "code",
   "execution_count": 48,
   "id": "26b0956a",
   "metadata": {},
   "outputs": [
    {
     "name": "stdout",
     "output_type": "stream",
     "text": [
      "10\n"
     ]
    }
   ],
   "source": [
    "print(x)"
   ]
  },
  {
   "cell_type": "code",
   "execution_count": 49,
   "id": "7c3fede5",
   "metadata": {},
   "outputs": [],
   "source": [
    "x = 10\n",
    "def show():\n",
    "    x += 5\n",
    "    print(x)"
   ]
  },
  {
   "cell_type": "code",
   "execution_count": 50,
   "id": "bef2eb46",
   "metadata": {},
   "outputs": [
    {
     "ename": "UnboundLocalError",
     "evalue": "local variable 'x' referenced before assignment",
     "output_type": "error",
     "traceback": [
      "\u001b[1;31m---------------------------------------------------------------------------\u001b[0m",
      "\u001b[1;31mUnboundLocalError\u001b[0m                         Traceback (most recent call last)",
      "\u001b[1;32m<ipython-input-50-9eb7fa60ac78>\u001b[0m in \u001b[0;36m<module>\u001b[1;34m\u001b[0m\n\u001b[1;32m----> 1\u001b[1;33m \u001b[0mshow\u001b[0m\u001b[1;33m(\u001b[0m\u001b[1;33m)\u001b[0m\u001b[1;33m\u001b[0m\u001b[1;33m\u001b[0m\u001b[0m\n\u001b[0m",
      "\u001b[1;32m<ipython-input-49-81711361cb86>\u001b[0m in \u001b[0;36mshow\u001b[1;34m()\u001b[0m\n\u001b[0;32m      1\u001b[0m \u001b[0mx\u001b[0m \u001b[1;33m=\u001b[0m \u001b[1;36m10\u001b[0m\u001b[1;33m\u001b[0m\u001b[1;33m\u001b[0m\u001b[0m\n\u001b[0;32m      2\u001b[0m \u001b[1;32mdef\u001b[0m \u001b[0mshow\u001b[0m\u001b[1;33m(\u001b[0m\u001b[1;33m)\u001b[0m\u001b[1;33m:\u001b[0m\u001b[1;33m\u001b[0m\u001b[1;33m\u001b[0m\u001b[0m\n\u001b[1;32m----> 3\u001b[1;33m     \u001b[0mx\u001b[0m \u001b[1;33m+=\u001b[0m \u001b[1;36m5\u001b[0m\u001b[1;33m\u001b[0m\u001b[1;33m\u001b[0m\u001b[0m\n\u001b[0m\u001b[0;32m      4\u001b[0m     \u001b[0mprint\u001b[0m\u001b[1;33m(\u001b[0m\u001b[0mx\u001b[0m\u001b[1;33m)\u001b[0m\u001b[1;33m\u001b[0m\u001b[1;33m\u001b[0m\u001b[0m\n",
      "\u001b[1;31mUnboundLocalError\u001b[0m: local variable 'x' referenced before assignment"
     ]
    }
   ],
   "source": [
    "show()"
   ]
  },
  {
   "cell_type": "code",
   "execution_count": 52,
   "id": "ebcdfdc3",
   "metadata": {},
   "outputs": [],
   "source": [
    "# In Python, we cannot reference a local variable before assignment. Always, for a local variable first assignment and then referencing. "
   ]
  },
  {
   "cell_type": "code",
   "execution_count": 53,
   "id": "a192dc36",
   "metadata": {},
   "outputs": [],
   "source": [
    "# We can force the Python intrepreter\n",
    "x = 10\n",
    "def show():\n",
    "    global x\n",
    "    x += 5\n",
    "    print(x)"
   ]
  },
  {
   "cell_type": "code",
   "execution_count": 54,
   "id": "a7d1043b",
   "metadata": {},
   "outputs": [
    {
     "name": "stdout",
     "output_type": "stream",
     "text": [
      "15\n"
     ]
    }
   ],
   "source": [
    "show()"
   ]
  },
  {
   "cell_type": "code",
   "execution_count": 5,
   "id": "a1ac4534",
   "metadata": {},
   "outputs": [],
   "source": [
    "x = 10\n",
    "def show():\n",
    "    y = \"local\"\n",
    "    print(x)\n",
    "    print(y)"
   ]
  },
  {
   "cell_type": "code",
   "execution_count": 6,
   "id": "d5aba181",
   "metadata": {},
   "outputs": [],
   "source": [
    "del x"
   ]
  },
  {
   "cell_type": "code",
   "execution_count": 8,
   "id": "7d6f4c36",
   "metadata": {},
   "outputs": [],
   "source": [
    "# There is nothing called primitives in Python, everything is an object, even function is an object.\n",
    "# Enclosures\n",
    "def outer():\n",
    "    x = 10\n",
    "    def inner():\n",
    "        # By default it looks in the local namespace and therefore it gives UnboundLocalError\n",
    "        global x\n",
    "        x+=5\n",
    "        print(x)\n",
    "        \n",
    "    inner()\n",
    "    print(x)\n",
    "    \n",
    "#Rather than looking into the scope of the outer or the enclosing function, it is looking into the global scope, which does not exist. "
   ]
  },
  {
   "cell_type": "code",
   "execution_count": 11,
   "id": "9655dd1e",
   "metadata": {},
   "outputs": [],
   "source": [
    "def outer():\n",
    "    x = 10\n",
    "    def inner():\n",
    "        nonlocal x\n",
    "        x+=5\n",
    "        print(x)\n",
    "        \n",
    "    inner()\n",
    "    print(x)\n",
    "    \n",
    "#Rather than looking into the scope of the outer or the enclosing function, it is looking into the global scope, which does not exist.Now we want to make it look into the scope of the outer function so we use nonlocal keyword. "
   ]
  },
  {
   "cell_type": "code",
   "execution_count": 12,
   "id": "e8090ac3",
   "metadata": {},
   "outputs": [
    {
     "name": "stdout",
     "output_type": "stream",
     "text": [
      "15\n",
      "15\n"
     ]
    }
   ],
   "source": [
    "outer()"
   ]
  },
  {
   "cell_type": "code",
   "execution_count": 56,
   "id": "a59a6dc2",
   "metadata": {},
   "outputs": [
    {
     "name": "stdout",
     "output_type": "stream",
     "text": [
      "10\n",
      "local\n",
      "10\n"
     ]
    },
    {
     "ename": "NameError",
     "evalue": "name 'y' is not defined",
     "output_type": "error",
     "traceback": [
      "\u001b[1;31m---------------------------------------------------------------------------\u001b[0m",
      "\u001b[1;31mNameError\u001b[0m                                 Traceback (most recent call last)",
      "\u001b[1;32m<ipython-input-56-eedf7b3233ae>\u001b[0m in \u001b[0;36m<module>\u001b[1;34m\u001b[0m\n\u001b[0;32m      1\u001b[0m \u001b[0mshow\u001b[0m\u001b[1;33m(\u001b[0m\u001b[1;33m)\u001b[0m\u001b[1;33m\u001b[0m\u001b[1;33m\u001b[0m\u001b[0m\n\u001b[0;32m      2\u001b[0m \u001b[0mprint\u001b[0m\u001b[1;33m(\u001b[0m\u001b[0mx\u001b[0m\u001b[1;33m)\u001b[0m\u001b[1;33m\u001b[0m\u001b[1;33m\u001b[0m\u001b[0m\n\u001b[1;32m----> 3\u001b[1;33m \u001b[0mprint\u001b[0m\u001b[1;33m(\u001b[0m\u001b[0my\u001b[0m\u001b[1;33m)\u001b[0m\u001b[1;33m\u001b[0m\u001b[1;33m\u001b[0m\u001b[0m\n\u001b[0m",
      "\u001b[1;31mNameError\u001b[0m: name 'y' is not defined"
     ]
    }
   ],
   "source": [
    "show()\n",
    "print(x)\n",
    "print(y)# y is not in local scope"
   ]
  },
  {
   "cell_type": "markdown",
   "id": "0f22dcc7",
   "metadata": {},
   "source": [
    "### Default Argument Values"
   ]
  },
  {
   "cell_type": "code",
   "execution_count": 28,
   "id": "a40c7801",
   "metadata": {},
   "outputs": [],
   "source": [
    "def abc(a, b, c, d = 10, e = 20):\n",
    "    print(a)"
   ]
  },
  {
   "cell_type": "code",
   "execution_count": 24,
   "id": "28a8fc33",
   "metadata": {},
   "outputs": [],
   "source": [
    "def show(a,b,c,d =\"something\",e = \"something more\"):\n",
    "    print(a)\n",
    "    print(b)\n",
    "    print(c)\n",
    "    print(d)\n",
    "    print(e)"
   ]
  },
  {
   "cell_type": "code",
   "execution_count": 25,
   "id": "5bd7de7b",
   "metadata": {},
   "outputs": [
    {
     "name": "stdout",
     "output_type": "stream",
     "text": [
      "hello\n",
      "world\n",
      "python\n",
      "something\n",
      "jatin\n"
     ]
    }
   ],
   "source": [
    "show(\"hello\", \"world\", \"python\", e =\"jatin\")"
   ]
  },
  {
   "cell_type": "code",
   "execution_count": 26,
   "id": "72012653",
   "metadata": {},
   "outputs": [
    {
     "name": "stdout",
     "output_type": "stream",
     "text": [
      "python\n",
      "hello\n",
      "world\n",
      "something\n",
      "something more\n"
     ]
    }
   ],
   "source": [
    "show(b = \"hello\", c =\"world\", a =\"python\")"
   ]
  },
  {
   "cell_type": "code",
   "execution_count": 33,
   "id": "419230dd",
   "metadata": {},
   "outputs": [
    {
     "name": "stdout",
     "output_type": "stream",
     "text": [
      "jatin katyal is python mentor\n"
     ]
    }
   ],
   "source": [
    "print(\"jatin\",\"katyal\",\"is\",\"python\",\"mentor\")"
   ]
  },
  {
   "cell_type": "code",
   "execution_count": 34,
   "id": "23b3e19e",
   "metadata": {},
   "outputs": [],
   "source": [
    "# *args is a positional arguments\n",
    "def show(*args):\n",
    "    print(args)"
   ]
  },
  {
   "cell_type": "code",
   "execution_count": 35,
   "id": "0a673e73",
   "metadata": {},
   "outputs": [
    {
     "name": "stdout",
     "output_type": "stream",
     "text": [
      "()\n"
     ]
    }
   ],
   "source": [
    "show()"
   ]
  },
  {
   "cell_type": "code",
   "execution_count": 36,
   "id": "e1b1f1c1",
   "metadata": {},
   "outputs": [
    {
     "name": "stdout",
     "output_type": "stream",
     "text": [
      "(1, 2, 3, 4, 5)\n"
     ]
    }
   ],
   "source": [
    "show(1,2,3,4,5)"
   ]
  },
  {
   "cell_type": "code",
   "execution_count": 43,
   "id": "23212a45",
   "metadata": {},
   "outputs": [],
   "source": [
    "# *args is a positional arguments\n",
    "def show(a,b,c,*args):\n",
    "    print(args)"
   ]
  },
  {
   "cell_type": "code",
   "execution_count": 44,
   "id": "2db99b35",
   "metadata": {},
   "outputs": [
    {
     "name": "stdout",
     "output_type": "stream",
     "text": [
      "('jatin',)\n"
     ]
    }
   ],
   "source": [
    "show(1,2,3,\"jatin\")"
   ]
  },
  {
   "cell_type": "code",
   "execution_count": 45,
   "id": "8991f9bb",
   "metadata": {},
   "outputs": [],
   "source": [
    "def show(a, b, c, *args, d=10, e=20):\n",
    "    print(a)\n",
    "    print(args)\n",
    "    print(d)\n",
    "    print(e)"
   ]
  },
  {
   "cell_type": "code",
   "execution_count": 46,
   "id": "faff744a",
   "metadata": {},
   "outputs": [
    {
     "name": "stdout",
     "output_type": "stream",
     "text": [
      "1\n",
      "('jatin', 'katyal')\n",
      "100\n",
      "20\n"
     ]
    }
   ],
   "source": [
    "show(1,2,3,\"jatin\",\"katyal\",d=100)"
   ]
  },
  {
   "cell_type": "code",
   "execution_count": 49,
   "id": "29f110ef",
   "metadata": {},
   "outputs": [],
   "source": [
    "def show(a, b, c, *args, d=10, e=20, **kwargs):\n",
    "    print(a)\n",
    "    print(args)\n",
    "    print(d)\n",
    "    print(e)\n",
    "    print(kwargs)\n",
    "# Extra keyworded arguments are packed into kwargs as a dictionary"
   ]
  },
  {
   "cell_type": "code",
   "execution_count": 50,
   "id": "03f687d0",
   "metadata": {},
   "outputs": [
    {
     "name": "stdout",
     "output_type": "stream",
     "text": [
      "1\n",
      "('jatin', 'katyal')\n",
      "100\n",
      "20\n",
      "{'name': 'jatin'}\n"
     ]
    }
   ],
   "source": [
    "show(1,2,3,\"jatin\",\"katyal\",d=100, name=\"jatin\")"
   ]
  },
  {
   "cell_type": "markdown",
   "id": "7063b931",
   "metadata": {},
   "source": [
    "### Lambda Functions\n",
    "Syntactical Sugar"
   ]
  },
  {
   "cell_type": "code",
   "execution_count": 53,
   "id": "e8778f9f",
   "metadata": {},
   "outputs": [],
   "source": [
    "def add():\n",
    "    return 10+10"
   ]
  },
  {
   "cell_type": "code",
   "execution_count": 55,
   "id": "f49068b7",
   "metadata": {},
   "outputs": [
    {
     "name": "stdout",
     "output_type": "stream",
     "text": [
      "<function add at 0x00000275B32E5CA0>\n"
     ]
    }
   ],
   "source": [
    "print(add)\n",
    "# add is an object"
   ]
  },
  {
   "cell_type": "code",
   "execution_count": 60,
   "id": "f027d897",
   "metadata": {},
   "outputs": [],
   "source": [
    "def add(a,b):\n",
    "    return a+b"
   ]
  },
  {
   "cell_type": "code",
   "execution_count": 72,
   "id": "aed286aa",
   "metadata": {},
   "outputs": [],
   "source": [
    "# add = lambda (a, b) : return (a+b)"
   ]
  },
  {
   "cell_type": "code",
   "execution_count": 73,
   "id": "70b57f24",
   "metadata": {},
   "outputs": [],
   "source": [
    "add = lambda a, b : a+b"
   ]
  },
  {
   "cell_type": "code",
   "execution_count": 74,
   "id": "4689cd17",
   "metadata": {},
   "outputs": [
    {
     "data": {
      "text/plain": [
       "<function __main__.<lambda>(a, b)>"
      ]
     },
     "execution_count": 74,
     "metadata": {},
     "output_type": "execute_result"
    }
   ],
   "source": [
    "add"
   ]
  },
  {
   "cell_type": "code",
   "execution_count": 75,
   "id": "c3a50cc1",
   "metadata": {},
   "outputs": [
    {
     "data": {
      "text/plain": [
       "4"
      ]
     },
     "execution_count": 75,
     "metadata": {},
     "output_type": "execute_result"
    }
   ],
   "source": [
    "add(1,3)"
   ]
  },
  {
   "cell_type": "code",
   "execution_count": 82,
   "id": "c1e01f37",
   "metadata": {},
   "outputs": [],
   "source": [
    "a = [5, 3, 7, 1, 2, 3]"
   ]
  },
  {
   "cell_type": "code",
   "execution_count": 83,
   "id": "d39459d1",
   "metadata": {},
   "outputs": [
    {
     "data": {
      "text/plain": [
       "[1, 2, 3, 3, 5, 7]"
      ]
     },
     "execution_count": 83,
     "metadata": {},
     "output_type": "execute_result"
    }
   ],
   "source": [
    "sorted(a) #returns the sorted form of the list"
   ]
  },
  {
   "cell_type": "code",
   "execution_count": 84,
   "id": "c120d4e9",
   "metadata": {},
   "outputs": [],
   "source": [
    "a.sort() #sorts the list and then returns it"
   ]
  },
  {
   "cell_type": "code",
   "execution_count": 91,
   "id": "38e58079",
   "metadata": {},
   "outputs": [],
   "source": [
    "a = [(\"jatin\", 5),(\"prateek\", 10),(\"ram\", 1),(\"arnav\", 20)]"
   ]
  },
  {
   "cell_type": "code",
   "execution_count": 90,
   "id": "f2652d6f",
   "metadata": {},
   "outputs": [],
   "source": [
    "def key(x):\n",
    "    return x[1]"
   ]
  },
  {
   "cell_type": "code",
   "execution_count": null,
   "id": "22411c27",
   "metadata": {},
   "outputs": [],
   "source": [
    "sorted(a,key)"
   ]
  },
  {
   "cell_type": "code",
   "execution_count": 86,
   "id": "32523bde",
   "metadata": {},
   "outputs": [
    {
     "data": {
      "text/plain": [
       "[('arnav', 20), ('jatin', 5), ('prateek', 10), ('ram', 1)]"
      ]
     },
     "execution_count": 86,
     "metadata": {},
     "output_type": "execute_result"
    }
   ],
   "source": [
    "sorted(a)"
   ]
  },
  {
   "cell_type": "code",
   "execution_count": 89,
   "id": "ad12a90a",
   "metadata": {},
   "outputs": [
    {
     "data": {
      "text/plain": [
       "[('ram', 1), ('jatin', 5), ('prateek', 10), ('arnav', 20)]"
      ]
     },
     "execution_count": 89,
     "metadata": {},
     "output_type": "execute_result"
    }
   ],
   "source": [
    "sorted(a, key = lambda x:x[1]) #more visually appealing way to write code in Python\n",
    "#sorted?"
   ]
  },
  {
   "cell_type": "code",
   "execution_count": 92,
   "id": "7d97bffb",
   "metadata": {},
   "outputs": [
    {
     "data": {
      "text/plain": [
       "[('ram', 1), ('jatin', 5), ('prateek', 10), ('arnav', 20)]"
      ]
     },
     "execution_count": 92,
     "metadata": {},
     "output_type": "execute_result"
    }
   ],
   "source": [
    "sorted(a, key = key)"
   ]
  },
  {
   "cell_type": "code",
   "execution_count": null,
   "id": "e9200448",
   "metadata": {},
   "outputs": [],
   "source": []
  }
 ],
 "metadata": {
  "kernelspec": {
   "display_name": "Python 3",
   "language": "python",
   "name": "python3"
  },
  "language_info": {
   "codemirror_mode": {
    "name": "ipython",
    "version": 3
   },
   "file_extension": ".py",
   "mimetype": "text/x-python",
   "name": "python",
   "nbconvert_exporter": "python",
   "pygments_lexer": "ipython3",
   "version": "3.8.8"
  }
 },
 "nbformat": 4,
 "nbformat_minor": 5
}
