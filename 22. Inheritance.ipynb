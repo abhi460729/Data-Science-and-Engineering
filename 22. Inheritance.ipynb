{
 "cells": [
  {
   "cell_type": "code",
   "execution_count": 9,
   "id": "10e65267",
   "metadata": {},
   "outputs": [
    {
     "name": "stdout",
     "output_type": "stream",
     "text": [
      "(Initialized SchoolMember: Mr. Ujjwal)\n",
      "(Initialized Teacher: Mr. Ujjwal)\n",
      "Name:\"Mr. Ujjwal\" Age: \"40\" Salary: \"30000\"\n",
      "(Initialized SchoolMember: Nikhil)\n",
      "(Initialized Student: Nikhil)\n",
      "Name:\"Nikhil\" Age: \"25\" Marks: \"75\"\n"
     ]
    }
   ],
   "source": [
    "class SchoolMember:\n",
    "    '''Represents any school member.'''\n",
    "    def __init__(self, name, age):\n",
    "        self.name = name\n",
    "        self.age = age\n",
    "        print('(Initialized SchoolMember: {})'.format(self.name))\n",
    "        \n",
    "    def tell(self):\n",
    "        '''Tell my details.'''\n",
    "        print('Name:\"{}\" Age: \"{}\"'.format(self.name,self.age), end=\" \")\n",
    "        \n",
    "class Teacher(SchoolMember):\n",
    "    '''Represents a teacher.'''\n",
    "    def __init__(self, name, age, salary):\n",
    "        super().__init__(name,age)\n",
    "        self.salary = salary\n",
    "        print('(Initialized Teacher: {})'.format(self.name))\n",
    "        \n",
    "    def tell(self):\n",
    "        SchoolMember.tell(self)\n",
    "        print('Salary: \"{:d}\"'.format(self.salary))\n",
    "        \n",
    "class Student(SchoolMember):\n",
    "    '''Represents a student.'''\n",
    "    def __init__(self, name, age, marks):\n",
    "        #SchoolMember.__init__(self,name,age)\n",
    "        super().__init__(name,age)\n",
    "        self.marks = marks\n",
    "        print('(Initialized Student: {})'.format(self.name))\n",
    "        \n",
    "    def tell(self):\n",
    "        #SchoolMember.tell(self)\n",
    "        super().tell()\n",
    "        print('Marks: \"{:d}\"'.format(self.marks))\n",
    "        \n",
    "t = Teacher('Mr. Ujjwal', 40, 30000)\n",
    "t.tell()\n",
    "s = Student('Nikhil', 25, 75)\n",
    "s.tell()"
   ]
  },
  {
   "cell_type": "code",
   "execution_count": 8,
   "id": "fdd47902",
   "metadata": {},
   "outputs": [],
   "source": [
    "# The above way represents the overrding functionality in Python.\n",
    "# using dunder in Python means overriding the default behaviour and writing my own logic."
   ]
  },
  {
   "cell_type": "code",
   "execution_count": null,
   "id": "7dbdc013",
   "metadata": {},
   "outputs": [],
   "source": []
  }
 ],
 "metadata": {
  "kernelspec": {
   "display_name": "Python 3",
   "language": "python",
   "name": "python3"
  },
  "language_info": {
   "codemirror_mode": {
    "name": "ipython",
    "version": 3
   },
   "file_extension": ".py",
   "mimetype": "text/x-python",
   "name": "python",
   "nbconvert_exporter": "python",
   "pygments_lexer": "ipython3",
   "version": "3.8.8"
  }
 },
 "nbformat": 4,
 "nbformat_minor": 5
}
