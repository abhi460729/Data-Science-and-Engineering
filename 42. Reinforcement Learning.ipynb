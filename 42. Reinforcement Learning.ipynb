{
 "cells": [
  {
   "cell_type": "markdown",
   "id": "aa304e4f",
   "metadata": {},
   "source": [
    "We will be learning Reinforcement Learning with respect to computer games."
   ]
  },
  {
   "cell_type": "markdown",
   "id": "4362b99d",
   "metadata": {},
   "source": [
    "We will be learning how to develop A.I. bot that can play games for you. Using Deep Q - Learing and Deep Reinforcement Learning for building A.I. bots."
   ]
  },
  {
   "cell_type": "markdown",
   "id": "768e8ef7",
   "metadata": {},
   "source": [
    "Supervised Learning: Data is present in the form of input, output pairs. X, Y. You have any algorithm like neural network, sentiment analysis, object detection or regression algorithm that is trained following the process of supervised learning.   "
   ]
  },
  {
   "cell_type": "markdown",
   "id": "0fc9ced2",
   "metadata": {},
   "source": [
    "Unsupervised Learning: Only X is given. We try to find out some existing patterns. For example: In K- means, we try to find out what is an interesing segmentation of an image. We try to cluster regions which are similar. There are more Unsupervised learning methods like PCA, GAN etc. "
   ]
  },
  {
   "cell_type": "markdown",
   "id": "78013898",
   "metadata": {},
   "source": [
    "Reinforcement Learning: It is human like learning. A person is riding a bicycle. He is doing a hit and trial method. If he falls down he receives a negative feedback from the environment and if he reaches the final point then he gets a successful message.\n",
    "\n",
    "It involves terminology like Agent/Object who resembles the person who is bicycling. Agent will know how to perform a particular task and how to ride a particular bicycle.\n",
    "\n",
    "Agent: An object that interacts with the environment.\n",
    "\n",
    "Environment: Anything with which the agent is going to interact."
   ]
  },
  {
   "cell_type": "markdown",
   "id": "89e3df24",
   "metadata": {},
   "source": [
    "Example:\n",
    "    \n",
    "Cartpole\n",
    "Mario Game\n",
    "\n",
    "The agent will take some action on the environment and the environment will give a reward to the agent."
   ]
  },
  {
   "cell_type": "markdown",
   "id": "d2ecdb5d",
   "metadata": {},
   "source": [
    "Till the final state is not arrived. The state keeps changing. For example: Either the agent is killed or the agent reaches the completed state. With each timestamp we get a particular reward. Our goal is to maximize the total reward based on the timestamp.\n",
    "\n",
    "R = Sum of all rt for each t.\n",
    "\n",
    "rt = reward at each timestamp.\n",
    "\n",
    "t = timestamp."
   ]
  },
  {
   "cell_type": "markdown",
   "id": "9dec4639",
   "metadata": {},
   "source": [
    "We needs to design a policy/algorithm such that we get the maximum reward."
   ]
  }
 ],
 "metadata": {
  "kernelspec": {
   "display_name": "Python 3",
   "language": "python",
   "name": "python3"
  },
  "language_info": {
   "codemirror_mode": {
    "name": "ipython",
    "version": 3
   },
   "file_extension": ".py",
   "mimetype": "text/x-python",
   "name": "python",
   "nbconvert_exporter": "python",
   "pygments_lexer": "ipython3",
   "version": "3.8.8"
  }
 },
 "nbformat": 4,
 "nbformat_minor": 5
}
