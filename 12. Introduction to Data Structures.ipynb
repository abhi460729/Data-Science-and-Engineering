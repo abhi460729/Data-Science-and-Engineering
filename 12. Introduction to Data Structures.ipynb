{
 "cells": [
  {
   "cell_type": "code",
   "execution_count": 1,
   "id": "d8dfd086",
   "metadata": {},
   "outputs": [],
   "source": [
    "#Students -> name, roll, marks\n",
    "#CRUD -> Create, Read, Update, Delete/Remove\n",
    "#What is a Data Structure?\n",
    "#A Data Structure is used to store Students in such a way taht CRUD operations are performed in the easiest and most suitable way.\n",
    "\n",
    "#Basic and Primary Data Structures in Python include.\n",
    "#Int\n",
    "#Float\n",
    "#Bool\n",
    "#Strings\n",
    "#Complex\n",
    "\n",
    "#Derived\n",
    "#Lists\n",
    "#Tuple\n",
    "#Dictionary\n",
    "\n",
    "#They are the most common Data Structures available in Python and the most common Data Structures used to build the complex system. "
   ]
  },
  {
   "cell_type": "code",
   "execution_count": 3,
   "id": "0eda446a",
   "metadata": {},
   "outputs": [],
   "source": [
    "# a = 10\n",
    "# b = 10\n",
    "# Memory Table\n",
    "# a -> 1234\n",
    "# b -> 1234\n",
    "\n",
    "# value 10\n",
    "# address 1234\n",
    "\n",
    "# If the value for two variables is in range -5 to 256, then same memory address is assigned to those variables.\n",
    "#If the value is 257 and above then different variables are assigned."
   ]
  },
  {
   "cell_type": "code",
   "execution_count": 4,
   "id": "4ba5b774",
   "metadata": {},
   "outputs": [],
   "source": [
    "# Mostly Data Structures in Python are Immutable.\n",
    "# Only Mutable Data Structures in Python are List, Dict, Set."
   ]
  },
  {
   "cell_type": "code",
   "execution_count": 5,
   "id": "5590f102",
   "metadata": {},
   "outputs": [],
   "source": [
    "#Strings\n",
    "#Collection of characters [a-z A-Z 0-9_ _ _ _ _]\n",
    "#                           UTF-8 ASCII\n",
    "#0 - \\0\n",
    "#1\n",
    "#2\n",
    "#3\n",
    "#.\n",
    "#.\n",
    "#.\n",
    "#.\n",
    "#.\n",
    "#.\n",
    "#.\n",
    "#65 - A\n",
    "#66 - B\n",
    "\n",
    "#(0 1) base 2\n",
    "#() base 10\n",
    "#By the above two base conversions we can only store numbers in RAM.\n",
    "\n",
    "#\"Coding Blocks\"\n",
    "#  _ _\n",
    "#|67|_|_|..............................\n",
    "#8 bits\n",
    "#2^8=256\n",
    "#Range of ASCII Characters - 0 - 256\n",
    "\n",
    "#Strings in general are collection of characters.\n",
    "#Strings are ordered!\n",
    "#Array of characters\n",
    "#C++, Java\n",
    "#char = 'a'\n",
    "\n",
    "#In Python 'a' is treated as a string of length 1. \n",
    "#name = 'a', length = 1\n",
    "#|_______________________|\n",
    "#immutable\n",
    "\n",
    "#name=\"jatin\"\n",
    "#name[0]='l'\n",
    "#(it is not allowed as string is immutable in Python.)\n",
    "#computer only understands 0 and 1, if you want to store a character into the computer it needs to be encoded in the form of ACSII or UTF-8."
   ]
  },
  {
   "cell_type": "code",
   "execution_count": 6,
   "id": "83449274",
   "metadata": {},
   "outputs": [],
   "source": [
    "a = \"jatin\""
   ]
  },
  {
   "cell_type": "code",
   "execution_count": 7,
   "id": "3c8e762f",
   "metadata": {},
   "outputs": [
    {
     "name": "stdout",
     "output_type": "stream",
     "text": [
      "jatin\n"
     ]
    }
   ],
   "source": [
    "print (a)"
   ]
  },
  {
   "cell_type": "code",
   "execution_count": 8,
   "id": "61c673a8",
   "metadata": {},
   "outputs": [],
   "source": [
    "a ='jatin1'"
   ]
  },
  {
   "cell_type": "code",
   "execution_count": 10,
   "id": "63fc806b",
   "metadata": {},
   "outputs": [
    {
     "name": "stdout",
     "output_type": "stream",
     "text": [
      "jatin1\n"
     ]
    }
   ],
   "source": [
    "print (a)"
   ]
  },
  {
   "cell_type": "code",
   "execution_count": 13,
   "id": "0fdb7000",
   "metadata": {},
   "outputs": [],
   "source": [
    "a = \"\"\"\n",
    "    this is a multi line \n",
    "    string\n",
    "\"\"\""
   ]
  },
  {
   "cell_type": "code",
   "execution_count": 14,
   "id": "5f48f3f3",
   "metadata": {},
   "outputs": [
    {
     "name": "stdout",
     "output_type": "stream",
     "text": [
      "\n",
      "    this is a multi line \n",
      "    string\n",
      "\n"
     ]
    }
   ],
   "source": [
    "print(a)"
   ]
  },
  {
   "cell_type": "code",
   "execution_count": 15,
   "id": "75905ac1",
   "metadata": {},
   "outputs": [
    {
     "data": {
      "text/plain": [
       "'\\n    this is a multi line \\n    string\\n'"
      ]
     },
     "execution_count": 15,
     "metadata": {},
     "output_type": "execute_result"
    }
   ],
   "source": [
    "a"
   ]
  },
  {
   "cell_type": "code",
   "execution_count": 16,
   "id": "f1d6d780",
   "metadata": {},
   "outputs": [],
   "source": [
    "a = '''\n",
    "    this is a multi line \n",
    "    string\n",
    "'''"
   ]
  },
  {
   "cell_type": "code",
   "execution_count": 17,
   "id": "eabdfec6",
   "metadata": {},
   "outputs": [
    {
     "name": "stdout",
     "output_type": "stream",
     "text": [
      "\n",
      "    this is a multi line \n",
      "    string\n",
      "\n"
     ]
    }
   ],
   "source": [
    "print(a)"
   ]
  },
  {
   "cell_type": "code",
   "execution_count": 18,
   "id": "e4bdb6eb",
   "metadata": {},
   "outputs": [],
   "source": [
    "a = 'a'"
   ]
  },
  {
   "cell_type": "code",
   "execution_count": 19,
   "id": "dee9d10d",
   "metadata": {},
   "outputs": [
    {
     "name": "stdout",
     "output_type": "stream",
     "text": [
      "a\n"
     ]
    }
   ],
   "source": [
    "print(a)"
   ]
  },
  {
   "cell_type": "code",
   "execution_count": 20,
   "id": "b4203879",
   "metadata": {},
   "outputs": [
    {
     "data": {
      "text/plain": [
       "97"
      ]
     },
     "execution_count": 20,
     "metadata": {},
     "output_type": "execute_result"
    }
   ],
   "source": [
    "ord('a')"
   ]
  },
  {
   "cell_type": "code",
   "execution_count": 21,
   "id": "3f4eb6fd",
   "metadata": {},
   "outputs": [],
   "source": [
    "#ord returns a ASCII equivalent of a particular character."
   ]
  },
  {
   "cell_type": "code",
   "execution_count": 23,
   "id": "1c66075d",
   "metadata": {},
   "outputs": [
    {
     "data": {
      "text/plain": [
       "'A'"
      ]
     },
     "execution_count": 23,
     "metadata": {},
     "output_type": "execute_result"
    }
   ],
   "source": [
    "chr(65)"
   ]
  }
 ],
 "metadata": {
  "kernelspec": {
   "display_name": "Python 3",
   "language": "python",
   "name": "python3"
  },
  "language_info": {
   "codemirror_mode": {
    "name": "ipython",
    "version": 3
   },
   "file_extension": ".py",
   "mimetype": "text/x-python",
   "name": "python",
   "nbconvert_exporter": "python",
   "pygments_lexer": "ipython3",
   "version": "3.8.8"
  }
 },
 "nbformat": 4,
 "nbformat_minor": 5
}
