{
 "cells": [
  {
   "cell_type": "code",
   "execution_count": 1,
   "id": "cd437b3f",
   "metadata": {},
   "outputs": [
    {
     "name": "stdout",
     "output_type": "stream",
     "text": [
      "Hello World!\n"
     ]
    }
   ],
   "source": [
    "a = \"Hello World!\"\n",
    "print(a)"
   ]
  },
  {
   "cell_type": "code",
   "execution_count": 2,
   "id": "8645e647",
   "metadata": {},
   "outputs": [
    {
     "name": "stdout",
     "output_type": "stream",
     "text": [
      "10\n"
     ]
    }
   ],
   "source": [
    "a = 10\n",
    "print(a)"
   ]
  },
  {
   "cell_type": "code",
   "execution_count": 3,
   "id": "5a6c6541",
   "metadata": {},
   "outputs": [
    {
     "name": "stdout",
     "output_type": "stream",
     "text": [
      "<class 'int'>\n"
     ]
    }
   ],
   "source": [
    "print(type(a))"
   ]
  },
  {
   "cell_type": "code",
   "execution_count": 4,
   "id": "abc51aa2",
   "metadata": {},
   "outputs": [],
   "source": [
    "# Python is an interpreted language\n",
    "# The order of execution of the cell is also important in jupyter"
   ]
  },
  {
   "cell_type": "code",
   "execution_count": 5,
   "id": "8a7fc341",
   "metadata": {},
   "outputs": [],
   "source": [
    "# numbers = input()\n",
    "# 1 2 3 4 5"
   ]
  },
  {
   "cell_type": "code",
   "execution_count": 6,
   "id": "aefc4e5b",
   "metadata": {},
   "outputs": [],
   "source": [
    "# print(type(numbers))\n",
    "# str"
   ]
  },
  {
   "cell_type": "code",
   "execution_count": 7,
   "id": "bc1eef2b",
   "metadata": {},
   "outputs": [
    {
     "name": "stdout",
     "output_type": "stream",
     "text": [
      "['1', '2', '3', '4', '5']\n"
     ]
    }
   ],
   "source": [
    "numbers_list_chars = \"1 2 3 4 5\".split()\n",
    "print(numbers_list_chars)"
   ]
  },
  {
   "cell_type": "code",
   "execution_count": 8,
   "id": "c01394b1",
   "metadata": {},
   "outputs": [
    {
     "data": {
      "text/plain": [
       "1"
      ]
     },
     "execution_count": 8,
     "metadata": {},
     "output_type": "execute_result"
    }
   ],
   "source": [
    "int(numbers_list_chars[0])"
   ]
  },
  {
   "cell_type": "code",
   "execution_count": 9,
   "id": "0acbee09",
   "metadata": {},
   "outputs": [
    {
     "name": "stdout",
     "output_type": "stream",
     "text": [
      "[1, 2, 3, 4, 5]\n"
     ]
    }
   ],
   "source": [
    "numbers_list_int = [int(x) for x in numbers_list_chars] # Method of making a list in python is known as list comprehension (it consists of brackets containing the expression that is executed for each element along with the for loop to iterate over each element in the Python list)\n",
    "print(numbers_list_int)"
   ]
  },
  {
   "cell_type": "code",
   "execution_count": 10,
   "id": "b543ee24",
   "metadata": {},
   "outputs": [],
   "source": [
    "# 1 - Bulbasaur\n",
    "# 2 - Pickachu\n",
    "# 3 - Charmender\n",
    "# X - Invalid Input"
   ]
  },
  {
   "cell_type": "code",
   "execution_count": 11,
   "id": "ef3683d1",
   "metadata": {},
   "outputs": [],
   "source": [
    "# Learning Goals: \n",
    "# - Input and Output in Python \n",
    "# - For Loops and Conditional Statements in Python \n",
    "# - Data Structures like Lists, Tuples and Dictionaries in Python \n",
    "# - Functions"
   ]
  },
  {
   "cell_type": "code",
   "execution_count": 12,
   "id": "f242ba74",
   "metadata": {},
   "outputs": [
    {
     "name": "stdout",
     "output_type": "stream",
     "text": [
      "Bulbasaur\n",
      "Pickachu\n",
      "Charmender\n",
      "invalid\n",
      "invalid\n"
     ]
    }
   ],
   "source": [
    "for i in numbers_list_int:\n",
    "    if i==1:\n",
    "        print(\"Bulbasaur\")\n",
    "    elif i==2:\n",
    "        print(\"Pickachu\")\n",
    "    elif i==3:\n",
    "        print(\"Charmender\")\n",
    "    else:\n",
    "        print(\"invalid\")"
   ]
  },
  {
   "cell_type": "code",
   "execution_count": 13,
   "id": "71189dc7",
   "metadata": {},
   "outputs": [],
   "source": [
    "# Dictionaries in Python (Hashmaps)\n",
    "pokemon_map = {\n",
    "    1:\"Bulbasaur\",\n",
    "    2:\"Pickachu\",\n",
    "    3:\"Charmender\"\n",
    "} "
   ]
  },
  {
   "cell_type": "code",
   "execution_count": 14,
   "id": "0e683c4a",
   "metadata": {},
   "outputs": [
    {
     "data": {
      "text/plain": [
       "'Pickachu'"
      ]
     },
     "execution_count": 14,
     "metadata": {},
     "output_type": "execute_result"
    }
   ],
   "source": [
    "pokemon_map[2]"
   ]
  },
  {
   "cell_type": "code",
   "execution_count": 15,
   "id": "7c7c84c7",
   "metadata": {},
   "outputs": [
    {
     "ename": "KeyError",
     "evalue": "5",
     "output_type": "error",
     "traceback": [
      "\u001b[1;31m---------------------------------------------------------------------------\u001b[0m",
      "\u001b[1;31mKeyError\u001b[0m                                  Traceback (most recent call last)",
      "\u001b[1;32m<ipython-input-15-a62541aa15fd>\u001b[0m in \u001b[0;36m<module>\u001b[1;34m\u001b[0m\n\u001b[1;32m----> 1\u001b[1;33m \u001b[0mpokemon_map\u001b[0m\u001b[1;33m[\u001b[0m\u001b[1;36m5\u001b[0m\u001b[1;33m]\u001b[0m\u001b[1;33m\u001b[0m\u001b[1;33m\u001b[0m\u001b[0m\n\u001b[0m",
      "\u001b[1;31mKeyError\u001b[0m: 5"
     ]
    }
   ],
   "source": [
    "pokemon_map[5]"
   ]
  },
  {
   "cell_type": "code",
   "execution_count": null,
   "id": "829e40ad",
   "metadata": {},
   "outputs": [],
   "source": [
    "if pokemon_map.get(5) is None:\n",
    "    print(\"Pokemon Not Found!\")\n",
    "else:\n",
    "    print(pokemon_map[5])"
   ]
  },
  {
   "cell_type": "code",
   "execution_count": null,
   "id": "26ab7b0c",
   "metadata": {},
   "outputs": [],
   "source": [
    "for i in numbers_list_int:\n",
    "    if pokemon_map.get(i) is None:\n",
    "        print(\"Pokemon Not Found!\")\n",
    "    else:\n",
    "        print(pokemon_map[i])"
   ]
  },
  {
   "cell_type": "code",
   "execution_count": null,
   "id": "844b608b",
   "metadata": {},
   "outputs": [],
   "source": [
    "pokemons = [\"Balbasaur\",\"Pickachu\",\"Charmender\"]\n",
    "pokemons[0]"
   ]
  },
  {
   "cell_type": "code",
   "execution_count": null,
   "id": "9c9057fe",
   "metadata": {},
   "outputs": [],
   "source": [
    "pokemons_pair = [(\"Bulbasaur\", 200),(\"Pickachu\", 250),(\"Charmender\",900,700)]\n",
    "pokemons_pair[0]\n",
    "print(pokemons_pair[0])\n",
    "print(type(pokemons_pair[0]))\n",
    "print(type(pokemons_pair))\n",
    "#Above is a list of tuples\n",
    "#What is the difference between a list and a tuple\n",
    "#Tuple is a read only list"
   ]
  },
  {
   "cell_type": "code",
   "execution_count": null,
   "id": "d4457178",
   "metadata": {},
   "outputs": [],
   "source": [
    "pokemons_pair[2]"
   ]
  },
  {
   "cell_type": "code",
   "execution_count": null,
   "id": "629156e7",
   "metadata": {},
   "outputs": [],
   "source": [
    "# Anything that is included in round brackets is called as tuple"
   ]
  },
  {
   "cell_type": "code",
   "execution_count": null,
   "id": "bc780d9a",
   "metadata": {},
   "outputs": [],
   "source": [
    "t = (\"A\",\"B\",\"C\") # Read Only List or Tuple"
   ]
  },
  {
   "cell_type": "code",
   "execution_count": null,
   "id": "3dd0ff7d",
   "metadata": {},
   "outputs": [],
   "source": [
    "print(type(t))"
   ]
  },
  {
   "cell_type": "code",
   "execution_count": 18,
   "id": "1b3628bf",
   "metadata": {},
   "outputs": [],
   "source": [
    "#Function\n",
    "\n",
    "def printPokemons(numbers):\n",
    "    #Dictionary\n",
    "    pokemon_map = {\n",
    "    1:\"Bulbasaur\",\n",
    "    2:\"Pickachu\",\n",
    "    3:\"Charmender\"\n",
    "    }\n",
    "    \n",
    "    #Loop\n",
    "    for i in numbers:\n",
    "        if pokemon_map.get(i) is None:\n",
    "            print(\"Pokemon Not Found!\")\n",
    "        else:\n",
    "            print(pokemon_map[i])\n",
    "    return"
   ]
  },
  {
   "cell_type": "code",
   "execution_count": 19,
   "id": "c8eb82f2",
   "metadata": {},
   "outputs": [
    {
     "name": "stdout",
     "output_type": "stream",
     "text": [
      "Bulbasaur\n",
      "Pickachu\n",
      "Charmender\n",
      "Pokemon Not Found!\n",
      "Pokemon Not Found!\n"
     ]
    }
   ],
   "source": [
    "numbers = [1,2,3,4,5]\n",
    "printPokemons(numbers)"
   ]
  },
  {
   "cell_type": "code",
   "execution_count": null,
   "id": "f30d6442",
   "metadata": {},
   "outputs": [],
   "source": [
    "# !pip install numpy"
   ]
  },
  {
   "cell_type": "code",
   "execution_count": null,
   "id": "155679bd",
   "metadata": {},
   "outputs": [],
   "source": []
  }
 ],
 "metadata": {
  "kernelspec": {
   "display_name": "Python 3",
   "language": "python",
   "name": "python3"
  },
  "language_info": {
   "codemirror_mode": {
    "name": "ipython",
    "version": 3
   },
   "file_extension": ".py",
   "mimetype": "text/x-python",
   "name": "python",
   "nbconvert_exporter": "python",
   "pygments_lexer": "ipython3",
   "version": "3.8.8"
  }
 },
 "nbformat": 4,
 "nbformat_minor": 5
}
