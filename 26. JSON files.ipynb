{
 "cells": [
  {
   "cell_type": "markdown",
   "id": "fb4a370b",
   "metadata": {},
   "source": [
    "### JSON files\n",
    "\n",
    "- Javascript Object Notation abbreviated as JSON is a light-weight data interchange format. It Encode Python objects as JSON strings, and decode JSON strings into Python objects"
   ]
  },
  {
   "cell_type": "markdown",
   "id": "c46fe4bd",
   "metadata": {},
   "source": [
    "- json.dump(obj,fileObj): Serializes obj as a JSON formatted stream to fileObj.\n",
    "- json.dumps(obj): Serializes obj as JSON formatted string. \n",
    "- json.load(JSONfile): De-serializes JSONfile to a Python object.\n",
    "- json.loads(JSONfile): De-serializes JSONfile(type: string)to a Python object."
   ]
  },
  {
   "cell_type": "code",
   "execution_count": 3,
   "id": "7fbdf107",
   "metadata": {},
   "outputs": [],
   "source": [
    "import json"
   ]
  },
  {
   "cell_type": "code",
   "execution_count": 2,
   "id": "12e0da0f",
   "metadata": {},
   "outputs": [
    {
     "name": "stdout",
     "output_type": "stream",
     "text": [
      "{\n",
      "    \"name\":\"jatin\",\n",
      "    \"marks\":100,\n",
      "    \"subjects\":[\"eng\",\"maths\"]\n",
      "}\n"
     ]
    }
   ],
   "source": [
    "with open(\"data.json\",\"r\") as file:\n",
    "    print(file.read())\n",
    "    #print(file.read()[\"name\"]) #just like dictionary I cannot index it. It is a JSON data."
   ]
  },
  {
   "cell_type": "code",
   "execution_count": 7,
   "id": "fc2b2d8d",
   "metadata": {},
   "outputs": [
    {
     "name": "stdout",
     "output_type": "stream",
     "text": [
      "{'name': 'jatin', 'marks': 100, 'subjects': ['eng', 'maths']}\n",
      "<class 'dict'>\n",
      "jatin\n"
     ]
    }
   ],
   "source": [
    "with open(\"data.json\",\"r\") as file:\n",
    "    d = json.load(file)\n",
    "    #The above file will convert this JSON file to a dictionary after parsing it.\n",
    "    print(d)\n",
    "    print(type(d))\n",
    "    print(d[\"name\"])"
   ]
  },
  {
   "cell_type": "code",
   "execution_count": 8,
   "id": "cfa3bc59",
   "metadata": {},
   "outputs": [],
   "source": [
    "# Alternative approach, JSON String."
   ]
  },
  {
   "cell_type": "code",
   "execution_count": 13,
   "id": "65670658",
   "metadata": {},
   "outputs": [
    {
     "name": "stdout",
     "output_type": "stream",
     "text": [
      "{\n",
      "    \"name\":\"jatin\",\n",
      "    \"marks\":100,\n",
      "    \"subjects\":[\"eng\",\"maths\"]\n",
      "}\n",
      "<class 'str'>\n",
      "{'name': 'jatin', 'marks': 100, 'subjects': ['eng', 'maths']}\n"
     ]
    }
   ],
   "source": [
    "with open(\"data.json\",\"r\") as file:\n",
    "    data = file.read()\n",
    "    print(data)\n",
    "    print(type(data)) #It is a JSON string.\n",
    "    d = json.loads(data) #To convert a JSON string to a dictionary.\n",
    "    print(d) #This d object is a dictionary."
   ]
  },
  {
   "cell_type": "markdown",
   "id": "352cf780",
   "metadata": {},
   "source": [
    "Now let's see how to convert a dictionary to a JSON file or a string."
   ]
  },
  {
   "cell_type": "code",
   "execution_count": 14,
   "id": "361b338a",
   "metadata": {},
   "outputs": [],
   "source": [
    "d = {'name': 'jatin', 'marks': 100, 'subjects': ['eng', 'maths']}"
   ]
  },
  {
   "cell_type": "code",
   "execution_count": 15,
   "id": "fd839d44",
   "metadata": {},
   "outputs": [
    {
     "data": {
      "text/plain": [
       "'jatin'"
      ]
     },
     "execution_count": 15,
     "metadata": {},
     "output_type": "execute_result"
    }
   ],
   "source": [
    "d[\"name\"]"
   ]
  },
  {
   "cell_type": "code",
   "execution_count": 17,
   "id": "97f8dd2c",
   "metadata": {},
   "outputs": [],
   "source": [
    "string = json.dumps(d) #dumping means converting a dictionary object into a JSON string."
   ]
  },
  {
   "cell_type": "code",
   "execution_count": 18,
   "id": "82ca52dc",
   "metadata": {},
   "outputs": [
    {
     "name": "stdout",
     "output_type": "stream",
     "text": [
      "{\"name\": \"jatin\", \"marks\": 100, \"subjects\": [\"eng\", \"maths\"]}\n"
     ]
    }
   ],
   "source": [
    "print(string)"
   ]
  },
  {
   "cell_type": "code",
   "execution_count": 19,
   "id": "b7197314",
   "metadata": {},
   "outputs": [
    {
     "name": "stdout",
     "output_type": "stream",
     "text": [
      "<class 'str'>\n"
     ]
    }
   ],
   "source": [
    "print(type(string))"
   ]
  },
  {
   "cell_type": "markdown",
   "id": "eed90d81",
   "metadata": {},
   "source": [
    "Another way of creating a JSON file from a dictionary."
   ]
  },
  {
   "cell_type": "code",
   "execution_count": 20,
   "id": "417ac442",
   "metadata": {},
   "outputs": [],
   "source": [
    "with open(\"data2.json\",\"w\") as file:\n",
    "    json.dump(d,file)"
   ]
  },
  {
   "cell_type": "code",
   "execution_count": 21,
   "id": "b696bfa9",
   "metadata": {},
   "outputs": [],
   "source": [
    "# Whenever we are trying to scrape data using Python. Whenever we are trying to create web crawlers similar to google search then we generally tend to parse the JSON data using these methods."
   ]
  },
  {
   "cell_type": "code",
   "execution_count": null,
   "id": "126c5004",
   "metadata": {},
   "outputs": [],
   "source": []
  }
 ],
 "metadata": {
  "kernelspec": {
   "display_name": "Python 3",
   "language": "python",
   "name": "python3"
  },
  "language_info": {
   "codemirror_mode": {
    "name": "ipython",
    "version": 3
   },
   "file_extension": ".py",
   "mimetype": "text/x-python",
   "name": "python",
   "nbconvert_exporter": "python",
   "pygments_lexer": "ipython3",
   "version": "3.8.8"
  }
 },
 "nbformat": 4,
 "nbformat_minor": 5
}
