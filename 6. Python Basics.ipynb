{
 "cells": [
  {
   "cell_type": "markdown",
   "id": "287be72c",
   "metadata": {},
   "source": [
    "## Let's write our first \"Hello World!\" Program :)\n",
    "- Run on interactive shell\n",
    "- Run as python script"
   ]
  },
  {
   "cell_type": "markdown",
   "id": "e340ce62",
   "metadata": {},
   "source": [
    "### A simple hello world program"
   ]
  },
  {
   "cell_type": "code",
   "execution_count": 9,
   "id": "8033d25b",
   "metadata": {},
   "outputs": [
    {
     "name": "stdout",
     "output_type": "stream",
     "text": [
      "Hello World\n"
     ]
    }
   ],
   "source": [
    "print(\"Hello World\")"
   ]
  },
  {
   "cell_type": "markdown",
   "id": "28bc0d1a",
   "metadata": {},
   "source": [
    "### Comments"
   ]
  },
  {
   "cell_type": "code",
   "execution_count": 6,
   "id": "112c5228",
   "metadata": {},
   "outputs": [
    {
     "name": "stdout",
     "output_type": "stream",
     "text": [
      "Hello World!\n"
     ]
    }
   ],
   "source": [
    "# this is a comment\n",
    "# this is another comment\n",
    "print(\"Hello World!\")"
   ]
  },
  {
   "cell_type": "code",
   "execution_count": 7,
   "id": "458cacc2",
   "metadata": {},
   "outputs": [
    {
     "data": {
      "text/plain": [
       "'\\nthis is a \\nmultiline comment\\n'"
      ]
     },
     "execution_count": 7,
     "metadata": {},
     "output_type": "execute_result"
    }
   ],
   "source": [
    "'''\n",
    "this is a \n",
    "multiline comment\n",
    "'''"
   ]
  },
  {
   "cell_type": "code",
   "execution_count": 8,
   "id": "315ebb8f",
   "metadata": {},
   "outputs": [],
   "source": [
    "#The above code is not a multi line comment but it is a multi line string"
   ]
  },
  {
   "cell_type": "markdown",
   "id": "0850fde0",
   "metadata": {},
   "source": [
    "### Literal Constants\n",
    "- Numbers\n",
    "    - Integers\n",
    "    - Floats\n",
    "    - Complex\n",
    "- Strings\n",
    "    - Single Quotes\n",
    "    - Double Quotes\n",
    "    - Triple Quotes\n",
    "    - Escape sequences (\\n,\\t,\\r)\n",
    "    - Explicit line joining"
   ]
  },
  {
   "cell_type": "code",
   "execution_count": 16,
   "id": "db1e4188",
   "metadata": {},
   "outputs": [],
   "source": [
    "a = 5"
   ]
  },
  {
   "cell_type": "code",
   "execution_count": 17,
   "id": "796533ef",
   "metadata": {},
   "outputs": [
    {
     "name": "stdout",
     "output_type": "stream",
     "text": [
      "5\n"
     ]
    }
   ],
   "source": [
    "print(a)"
   ]
  },
  {
   "cell_type": "code",
   "execution_count": 18,
   "id": "ed0c679c",
   "metadata": {},
   "outputs": [
    {
     "name": "stdout",
     "output_type": "stream",
     "text": [
      "<class 'int'>\n"
     ]
    }
   ],
   "source": [
    "print(type(a))"
   ]
  },
  {
   "cell_type": "code",
   "execution_count": 19,
   "id": "6c2e2e87",
   "metadata": {},
   "outputs": [],
   "source": [
    "a = 1.5"
   ]
  },
  {
   "cell_type": "code",
   "execution_count": 20,
   "id": "8ce8fa24",
   "metadata": {},
   "outputs": [
    {
     "name": "stdout",
     "output_type": "stream",
     "text": [
      "1.5\n"
     ]
    }
   ],
   "source": [
    "print(a)"
   ]
  },
  {
   "cell_type": "code",
   "execution_count": 21,
   "id": "7675bb84",
   "metadata": {},
   "outputs": [
    {
     "name": "stdout",
     "output_type": "stream",
     "text": [
      "<class 'float'>\n"
     ]
    }
   ],
   "source": [
    "print(type(a))"
   ]
  },
  {
   "cell_type": "code",
   "execution_count": 22,
   "id": "e3cf05cb",
   "metadata": {},
   "outputs": [],
   "source": [
    "a = 1+5j"
   ]
  },
  {
   "cell_type": "code",
   "execution_count": 23,
   "id": "78c156f7",
   "metadata": {},
   "outputs": [
    {
     "name": "stdout",
     "output_type": "stream",
     "text": [
      "(1+5j)\n"
     ]
    }
   ],
   "source": [
    "print(a)"
   ]
  },
  {
   "cell_type": "code",
   "execution_count": 24,
   "id": "6737bd33",
   "metadata": {},
   "outputs": [],
   "source": [
    "a = \"jatin katyal loves python\""
   ]
  },
  {
   "cell_type": "code",
   "execution_count": 25,
   "id": "bbc9b035",
   "metadata": {},
   "outputs": [
    {
     "name": "stdout",
     "output_type": "stream",
     "text": [
      "jatin katyal loves python\n"
     ]
    }
   ],
   "source": [
    "print(a)"
   ]
  },
  {
   "cell_type": "code",
   "execution_count": 26,
   "id": "82f5cfdf",
   "metadata": {},
   "outputs": [
    {
     "data": {
      "text/plain": [
       "str"
      ]
     },
     "execution_count": 26,
     "metadata": {},
     "output_type": "execute_result"
    }
   ],
   "source": [
    "type(a)"
   ]
  },
  {
   "cell_type": "code",
   "execution_count": 27,
   "id": "3b1adb12",
   "metadata": {},
   "outputs": [],
   "source": [
    "#Python does not have a char array"
   ]
  },
  {
   "cell_type": "code",
   "execution_count": 28,
   "id": "befac625",
   "metadata": {},
   "outputs": [
    {
     "name": "stdout",
     "output_type": "stream",
     "text": [
      "<class 'str'>\n"
     ]
    }
   ],
   "source": [
    "a ='z'\n",
    "print(type(a))"
   ]
  },
  {
   "cell_type": "code",
   "execution_count": 29,
   "id": "17c6fd34",
   "metadata": {},
   "outputs": [
    {
     "name": "stdout",
     "output_type": "stream",
     "text": [
      "string in python\n",
      "string in python\n",
      "multi line string\n",
      "in python\n",
      "multi line string \n",
      "in python\n"
     ]
    }
   ],
   "source": [
    "s1 = \"string in python\"\n",
    "s2 = 'string in python'\n",
    "s3 = '''multi line string\n",
    "in python'''\n",
    "s4 = \"\"\"multi line string \n",
    "in python\"\"\"\n",
    "print(s1)\n",
    "print(s2)\n",
    "print(s3)\n",
    "print(s4)"
   ]
  },
  {
   "cell_type": "markdown",
   "id": "59ea1417",
   "metadata": {},
   "source": [
    "### Variables\n",
    "A type of identifier\n",
    "\n",
    "Rules for naming identifiers:\n",
    "- The first character of the identifier must be a letter of the alphabet (uppercase ASCII or lowercase ASCII or Unicode Character) or an underscore(_).\n",
    "- The rest of the identifier name can consist of letters (uppercase ASCII or lowercase ASCII or Unicode Character), underscores(_) or digits(0-9).\n",
    "- Identifier names are case-sensitive. For Example, myname and myName are not the same. Note the lowercase n in the former and the upper case N in the latter.\n",
    "\n",
    "Examples of valid identifier names are i, name_2_3.\n",
    "\n",
    "Examples if invalid identifiers names are 2things, this is spaced out, my-name and >a1b2_c3."
   ]
  },
  {
   "cell_type": "code",
   "execution_count": 31,
   "id": "6802218b",
   "metadata": {},
   "outputs": [],
   "source": [
    "abc = 10"
   ]
  },
  {
   "cell_type": "code",
   "execution_count": 32,
   "id": "d50c3829",
   "metadata": {},
   "outputs": [],
   "source": [
    "_abc = 20"
   ]
  },
  {
   "cell_type": "code",
   "execution_count": 33,
   "id": "dc05c317",
   "metadata": {},
   "outputs": [],
   "source": [
    "i = 10"
   ]
  },
  {
   "cell_type": "code",
   "execution_count": 34,
   "id": "a48914ff",
   "metadata": {},
   "outputs": [],
   "source": [
    "name_2_3 = 20"
   ]
  },
  {
   "cell_type": "code",
   "execution_count": 35,
   "id": "d3e08e9e",
   "metadata": {},
   "outputs": [
    {
     "ename": "SyntaxError",
     "evalue": "invalid syntax (<ipython-input-35-1d445299d681>, line 1)",
     "output_type": "error",
     "traceback": [
      "\u001b[1;36m  File \u001b[1;32m\"<ipython-input-35-1d445299d681>\"\u001b[1;36m, line \u001b[1;32m1\u001b[0m\n\u001b[1;33m    2thing = 10\u001b[0m\n\u001b[1;37m     ^\u001b[0m\n\u001b[1;31mSyntaxError\u001b[0m\u001b[1;31m:\u001b[0m invalid syntax\n"
     ]
    }
   ],
   "source": [
    "2thing = 10"
   ]
  },
  {
   "cell_type": "code",
   "execution_count": 36,
   "id": "a3c2b08e",
   "metadata": {},
   "outputs": [
    {
     "ename": "SyntaxError",
     "evalue": "invalid syntax (<ipython-input-36-30c758680f90>, line 1)",
     "output_type": "error",
     "traceback": [
      "\u001b[1;36m  File \u001b[1;32m\"<ipython-input-36-30c758680f90>\"\u001b[1;36m, line \u001b[1;32m1\u001b[0m\n\u001b[1;33m    &some = 20\u001b[0m\n\u001b[1;37m    ^\u001b[0m\n\u001b[1;31mSyntaxError\u001b[0m\u001b[1;31m:\u001b[0m invalid syntax\n"
     ]
    }
   ],
   "source": [
    "&some = 20"
   ]
  },
  {
   "cell_type": "markdown",
   "id": "e3a22d8e",
   "metadata": {},
   "source": [
    "### Arithmetic Operators (+,-,,*,/,//,%)"
   ]
  },
  {
   "cell_type": "code",
   "execution_count": 10,
   "id": "32bd89d3",
   "metadata": {},
   "outputs": [
    {
     "name": "stdout",
     "output_type": "stream",
     "text": [
      "31\n",
      "-11\n",
      "210\n",
      "0.4762\n",
      "0.47619047619047616\n",
      "0\n",
      "1000000000000000000000\n",
      "1\n"
     ]
    }
   ],
   "source": [
    "a = 10\n",
    "b = 21\n",
    "\n",
    "print(a+b)\n",
    "print(a-b)\n",
    "print(a*b)\n",
    "print(\"%0.4f\"%(a/b)) #It gives you a floating point number upto 4 decimal places.\n",
    "print(a/b) #It gives you a floating point number.\n",
    "print(a//b)#It gives you the integer part of the number.\n",
    "#Exponentiation or Exponent/Power Function\n",
    "print(a**b)#It is a power function.\n",
    "print(b%a) #It gives you the remainder"
   ]
  },
  {
   "cell_type": "markdown",
   "id": "47c53ab8",
   "metadata": {},
   "source": [
    "### Multiple Variable Assignment"
   ]
  },
  {
   "cell_type": "code",
   "execution_count": 11,
   "id": "72f4071e",
   "metadata": {},
   "outputs": [],
   "source": [
    "a,b,c = 10,20,30.34"
   ]
  },
  {
   "cell_type": "code",
   "execution_count": 12,
   "id": "b3d62fc1",
   "metadata": {},
   "outputs": [
    {
     "name": "stdout",
     "output_type": "stream",
     "text": [
      "10 20 30.34\n"
     ]
    }
   ],
   "source": [
    "print(a,b,c)"
   ]
  },
  {
   "cell_type": "code",
   "execution_count": null,
   "id": "826a1d55",
   "metadata": {},
   "outputs": [],
   "source": []
  }
 ],
 "metadata": {
  "kernelspec": {
   "display_name": "Python 3",
   "language": "python",
   "name": "python3"
  },
  "language_info": {
   "codemirror_mode": {
    "name": "ipython",
    "version": 3
   },
   "file_extension": ".py",
   "mimetype": "text/x-python",
   "name": "python",
   "nbconvert_exporter": "python",
   "pygments_lexer": "ipython3",
   "version": "3.8.8"
  }
 },
 "nbformat": 4,
 "nbformat_minor": 5
}
