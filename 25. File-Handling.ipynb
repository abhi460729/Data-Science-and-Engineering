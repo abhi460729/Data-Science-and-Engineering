{
 "cells": [
  {
   "cell_type": "markdown",
   "id": "69206f3b",
   "metadata": {},
   "source": [
    "### File Access Modes"
   ]
  },
  {
   "cell_type": "markdown",
   "id": "cc6dcc07",
   "metadata": {},
   "source": [
    "Access modes govern the type of operations possible in the opened file. It refers to how the file will be used once its opened. These modes also define the location of the File Handle in the file. File handle is like a curso, which defines from where the data has to be read or written in the file. There are 6 access modes in Python. "
   ]
  },
  {
   "cell_type": "markdown",
   "id": "a4aa7092",
   "metadata": {},
   "source": [
    "- Read Only ('r'): Open text file for reading. The handle is positioned at the begenning of the file. If the file does not exists, raises I/O error. This is also the default mode in which file is opened. \n",
    "\n",
    "- Read and Write ('r+'): Open the file forreading and writing. The handle is positioned at the begenning of the file. Raises I/O error if the file does not exists.\n",
    "\n",
    "- Write Only ('w'): Open the file for writing. For existing file, the data is truncated and over-written. The handle is positioned at the begenning of the file. Creates the file if the file does not exists.\n",
    "\n",
    "- Write and Read('w+'): Open the file for reading and writing. For existing file, data is truncated and over-written. The handle is positioned at the begenning of the file.\n",
    "\n",
    "- Append Only('a'): Open the file for writing. The file is created if it does not exist. The handle is positioned at the end of the file. The data being written will be inserted at the end, after the existing data.\n",
    "\n",
    "- Append and Read('a+'): Open the file for reading and writing. The file is created if it does not exist. The handle is positioned at the end of the file. The data being written will be inserted at the end, after the existing data."
   ]
  },
  {
   "cell_type": "markdown",
   "id": "08ba2be6",
   "metadata": {},
   "source": [
    "### 1. Text files"
   ]
  },
  {
   "cell_type": "markdown",
   "id": "62041b20",
   "metadata": {},
   "source": [
    "### Opening a file"
   ]
  },
  {
   "cell_type": "code",
   "execution_count": 9,
   "id": "a7304d15",
   "metadata": {},
   "outputs": [],
   "source": [
    "file = open(\"hello.txt\", \"r\")"
   ]
  },
  {
   "cell_type": "code",
   "execution_count": 11,
   "id": "5078b82f",
   "metadata": {},
   "outputs": [
    {
     "data": {
      "text/plain": [
       "' Worl'"
      ]
     },
     "execution_count": 11,
     "metadata": {},
     "output_type": "execute_result"
    }
   ],
   "source": [
    "file.read(5) # 5 here specifies the number of characters or the number of bits to be read."
   ]
  },
  {
   "cell_type": "markdown",
   "id": "0b5f4e94",
   "metadata": {},
   "source": [
    "### Closing a file"
   ]
  },
  {
   "cell_type": "code",
   "execution_count": 12,
   "id": "d5adda95",
   "metadata": {},
   "outputs": [],
   "source": [
    "file.close() #if the file is not closed then the file might get corrupted."
   ]
  },
  {
   "cell_type": "markdown",
   "id": "2371992e",
   "metadata": {},
   "source": [
    "### Writing to a file\n",
    "- write\n",
    "- writelines"
   ]
  },
  {
   "cell_type": "code",
   "execution_count": 13,
   "id": "c2fb0c02",
   "metadata": {},
   "outputs": [],
   "source": [
    "file = open(\"something.txt\",\"w\")"
   ]
  },
  {
   "cell_type": "code",
   "execution_count": 14,
   "id": "9660ef30",
   "metadata": {},
   "outputs": [
    {
     "data": {
      "text/plain": [
       "21"
      ]
     },
     "execution_count": 14,
     "metadata": {},
     "output_type": "execute_result"
    }
   ],
   "source": [
    "file.write(\"hello from other side\")"
   ]
  },
  {
   "cell_type": "code",
   "execution_count": 15,
   "id": "5c998f10",
   "metadata": {},
   "outputs": [],
   "source": [
    "file.close()"
   ]
  },
  {
   "cell_type": "markdown",
   "id": "8a8ff313",
   "metadata": {},
   "source": [
    "### Reading from a file\n",
    "- read\n",
    "- readline\n",
    "- readlines"
   ]
  },
  {
   "cell_type": "code",
   "execution_count": 33,
   "id": "bb7306d1",
   "metadata": {},
   "outputs": [],
   "source": [
    "file = open(\"hello.txt\",\"r\")"
   ]
  },
  {
   "cell_type": "code",
   "execution_count": 31,
   "id": "7315ca9c",
   "metadata": {},
   "outputs": [
    {
     "data": {
      "text/plain": [
       "'Hello World\\n'"
      ]
     },
     "execution_count": 31,
     "metadata": {},
     "output_type": "execute_result"
    }
   ],
   "source": [
    "file.readline() # Reads the file line by line."
   ]
  },
  {
   "cell_type": "code",
   "execution_count": 34,
   "id": "c651f8f1",
   "metadata": {},
   "outputs": [
    {
     "data": {
      "text/plain": [
       "['Hello World\\n', 'Hello Abhishek\\n', 'Abhishek Verma']"
      ]
     },
     "execution_count": 34,
     "metadata": {},
     "output_type": "execute_result"
    }
   ],
   "source": [
    "file.readlines() # Reads the file in one go, but it creates the list of lines in the file."
   ]
  },
  {
   "cell_type": "code",
   "execution_count": 35,
   "id": "f75bbd6f",
   "metadata": {},
   "outputs": [],
   "source": [
    "file.close()"
   ]
  },
  {
   "cell_type": "markdown",
   "id": "2121aa11",
   "metadata": {},
   "source": [
    "### Moving the cursor\n",
    "- seek(n): takes the file handle to the nth byte from the begenning."
   ]
  },
  {
   "cell_type": "code",
   "execution_count": 36,
   "id": "4210aabc",
   "metadata": {},
   "outputs": [],
   "source": [
    "file = open(\"hello.txt\",\"r\")"
   ]
  },
  {
   "cell_type": "code",
   "execution_count": 37,
   "id": "479ea4ce",
   "metadata": {},
   "outputs": [
    {
     "data": {
      "text/plain": [
       "'Hello'"
      ]
     },
     "execution_count": 37,
     "metadata": {},
     "output_type": "execute_result"
    }
   ],
   "source": [
    "file.read(5)"
   ]
  },
  {
   "cell_type": "code",
   "execution_count": 38,
   "id": "9110f6cc",
   "metadata": {},
   "outputs": [
    {
     "data": {
      "text/plain": [
       "' World\\nHello Abhishek\\nAbhishek Verma'"
      ]
     },
     "execution_count": 38,
     "metadata": {},
     "output_type": "execute_result"
    }
   ],
   "source": [
    "file.read()"
   ]
  },
  {
   "cell_type": "code",
   "execution_count": 39,
   "id": "42788223",
   "metadata": {},
   "outputs": [
    {
     "data": {
      "text/plain": [
       "''"
      ]
     },
     "execution_count": 39,
     "metadata": {},
     "output_type": "execute_result"
    }
   ],
   "source": [
    "file.read()"
   ]
  },
  {
   "cell_type": "code",
   "execution_count": 42,
   "id": "752c4078",
   "metadata": {},
   "outputs": [
    {
     "data": {
      "text/plain": [
       "0"
      ]
     },
     "execution_count": 42,
     "metadata": {},
     "output_type": "execute_result"
    }
   ],
   "source": [
    "file.seek(0) # Now it moves the cursor to the oth byte."
   ]
  },
  {
   "cell_type": "code",
   "execution_count": 43,
   "id": "3c0a601c",
   "metadata": {},
   "outputs": [
    {
     "data": {
      "text/plain": [
       "'Hello World\\nHello Abhishek\\nAbhishek Verma'"
      ]
     },
     "execution_count": 43,
     "metadata": {},
     "output_type": "execute_result"
    }
   ],
   "source": [
    "file.read()"
   ]
  },
  {
   "cell_type": "code",
   "execution_count": 44,
   "id": "d35af6a3",
   "metadata": {},
   "outputs": [],
   "source": [
    "file.close()"
   ]
  },
  {
   "cell_type": "markdown",
   "id": "87bac55d",
   "metadata": {},
   "source": [
    "### Smarter way of opening files...\n",
    "- With the \"with\" statement, you get better syntax and exceptions handling.\n",
    "\n",
    "- \"The with ststement simplifies exception handling by encapsulating common preparation and cleanup tasks.\"\n",
    "\n",
    "- In addition, it will automatically close the file. The with statement provides a way for ensuring that a clean-up is always used."
   ]
  },
  {
   "cell_type": "code",
   "execution_count": 49,
   "id": "5d3cbc66",
   "metadata": {},
   "outputs": [
    {
     "name": "stdout",
     "output_type": "stream",
     "text": [
      "Hello World\n",
      "Hello Abhishek\n",
      "Abhishek Verma\n",
      " World\n",
      "Hello Abhishek\n",
      "Abhishek Verma\n"
     ]
    },
    {
     "ename": "ValueError",
     "evalue": "I/O operation on closed file.",
     "output_type": "error",
     "traceback": [
      "\u001b[1;31m---------------------------------------------------------------------------\u001b[0m",
      "\u001b[1;31mValueError\u001b[0m                                Traceback (most recent call last)",
      "\u001b[1;32m<ipython-input-49-dacffa1e3788>\u001b[0m in \u001b[0;36m<module>\u001b[1;34m\u001b[0m\n\u001b[0;32m      3\u001b[0m     \u001b[0mfile\u001b[0m\u001b[1;33m.\u001b[0m\u001b[0mseek\u001b[0m\u001b[1;33m(\u001b[0m\u001b[1;36m5\u001b[0m\u001b[1;33m)\u001b[0m\u001b[1;33m\u001b[0m\u001b[1;33m\u001b[0m\u001b[0m\n\u001b[0;32m      4\u001b[0m     \u001b[0mprint\u001b[0m\u001b[1;33m(\u001b[0m\u001b[0mfile\u001b[0m\u001b[1;33m.\u001b[0m\u001b[0mread\u001b[0m\u001b[1;33m(\u001b[0m\u001b[1;33m)\u001b[0m\u001b[1;33m)\u001b[0m\u001b[1;33m\u001b[0m\u001b[1;33m\u001b[0m\u001b[0m\n\u001b[1;32m----> 5\u001b[1;33m \u001b[0mfile\u001b[0m\u001b[1;33m.\u001b[0m\u001b[0mread\u001b[0m\u001b[1;33m(\u001b[0m\u001b[1;33m)\u001b[0m \u001b[1;31m#incorrect statement. Not outside the with block. Here we are performing the operation on a closed file.\u001b[0m\u001b[1;33m\u001b[0m\u001b[1;33m\u001b[0m\u001b[0m\n\u001b[0m",
      "\u001b[1;31mValueError\u001b[0m: I/O operation on closed file."
     ]
    }
   ],
   "source": [
    "with open(\"hello.txt\",\"r\") as file: #open this file in read mode and the resultant of this file will be stored in this file object.\n",
    "    print(file.read())\n",
    "    file.seek(5)\n",
    "    print(file.read())\n",
    "file.read() #incorrect statement. Not outside the with block. Here we are performing the operation on a closed file."
   ]
  }
 ],
 "metadata": {
  "kernelspec": {
   "display_name": "Python 3",
   "language": "python",
   "name": "python3"
  },
  "language_info": {
   "codemirror_mode": {
    "name": "ipython",
    "version": 3
   },
   "file_extension": ".py",
   "mimetype": "text/x-python",
   "name": "python",
   "nbconvert_exporter": "python",
   "pygments_lexer": "ipython3",
   "version": "3.8.8"
  }
 },
 "nbformat": 4,
 "nbformat_minor": 5
}
